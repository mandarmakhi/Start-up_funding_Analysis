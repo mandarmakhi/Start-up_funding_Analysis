{
 "cells": [
  {
   "cell_type": "markdown",
   "metadata": {},
   "source": [
    "#  Startup Funding Analysis\n",
    "#### Possible questions which could be answered are:\n",
    "#### ● How does the funding ecosystem change with time?\n",
    "#### ● Do cities play a major role in funding?\n",
    "#### ● Which industries are favored by investors for funding?\n",
    "#### ● Who are the important investors in the Indian Ecosystem?\n",
    "#### ● How much funds do startups generally get in India?"
   ]
  },
  {
   "cell_type": "code",
   "execution_count": 1,
   "metadata": {},
   "outputs": [],
   "source": [
    "#Importing libraries\n",
    "\n",
    "\n",
    "import numpy as np\n",
    "import pandas as pd\n",
    "import matplotlib.pyplot as plt\n",
    "import seaborn as sns\n",
    "%matplotlib inline\n",
    "import warnings\n",
    "warnings.filterwarnings('ignore')\n",
    "import datetime as dt\n",
    "import matplotlib.pyplot as plt\n",
    "import warnings\n",
    "warnings.filterwarnings(\"ignore\")\n",
    "plt.style.use('seaborn')\n",
    "from sklearn.ensemble import VotingClassifier, BaggingClassifier, RandomForestClassifier, RandomForestRegressor\n",
    "from mlxtend.classifier import StackingClassifier\n",
    "import seaborn as sns\n",
    "import math\n",
    "from sklearn import datasets, linear_model, metrics\n",
    "from sklearn.metrics import mean_squared_error, r2_score, accuracy_score, confusion_matrix, f1_score, log_loss, make_scorer\n",
    "from sklearn.linear_model import LinearRegression, Lasso, Ridge, ElasticNet, LogisticRegression\n",
    "from sklearn.model_selection import train_test_split\n",
    "from sklearn.preprocessing import PolynomialFeatures, StandardScaler, LabelEncoder\n",
    "from sklearn.pipeline import Pipeline\n",
    "from sklearn.datasets import make_classification\n",
    "from sklearn.model_selection import GridSearchCV,cross_val_score, RandomizedSearchCV\n",
    "from sklearn.metrics import classification_report, roc_auc_score, roc_curve, precision_score, recall_score\n",
    "from sklearn.tree import DecisionTreeClassifier, DecisionTreeRegressor\n",
    "from sklearn import tree\n",
    "import pydotplus\n",
    "from IPython.display import Image\n",
    "import io\n",
    "from sklearn.impute import SimpleImputer\n",
    "from xgboost import XGBClassifier, XGBRegressor\n",
    "import pickle\n",
    "from imblearn.under_sampling import RandomUnderSampler, ClusterCentroids, TomekLinks\n",
    "from imblearn.over_sampling import RandomOverSampler, SMOTE\n",
    "import numpy as np, pandas as pd\n",
    "from sklearn.cluster import KMeans, SpectralClustering\n",
    "from sklearn.datasets import load_iris\n",
    "import sklearn.cluster as cluster\n",
    "import time\n",
    "from scipy.cluster.hierarchy import dendrogram, linkage\n",
    "from sklearn.pipeline import Pipeline\n",
    "from sklearn.impute import SimpleImputer\n",
    "from pandas.plotting import scatter_matrix\n",
    "import os\n",
    "\n"
   ]
  },
  {
   "cell_type": "code",
   "execution_count": 2,
   "metadata": {},
   "outputs": [],
   "source": [
    "#Reading csv file using pandas\n",
    "df=pd.read_csv('C:/Users/Mandar/Desktop/startup funding/startup__funding.csv')"
   ]
  },
  {
   "cell_type": "code",
   "execution_count": 3,
   "metadata": {
    "scrolled": true
   },
   "outputs": [
    {
     "data": {
      "text/html": [
       "<div>\n",
       "<style scoped>\n",
       "    .dataframe tbody tr th:only-of-type {\n",
       "        vertical-align: middle;\n",
       "    }\n",
       "\n",
       "    .dataframe tbody tr th {\n",
       "        vertical-align: top;\n",
       "    }\n",
       "\n",
       "    .dataframe thead th {\n",
       "        text-align: right;\n",
       "    }\n",
       "</style>\n",
       "<table border=\"1\" class=\"dataframe\">\n",
       "  <thead>\n",
       "    <tr style=\"text-align: right;\">\n",
       "      <th></th>\n",
       "      <th>SNo</th>\n",
       "      <th>Date</th>\n",
       "      <th>StartupName</th>\n",
       "      <th>IndustryVertical</th>\n",
       "      <th>SubVertical</th>\n",
       "      <th>CityLocation</th>\n",
       "      <th>Investorname</th>\n",
       "      <th>InvestmentnType</th>\n",
       "      <th>AmountinUSD</th>\n",
       "      <th>Remarks</th>\n",
       "      <th>State</th>\n",
       "    </tr>\n",
       "  </thead>\n",
       "  <tbody>\n",
       "    <tr>\n",
       "      <th>0</th>\n",
       "      <td>0</td>\n",
       "      <td>05-09-2019</td>\n",
       "      <td>FPL Technologies</td>\n",
       "      <td>FinTech</td>\n",
       "      <td>Financial Services</td>\n",
       "      <td>Pune</td>\n",
       "      <td>Matrix Partners India, Sequoia India</td>\n",
       "      <td>Maiden Round</td>\n",
       "      <td>4500000</td>\n",
       "      <td>NaN</td>\n",
       "      <td>Maharashtra</td>\n",
       "    </tr>\n",
       "    <tr>\n",
       "      <th>1</th>\n",
       "      <td>1</td>\n",
       "      <td>04-09-2019</td>\n",
       "      <td>Cashflo</td>\n",
       "      <td>FinTech</td>\n",
       "      <td>Invoice discounting platform and SME lending m...</td>\n",
       "      <td>Mumbai</td>\n",
       "      <td>SAIF Partners</td>\n",
       "      <td>Series</td>\n",
       "      <td>3300000</td>\n",
       "      <td>NaN</td>\n",
       "      <td>Maharashtra</td>\n",
       "    </tr>\n",
       "    <tr>\n",
       "      <th>2</th>\n",
       "      <td>2</td>\n",
       "      <td>04-09-2019</td>\n",
       "      <td>Digital F5</td>\n",
       "      <td>Advertising, Marketing</td>\n",
       "      <td>Digital marketing firm</td>\n",
       "      <td>Mumbai</td>\n",
       "      <td>TIW Private Equity</td>\n",
       "      <td>Private Equity Round</td>\n",
       "      <td>6000000</td>\n",
       "      <td>NaN</td>\n",
       "      <td>Maharashtra</td>\n",
       "    </tr>\n",
       "    <tr>\n",
       "      <th>3</th>\n",
       "      <td>3</td>\n",
       "      <td>04-09-2019</td>\n",
       "      <td>3rdFlix</td>\n",
       "      <td>SaaS</td>\n",
       "      <td>Education Technology</td>\n",
       "      <td>Hyderabad</td>\n",
       "      <td>Exfinity Venture Partners</td>\n",
       "      <td>Private Equity Round</td>\n",
       "      <td>5000000</td>\n",
       "      <td>NaN</td>\n",
       "      <td>Telangana</td>\n",
       "    </tr>\n",
       "    <tr>\n",
       "      <th>4</th>\n",
       "      <td>4</td>\n",
       "      <td>04-09-2019</td>\n",
       "      <td>75F</td>\n",
       "      <td>IoT</td>\n",
       "      <td>Building automation system</td>\n",
       "      <td>Mumbai</td>\n",
       "      <td>Breakthrough Energy Ventures</td>\n",
       "      <td>Series</td>\n",
       "      <td>18000000</td>\n",
       "      <td>NaN</td>\n",
       "      <td>Maharashtra</td>\n",
       "    </tr>\n",
       "  </tbody>\n",
       "</table>\n",
       "</div>"
      ],
      "text/plain": [
       "   SNo        Date       StartupName        IndustryVertical  \\\n",
       "0    0  05-09-2019  FPL Technologies                 FinTech   \n",
       "1    1  04-09-2019           Cashflo                 FinTech   \n",
       "2    2  04-09-2019        Digital F5  Advertising, Marketing   \n",
       "3    3  04-09-2019           3rdFlix                    SaaS   \n",
       "4    4  04-09-2019               75F                     IoT   \n",
       "\n",
       "                                         SubVertical CityLocation  \\\n",
       "0                                 Financial Services         Pune   \n",
       "1  Invoice discounting platform and SME lending m...       Mumbai   \n",
       "2                             Digital marketing firm       Mumbai   \n",
       "3                               Education Technology    Hyderabad   \n",
       "4                         Building automation system       Mumbai   \n",
       "\n",
       "                           Investorname       InvestmentnType AmountinUSD  \\\n",
       "0  Matrix Partners India, Sequoia India          Maiden Round     4500000   \n",
       "1                         SAIF Partners               Series      3300000   \n",
       "2                    TIW Private Equity  Private Equity Round     6000000   \n",
       "3             Exfinity Venture Partners  Private Equity Round     5000000   \n",
       "4          Breakthrough Energy Ventures               Series     18000000   \n",
       "\n",
       "  Remarks        State  \n",
       "0     NaN  Maharashtra  \n",
       "1     NaN  Maharashtra  \n",
       "2     NaN  Maharashtra  \n",
       "3     NaN    Telangana  \n",
       "4     NaN  Maharashtra  "
      ]
     },
     "execution_count": 3,
     "metadata": {},
     "output_type": "execute_result"
    }
   ],
   "source": [
    "#Checking the head files\n",
    "df.head()"
   ]
  },
  {
   "cell_type": "code",
   "execution_count": 4,
   "metadata": {},
   "outputs": [],
   "source": [
    "#Droppin irrelevant columns\n",
    "df.drop(['SNo','Remarks'],axis=1,inplace=True)"
   ]
  },
  {
   "cell_type": "code",
   "execution_count": 5,
   "metadata": {},
   "outputs": [
    {
     "data": {
      "text/html": [
       "<div>\n",
       "<style scoped>\n",
       "    .dataframe tbody tr th:only-of-type {\n",
       "        vertical-align: middle;\n",
       "    }\n",
       "\n",
       "    .dataframe tbody tr th {\n",
       "        vertical-align: top;\n",
       "    }\n",
       "\n",
       "    .dataframe thead th {\n",
       "        text-align: right;\n",
       "    }\n",
       "</style>\n",
       "<table border=\"1\" class=\"dataframe\">\n",
       "  <thead>\n",
       "    <tr style=\"text-align: right;\">\n",
       "      <th></th>\n",
       "      <th>Date</th>\n",
       "      <th>StartupName</th>\n",
       "      <th>IndustryVertical</th>\n",
       "      <th>SubVertical</th>\n",
       "      <th>CityLocation</th>\n",
       "      <th>Investorname</th>\n",
       "      <th>InvestmentnType</th>\n",
       "      <th>AmountinUSD</th>\n",
       "      <th>State</th>\n",
       "    </tr>\n",
       "  </thead>\n",
       "  <tbody>\n",
       "    <tr>\n",
       "      <th>0</th>\n",
       "      <td>05-09-2019</td>\n",
       "      <td>FPL Technologies</td>\n",
       "      <td>FinTech</td>\n",
       "      <td>Financial Services</td>\n",
       "      <td>Pune</td>\n",
       "      <td>Matrix Partners India, Sequoia India</td>\n",
       "      <td>Maiden Round</td>\n",
       "      <td>4500000</td>\n",
       "      <td>Maharashtra</td>\n",
       "    </tr>\n",
       "    <tr>\n",
       "      <th>1</th>\n",
       "      <td>04-09-2019</td>\n",
       "      <td>Cashflo</td>\n",
       "      <td>FinTech</td>\n",
       "      <td>Invoice discounting platform and SME lending m...</td>\n",
       "      <td>Mumbai</td>\n",
       "      <td>SAIF Partners</td>\n",
       "      <td>Series</td>\n",
       "      <td>3300000</td>\n",
       "      <td>Maharashtra</td>\n",
       "    </tr>\n",
       "    <tr>\n",
       "      <th>2</th>\n",
       "      <td>04-09-2019</td>\n",
       "      <td>Digital F5</td>\n",
       "      <td>Advertising, Marketing</td>\n",
       "      <td>Digital marketing firm</td>\n",
       "      <td>Mumbai</td>\n",
       "      <td>TIW Private Equity</td>\n",
       "      <td>Private Equity Round</td>\n",
       "      <td>6000000</td>\n",
       "      <td>Maharashtra</td>\n",
       "    </tr>\n",
       "    <tr>\n",
       "      <th>3</th>\n",
       "      <td>04-09-2019</td>\n",
       "      <td>3rdFlix</td>\n",
       "      <td>SaaS</td>\n",
       "      <td>Education Technology</td>\n",
       "      <td>Hyderabad</td>\n",
       "      <td>Exfinity Venture Partners</td>\n",
       "      <td>Private Equity Round</td>\n",
       "      <td>5000000</td>\n",
       "      <td>Telangana</td>\n",
       "    </tr>\n",
       "    <tr>\n",
       "      <th>4</th>\n",
       "      <td>04-09-2019</td>\n",
       "      <td>75F</td>\n",
       "      <td>IoT</td>\n",
       "      <td>Building automation system</td>\n",
       "      <td>Mumbai</td>\n",
       "      <td>Breakthrough Energy Ventures</td>\n",
       "      <td>Series</td>\n",
       "      <td>18000000</td>\n",
       "      <td>Maharashtra</td>\n",
       "    </tr>\n",
       "  </tbody>\n",
       "</table>\n",
       "</div>"
      ],
      "text/plain": [
       "         Date       StartupName        IndustryVertical  \\\n",
       "0  05-09-2019  FPL Technologies                 FinTech   \n",
       "1  04-09-2019           Cashflo                 FinTech   \n",
       "2  04-09-2019        Digital F5  Advertising, Marketing   \n",
       "3  04-09-2019           3rdFlix                    SaaS   \n",
       "4  04-09-2019               75F                     IoT   \n",
       "\n",
       "                                         SubVertical CityLocation  \\\n",
       "0                                 Financial Services         Pune   \n",
       "1  Invoice discounting platform and SME lending m...       Mumbai   \n",
       "2                             Digital marketing firm       Mumbai   \n",
       "3                               Education Technology    Hyderabad   \n",
       "4                         Building automation system       Mumbai   \n",
       "\n",
       "                           Investorname       InvestmentnType AmountinUSD  \\\n",
       "0  Matrix Partners India, Sequoia India          Maiden Round     4500000   \n",
       "1                         SAIF Partners               Series      3300000   \n",
       "2                    TIW Private Equity  Private Equity Round     6000000   \n",
       "3             Exfinity Venture Partners  Private Equity Round     5000000   \n",
       "4          Breakthrough Energy Ventures               Series     18000000   \n",
       "\n",
       "         State  \n",
       "0  Maharashtra  \n",
       "1  Maharashtra  \n",
       "2  Maharashtra  \n",
       "3    Telangana  \n",
       "4  Maharashtra  "
      ]
     },
     "execution_count": 5,
     "metadata": {},
     "output_type": "execute_result"
    }
   ],
   "source": [
    "#Checking data again\n",
    "df.head()"
   ]
  },
  {
   "cell_type": "markdown",
   "metadata": {},
   "source": [
    "## Except dates and amount in usd columns all other features are categorical\n",
    "## We will take each row engineer them and do eda "
   ]
  },
  {
   "cell_type": "markdown",
   "metadata": {},
   "source": [
    "### 1) Date"
   ]
  },
  {
   "cell_type": "code",
   "execution_count": 6,
   "metadata": {},
   "outputs": [],
   "source": [
    "#Converting date column into type date\n",
    "df['Date']=pd.to_datetime(df['Date'])"
   ]
  },
  {
   "cell_type": "code",
   "execution_count": 7,
   "metadata": {},
   "outputs": [],
   "source": [
    "#Extracting month from date column\n",
    "df['month']=df['Date'].dt.month"
   ]
  },
  {
   "cell_type": "code",
   "execution_count": 8,
   "metadata": {},
   "outputs": [],
   "source": [
    "#Extracting year from date column\n",
    "\n",
    "df['year']=df['Date'].dt.year"
   ]
  },
  {
   "cell_type": "code",
   "execution_count": 9,
   "metadata": {},
   "outputs": [],
   "source": [
    "#Extracting year from date column\n",
    "\n",
    "df['quarter']=df['Date'].dt.quarter"
   ]
  },
  {
   "cell_type": "code",
   "execution_count": 10,
   "metadata": {},
   "outputs": [],
   "source": [
    "#Extracting days from date column\n",
    "\n",
    "df['day']=df['Date'].dt.day"
   ]
  },
  {
   "cell_type": "code",
   "execution_count": 11,
   "metadata": {},
   "outputs": [],
   "source": [
    "#Combining year and month together\n",
    "df[\"yearmonth\"] = (pd.to_datetime(df['Date'],format='%d/%m/%Y').dt.year*100)+ (pd.to_datetime(df['Date'],format='%d/%m/%Y').dt.month)"
   ]
  },
  {
   "cell_type": "code",
   "execution_count": 12,
   "metadata": {},
   "outputs": [],
   "source": [
    "year_month = df['yearmonth'].dropna().value_counts()"
   ]
  },
  {
   "cell_type": "code",
   "execution_count": 13,
   "metadata": {},
   "outputs": [],
   "source": [
    "#Dropping date column as we have all the information extracted\n",
    "df.drop('Date',axis=1,inplace=True)"
   ]
  },
  {
   "cell_type": "code",
   "execution_count": 14,
   "metadata": {},
   "outputs": [
    {
     "data": {
      "text/html": [
       "<div>\n",
       "<style scoped>\n",
       "    .dataframe tbody tr th:only-of-type {\n",
       "        vertical-align: middle;\n",
       "    }\n",
       "\n",
       "    .dataframe tbody tr th {\n",
       "        vertical-align: top;\n",
       "    }\n",
       "\n",
       "    .dataframe thead th {\n",
       "        text-align: right;\n",
       "    }\n",
       "</style>\n",
       "<table border=\"1\" class=\"dataframe\">\n",
       "  <thead>\n",
       "    <tr style=\"text-align: right;\">\n",
       "      <th></th>\n",
       "      <th>StartupName</th>\n",
       "      <th>IndustryVertical</th>\n",
       "      <th>SubVertical</th>\n",
       "      <th>CityLocation</th>\n",
       "      <th>Investorname</th>\n",
       "      <th>InvestmentnType</th>\n",
       "      <th>AmountinUSD</th>\n",
       "      <th>State</th>\n",
       "      <th>month</th>\n",
       "      <th>year</th>\n",
       "      <th>quarter</th>\n",
       "      <th>day</th>\n",
       "      <th>yearmonth</th>\n",
       "    </tr>\n",
       "  </thead>\n",
       "  <tbody>\n",
       "    <tr>\n",
       "      <th>0</th>\n",
       "      <td>FPL Technologies</td>\n",
       "      <td>FinTech</td>\n",
       "      <td>Financial Services</td>\n",
       "      <td>Pune</td>\n",
       "      <td>Matrix Partners India, Sequoia India</td>\n",
       "      <td>Maiden Round</td>\n",
       "      <td>4500000</td>\n",
       "      <td>Maharashtra</td>\n",
       "      <td>5</td>\n",
       "      <td>2019</td>\n",
       "      <td>2</td>\n",
       "      <td>9</td>\n",
       "      <td>201905</td>\n",
       "    </tr>\n",
       "    <tr>\n",
       "      <th>1</th>\n",
       "      <td>Cashflo</td>\n",
       "      <td>FinTech</td>\n",
       "      <td>Invoice discounting platform and SME lending m...</td>\n",
       "      <td>Mumbai</td>\n",
       "      <td>SAIF Partners</td>\n",
       "      <td>Series</td>\n",
       "      <td>3300000</td>\n",
       "      <td>Maharashtra</td>\n",
       "      <td>4</td>\n",
       "      <td>2019</td>\n",
       "      <td>2</td>\n",
       "      <td>9</td>\n",
       "      <td>201904</td>\n",
       "    </tr>\n",
       "    <tr>\n",
       "      <th>2</th>\n",
       "      <td>Digital F5</td>\n",
       "      <td>Advertising, Marketing</td>\n",
       "      <td>Digital marketing firm</td>\n",
       "      <td>Mumbai</td>\n",
       "      <td>TIW Private Equity</td>\n",
       "      <td>Private Equity Round</td>\n",
       "      <td>6000000</td>\n",
       "      <td>Maharashtra</td>\n",
       "      <td>4</td>\n",
       "      <td>2019</td>\n",
       "      <td>2</td>\n",
       "      <td>9</td>\n",
       "      <td>201904</td>\n",
       "    </tr>\n",
       "    <tr>\n",
       "      <th>3</th>\n",
       "      <td>3rdFlix</td>\n",
       "      <td>SaaS</td>\n",
       "      <td>Education Technology</td>\n",
       "      <td>Hyderabad</td>\n",
       "      <td>Exfinity Venture Partners</td>\n",
       "      <td>Private Equity Round</td>\n",
       "      <td>5000000</td>\n",
       "      <td>Telangana</td>\n",
       "      <td>4</td>\n",
       "      <td>2019</td>\n",
       "      <td>2</td>\n",
       "      <td>9</td>\n",
       "      <td>201904</td>\n",
       "    </tr>\n",
       "    <tr>\n",
       "      <th>4</th>\n",
       "      <td>75F</td>\n",
       "      <td>IoT</td>\n",
       "      <td>Building automation system</td>\n",
       "      <td>Mumbai</td>\n",
       "      <td>Breakthrough Energy Ventures</td>\n",
       "      <td>Series</td>\n",
       "      <td>18000000</td>\n",
       "      <td>Maharashtra</td>\n",
       "      <td>4</td>\n",
       "      <td>2019</td>\n",
       "      <td>2</td>\n",
       "      <td>9</td>\n",
       "      <td>201904</td>\n",
       "    </tr>\n",
       "  </tbody>\n",
       "</table>\n",
       "</div>"
      ],
      "text/plain": [
       "        StartupName        IndustryVertical  \\\n",
       "0  FPL Technologies                 FinTech   \n",
       "1           Cashflo                 FinTech   \n",
       "2        Digital F5  Advertising, Marketing   \n",
       "3           3rdFlix                    SaaS   \n",
       "4               75F                     IoT   \n",
       "\n",
       "                                         SubVertical CityLocation  \\\n",
       "0                                 Financial Services         Pune   \n",
       "1  Invoice discounting platform and SME lending m...       Mumbai   \n",
       "2                             Digital marketing firm       Mumbai   \n",
       "3                               Education Technology    Hyderabad   \n",
       "4                         Building automation system       Mumbai   \n",
       "\n",
       "                           Investorname       InvestmentnType AmountinUSD  \\\n",
       "0  Matrix Partners India, Sequoia India          Maiden Round     4500000   \n",
       "1                         SAIF Partners               Series      3300000   \n",
       "2                    TIW Private Equity  Private Equity Round     6000000   \n",
       "3             Exfinity Venture Partners  Private Equity Round     5000000   \n",
       "4          Breakthrough Energy Ventures               Series     18000000   \n",
       "\n",
       "         State  month  year  quarter  day  yearmonth  \n",
       "0  Maharashtra      5  2019        2    9     201905  \n",
       "1  Maharashtra      4  2019        2    9     201904  \n",
       "2  Maharashtra      4  2019        2    9     201904  \n",
       "3    Telangana      4  2019        2    9     201904  \n",
       "4  Maharashtra      4  2019        2    9     201904  "
      ]
     },
     "execution_count": 14,
     "metadata": {},
     "output_type": "execute_result"
    }
   ],
   "source": [
    "#Calculating percentage of all the date categories for eda\n",
    "year=df['year'].value_counts()/len(df['year'])*100\n",
    "month=df['month'].value_counts()/len(df['month'])*100\n",
    "quarter=df['quarter'].value_counts()/len(df['quarter'])*100\n",
    "day=df['day'].value_counts()/len(df['day'])*100\n",
    "df.head()"
   ]
  },
  {
   "cell_type": "markdown",
   "metadata": {},
   "source": [
    "#### ● How does the funding ecosystem change with time?\n"
   ]
  },
  {
   "cell_type": "code",
   "execution_count": 15,
   "metadata": {},
   "outputs": [
    {
     "data": {
      "image/png": "[encoded data removed]",
      "text/plain": [
       "<Figure size 1080x576 with 1 Axes>"
      ]
     },
     "metadata": {
      "needs_background": "light"
     },
     "output_type": "display_data"
    }
   ],
   "source": [
    "#Plotting funding according to its timeline\n",
    "plt.figure(figsize=(15,8))\n",
    "sns.barplot(year_month.index, year_month.values, alpha=0.9,color='skyblue')\n",
    "\n",
    "plt.xticks(rotation='vertical')\n",
    "plt.xlabel('Year-Month ', fontsize=18)\n",
    "plt.ylabel('Number of fundings made', fontsize=18)\n",
    "plt.title(\"Year-Month - Number of Funding Distribution\", fontsize=20)\n",
    "plt.show()\n",
    "#There seems to be no trend in the amount of funding that has been made\n",
    "#but from 201612 to 201712 the funding has been gradually dropped"
   ]
  },
  {
   "cell_type": "code",
   "execution_count": 16,
   "metadata": {
    "scrolled": false
   },
   "outputs": [
    {
     "data": {
      "image/png": "[encoded data removed]",
      "text/plain": [
       "<Figure size 720x288 with 1 Axes>"
      ]
     },
     "metadata": {
      "needs_background": "light"
     },
     "output_type": "display_data"
    }
   ],
   "source": [
    "#Checking if there is trend in investment as per month\n",
    "plt.figure(figsize=(10,4))\n",
    "sns.barplot(month.index, month.values, alpha=0.9,color='skyblue')\n",
    "plt.title('Investment per month',fontsize=25)\n",
    "plt.xlabel('Month',fontsize=17)\n",
    "plt.ylabel('Number of investments',fontsize=17)\n",
    "plt.xticks(fontsize=13)\n",
    "plt.yticks(fontsize=13)\n",
    "plt.show()\n",
    "#There does not seem to be any trend but January and June seems to have the most number of investments"
   ]
  },
  {
   "cell_type": "code",
   "execution_count": 17,
   "metadata": {},
   "outputs": [
    {
     "data": {
      "image/png": "[encoded data removed]",
      "text/plain": [
       "<Figure size 504x432 with 1 Axes>"
      ]
     },
     "metadata": {
      "needs_background": "light"
     },
     "output_type": "display_data"
    }
   ],
   "source": [
    "#PLotting funding frequency according to year\n",
    "plt.figure(figsize=(7,6))\n",
    "sns.barplot(year.index, year.values, alpha=0.9,color='skyblue')\n",
    "plt.title('Investment per year',fontsize=19)\n",
    "plt.xlabel('Year',fontsize=16)\n",
    "plt.ylabel('Number of investments',fontsize=16)\n",
    "plt.xticks(fontsize=12)\n",
    "plt.yticks(fontsize=12)\n",
    "plt.show()\n",
    "#It looks like funding has increased from 2015 to 2016. \n",
    "#It makes sense if the funding for 2017 will be greater than 2016\n",
    "#But we have data for 2017 till october so we cannot really say if the investment has increased after 2017. \n",
    "#According to this data, investment has dropped from 39.6% to 18.6% from 2016 to 2017\n"
   ]
  },
  {
   "cell_type": "code",
   "execution_count": 18,
   "metadata": {},
   "outputs": [
    {
     "data": {
      "image/png": "[encoded data removed]",
      "text/plain": [
       "<Figure size 504x288 with 1 Axes>"
      ]
     },
     "metadata": {
      "needs_background": "light"
     },
     "output_type": "display_data"
    }
   ],
   "source": [
    "#Plotting funding frequency according to the quarter\n",
    "plt.figure(figsize=(7,4))\n",
    "sns.barplot(quarter.index, quarter.values, alpha=0.9,color='skyblue')\n",
    "plt.title(\"Investments per quarter\",fontsize=18)\n",
    "plt.xlabel('Quarter',fontsize=16)\n",
    "plt.ylabel('Number of investment',fontsize=16)\n",
    "plt.xticks(fontsize=14)\n",
    "plt.yticks(fontsize=11)\n",
    "plt.show()\n",
    "#First 2 quarter seems to have slightly more funding than 3rd and 4th quarter"
   ]
  },
  {
   "cell_type": "code",
   "execution_count": null,
   "metadata": {},
   "outputs": [],
   "source": []
  },
  {
   "cell_type": "markdown",
   "metadata": {},
   "source": [
    "### 2) AmountInUSD"
   ]
  },
  {
   "cell_type": "code",
   "execution_count": 19,
   "metadata": {},
   "outputs": [],
   "source": [
    "#Cleaning the target variable\n",
    "df['AmountinUSD']=(df['AmountinUSD'].str.replace(',','')).astype('float')"
   ]
  },
  {
   "cell_type": "code",
   "execution_count": 20,
   "metadata": {
    "scrolled": true
   },
   "outputs": [
    {
     "name": "stdout",
     "output_type": "stream",
     "text": [
      "Confidence point: 16975983.94\n",
      "From: 11794357.87\n",
      "To: 22157610.0\n",
      "Range: 10363252.13\n"
     ]
    }
   ],
   "source": [
    "#Making a function which gives 95% confidence point and interval, also the range between the lower and upper value.\n",
    "import scipy.stats as stats\n",
    "\n",
    "def mean_confidence_interval(data, confidence=0.95):\n",
    "    a = 1.0 * np.array(data)\n",
    "    n = len(a)\n",
    "    m, se = np.mean(a), stats.sem(a)\n",
    "    h = se * stats.t.ppf((1 + confidence) / 2., n-1)\n",
    "    print('Confidence point:',np.around(m,decimals=2))\n",
    "    print('From:',(np.around(m-h,decimals=2)))\n",
    "    print('To:',np.around(m+h,decimals=2))\n",
    "    print('Range:',(np.around((m+h)-(m-h),decimals=2)))\n",
    "    \n",
    "\n",
    "#Calculating 95% confidence interval for out target variable\n",
    "mean_confidence_interval(df['AmountinUSD'].dropna())"
   ]
  },
  {
   "cell_type": "code",
   "execution_count": 21,
   "metadata": {
    "scrolled": true
   },
   "outputs": [
    {
     "name": "stdout",
     "output_type": "stream",
     "text": [
      "2016\n",
      "******************************\n",
      "Confidence point: 6532574.42\n",
      "From: 4944105.32\n",
      "To: 8121043.51\n",
      "Range: 3176938.19\n",
      "\n",
      "\n",
      "2015\n",
      "******************************\n",
      "Confidence point: 13293952.66\n",
      "From: 9187722.45\n",
      "To: 17400182.86\n",
      "Range: 8212460.42\n",
      "\n",
      "\n",
      "2017\n",
      "******************************\n",
      "Confidence point: 22871293.27\n",
      "From: 8882981.56\n",
      "To: 36859604.98\n",
      "Range: 27976623.41\n",
      "\n",
      "\n",
      "2018\n",
      "******************************\n",
      "Confidence point: 19329691.96\n",
      "From: 12854244.45\n",
      "To: 25805139.47\n",
      "Range: 12950895.02\n",
      "\n",
      "\n",
      "2019\n",
      "******************************\n",
      "Confidence point: 82673686.96\n",
      "From: -15836275.3\n",
      "To: 181183649.23\n",
      "Range: 197019924.52\n",
      "\n",
      "\n"
     ]
    }
   ],
   "source": [
    "#Printing confidence interval as per year\n",
    "for x in df['year'].value_counts().index:\n",
    "    print(x)\n",
    "    print('*'*30)\n",
    "    mean_confidence_interval((df['AmountinUSD'][df['year']==x]).dropna())\n",
    "    print('\\n')"
   ]
  },
  {
   "cell_type": "code",
   "execution_count": 22,
   "metadata": {
    "scrolled": true
   },
   "outputs": [
    {
     "name": "stdout",
     "output_type": "stream",
     "text": [
      "StartupName\n",
      "******************************\n",
      "Swiggy\n",
      "******************************\n",
      "Confidence point: 33812500.0\n",
      "From: 3415400.85\n",
      "To: 64209599.15\n",
      "Range: 60794198.3\n",
      "\n",
      "\n",
      "******************************\n",
      "Ola Cabs\n",
      "******************************\n",
      "Confidence point: 95671428.57\n",
      "From: -3154541.98\n",
      "To: 194497399.12\n",
      "Range: 197651941.1\n",
      "\n",
      "\n",
      "******************************\n",
      "UrbanClap\n",
      "******************************\n",
      "Confidence point: 12140000.0\n",
      "From: -901491.99\n",
      "To: 25181491.99\n",
      "Range: 26082983.98\n",
      "\n",
      "\n",
      "IndustryVertical\n",
      "******************************\n",
      "Consumer Internet\n",
      "******************************\n",
      "Confidence point: 10616441.84\n",
      "From: 7927665.46\n",
      "To: 13305218.23\n",
      "Range: 5377552.77\n",
      "\n",
      "\n",
      "******************************\n",
      "Technology\n",
      "******************************\n",
      "Confidence point: 7154895.88\n",
      "From: 5421246.17\n",
      "To: 8888545.59\n",
      "Range: 3467299.42\n",
      "\n",
      "\n",
      "******************************\n",
      "eCommerce\n",
      "******************************\n",
      "Confidence point: 39702642.86\n",
      "From: -5164579.19\n",
      "To: 84569864.91\n",
      "Range: 89734444.1\n",
      "\n",
      "\n",
      "SubVertical\n",
      "******************************\n",
      "Online Lending Platform\n",
      "******************************\n",
      "Confidence point: 23263636.36\n",
      "From: 6126036.08\n",
      "To: 40401236.65\n",
      "Range: 34275200.57\n",
      "\n",
      "\n",
      "******************************\n",
      "Online Pharmacy\n",
      "******************************\n",
      "Confidence point: 13400000.0\n",
      "From: 7279213.57\n",
      "To: 19520786.43\n",
      "Range: 12241572.85\n",
      "\n",
      "\n",
      "******************************\n",
      "Food Delivery Platform\n",
      "******************************\n",
      "Confidence point: 2875000.0\n",
      "From: -1826294.77\n",
      "To: 7576294.77\n",
      "Range: 9402589.54\n",
      "\n",
      "\n",
      "CityLocation\n",
      "******************************\n",
      "Bangalore\n",
      "******************************\n",
      "Confidence point: 30100943.4\n",
      "From: 12767458.23\n",
      "To: 47434428.57\n",
      "Range: 34666970.34\n",
      "\n",
      "\n",
      "******************************\n",
      "Mumbai\n",
      "******************************\n",
      "Confidence point: 14751683.15\n",
      "From: 10164284.68\n",
      "To: 19339081.61\n",
      "Range: 9174796.93\n",
      "\n",
      "\n",
      "******************************\n",
      "New Delhi\n",
      "******************************\n",
      "Confidence point: 12962466.97\n",
      "From: 5665692.7\n",
      "To: 20259241.25\n",
      "Range: 14593548.55\n",
      "\n",
      "\n",
      "Investorname\n",
      "******************************\n",
      "Undisclosed Investors\n",
      "******************************\n",
      "Confidence point: 3902347.37\n",
      "From: -1739439.78\n",
      "To: 9544134.52\n",
      "Range: 11283574.3\n",
      "\n",
      "\n",
      "******************************\n",
      "Ratan Tata\n",
      "******************************\n",
      "Confidence point: 5367500.0\n",
      "From: -56035234.39\n",
      "To: 66770234.39\n",
      "Range: 122805468.78\n",
      "\n",
      "\n",
      "******************************\n",
      "Indian Angel Network\n",
      "******************************\n",
      "Confidence point: 573636.36\n",
      "From: 293400.74\n",
      "To: 853871.99\n",
      "Range: 560471.25\n",
      "\n",
      "\n",
      "InvestmentnType\n",
      "******************************\n",
      "Seed Funding\n",
      "******************************\n",
      "Confidence point: 639877.84\n",
      "From: 379456.04\n",
      "To: 900299.64\n",
      "Range: 520843.6\n",
      "\n",
      "\n",
      "******************************\n",
      "Private Equity Round\n",
      "******************************\n",
      "Confidence point: 24917581.25\n",
      "From: 18349783.89\n",
      "To: 31485378.61\n",
      "Range: 13135594.72\n",
      "\n",
      "\n",
      "******************************\n",
      "Angel Funding\n",
      "******************************\n",
      "Confidence point: 1117779.95\n",
      "From: 717759.31\n",
      "To: 1517800.6\n",
      "Range: 800041.29\n",
      "\n",
      "\n"
     ]
    }
   ],
   "source": [
    "#Printing confidence interval for top all top3 categories\n",
    "for cols in df.columns[0:6]:\n",
    "    print(cols)\n",
    "    for x in df[cols].value_counts()[0:3].index:\n",
    "        print('*'*30)        \n",
    "\n",
    "        print(x)\n",
    "        \n",
    "        print('*'*30)\n",
    "        \n",
    "        mean_confidence_interval((df['AmountinUSD'][df[cols]==x]).dropna())\n",
    "        \n",
    "        print('\\n')"
   ]
  },
  {
   "cell_type": "code",
   "execution_count": 23,
   "metadata": {
    "scrolled": true
   },
   "outputs": [
    {
     "name": "stdout",
     "output_type": "stream",
     "text": [
      "skewness 23.47016718470771\n",
      "kurtosis 666.9921409151466\n",
      "median   1580000.0\n",
      "count    2.033000e+03\n",
      "mean     1.697598e+07\n",
      "std      1.191319e+08\n",
      "min      1.600000e+04\n",
      "25%      4.500000e+05\n",
      "50%      1.580000e+06\n",
      "75%      7.600000e+06\n",
      "max      3.900000e+09\n",
      "Name: AmountinUSD, dtype: float64\n"
     ]
    }
   ],
   "source": [
    "#Statistics for Amount of investment\n",
    "#The amount that is invested seems to be very flexible\n",
    "print('skewness',df['AmountinUSD'].skew())\n",
    "print('kurtosis',df['AmountinUSD'].kurtosis())\n",
    "print('median  ',df['AmountinUSD'].median())\n",
    "print(df['AmountinUSD'].describe())\n"
   ]
  },
  {
   "cell_type": "code",
   "execution_count": 24,
   "metadata": {},
   "outputs": [
    {
     "data": {
      "image/png": "[encoded data removed]",
      "text/plain": [
       "<Figure size 432x288 with 1 Axes>"
      ]
     },
     "execution_count": 24,
     "metadata": {},
     "output_type": "execute_result"
    },
    {
     "data": {
      "image/png": "[encoded data removed]",
      "text/plain": [
       "<Figure size 432x288 with 1 Axes>"
      ]
     },
     "metadata": {
      "needs_background": "light"
     },
     "output_type": "display_data"
    }
   ],
   "source": [
    "#Checking the distribution for the target variable AmountInUSD\n",
    "import statsmodels.api as sm\n",
    "sm.qqplot(df['AmountinUSD'].dropna())"
   ]
  },
  {
   "cell_type": "code",
   "execution_count": 25,
   "metadata": {},
   "outputs": [
    {
     "data": {
      "text/html": [
       "<div>\n",
       "<style scoped>\n",
       "    .dataframe tbody tr th:only-of-type {\n",
       "        vertical-align: middle;\n",
       "    }\n",
       "\n",
       "    .dataframe tbody tr th {\n",
       "        vertical-align: top;\n",
       "    }\n",
       "\n",
       "    .dataframe thead th {\n",
       "        text-align: right;\n",
       "    }\n",
       "</style>\n",
       "<table border=\"1\" class=\"dataframe\">\n",
       "  <thead>\n",
       "    <tr style=\"text-align: right;\">\n",
       "      <th></th>\n",
       "      <th>StartupName</th>\n",
       "      <th>IndustryVertical</th>\n",
       "      <th>SubVertical</th>\n",
       "      <th>CityLocation</th>\n",
       "      <th>Investorname</th>\n",
       "      <th>InvestmentnType</th>\n",
       "      <th>AmountinUSD</th>\n",
       "      <th>State</th>\n",
       "      <th>month</th>\n",
       "      <th>year</th>\n",
       "      <th>quarter</th>\n",
       "      <th>day</th>\n",
       "      <th>yearmonth</th>\n",
       "    </tr>\n",
       "  </thead>\n",
       "  <tbody>\n",
       "    <tr>\n",
       "      <th>795</th>\n",
       "      <td>Paytm</td>\n",
       "      <td>ECommerce</td>\n",
       "      <td>Mobile Wallet &amp; ECommerce platform</td>\n",
       "      <td>Bangalore</td>\n",
       "      <td>SoftBank Group</td>\n",
       "      <td>Private Equity Round</td>\n",
       "      <td>1.400000e+09</td>\n",
       "      <td>Karnataka</td>\n",
       "      <td>5</td>\n",
       "      <td>2017</td>\n",
       "      <td>2</td>\n",
       "      <td>18</td>\n",
       "      <td>201705</td>\n",
       "    </tr>\n",
       "    <tr>\n",
       "      <th>931</th>\n",
       "      <td>Flipkart</td>\n",
       "      <td>eCommerce</td>\n",
       "      <td>ECommerce Marketplace</td>\n",
       "      <td>Bangalore</td>\n",
       "      <td>Microsoft, eBay, Tencent Holdings</td>\n",
       "      <td>Private Equity Round</td>\n",
       "      <td>1.400000e+09</td>\n",
       "      <td>Karnataka</td>\n",
       "      <td>3</td>\n",
       "      <td>2017</td>\n",
       "      <td>1</td>\n",
       "      <td>21</td>\n",
       "      <td>201703</td>\n",
       "    </tr>\n",
       "  </tbody>\n",
       "</table>\n",
       "</div>"
      ],
      "text/plain": [
       "    StartupName IndustryVertical                         SubVertical  \\\n",
       "795       Paytm        ECommerce  Mobile Wallet & ECommerce platform   \n",
       "931    Flipkart        eCommerce               ECommerce Marketplace   \n",
       "\n",
       "    CityLocation                       Investorname       InvestmentnType  \\\n",
       "795    Bangalore                     SoftBank Group  Private Equity Round   \n",
       "931    Bangalore  Microsoft, eBay, Tencent Holdings  Private Equity Round   \n",
       "\n",
       "      AmountinUSD      State  month  year  quarter  day  yearmonth  \n",
       "795  1.400000e+09  Karnataka      5  2017        2   18     201705  \n",
       "931  1.400000e+09  Karnataka      3  2017        1   21     201703  "
      ]
     },
     "execution_count": 25,
     "metadata": {},
     "output_type": "execute_result"
    }
   ],
   "source": [
    "#Analyzing the startup that got the max funding\n",
    "df[df['AmountinUSD']==1400000000.0]"
   ]
  },
  {
   "cell_type": "code",
   "execution_count": 26,
   "metadata": {
    "scrolled": true
   },
   "outputs": [
    {
     "data": {
      "text/html": [
       "<div>\n",
       "<style scoped>\n",
       "    .dataframe tbody tr th:only-of-type {\n",
       "        vertical-align: middle;\n",
       "    }\n",
       "\n",
       "    .dataframe tbody tr th {\n",
       "        vertical-align: top;\n",
       "    }\n",
       "\n",
       "    .dataframe thead th {\n",
       "        text-align: right;\n",
       "    }\n",
       "</style>\n",
       "<table border=\"1\" class=\"dataframe\">\n",
       "  <thead>\n",
       "    <tr style=\"text-align: right;\">\n",
       "      <th></th>\n",
       "      <th>StartupName</th>\n",
       "      <th>IndustryVertical</th>\n",
       "      <th>SubVertical</th>\n",
       "      <th>CityLocation</th>\n",
       "      <th>Investorname</th>\n",
       "      <th>InvestmentnType</th>\n",
       "      <th>AmountinUSD</th>\n",
       "      <th>State</th>\n",
       "      <th>month</th>\n",
       "      <th>year</th>\n",
       "      <th>quarter</th>\n",
       "      <th>day</th>\n",
       "      <th>yearmonth</th>\n",
       "    </tr>\n",
       "  </thead>\n",
       "  <tbody>\n",
       "    <tr>\n",
       "      <th>2972</th>\n",
       "      <td>Hostel Dunia</td>\n",
       "      <td>NaN</td>\n",
       "      <td>NaN</td>\n",
       "      <td>NaN</td>\n",
       "      <td>Hyderabad Angels (at Startup Heroes event)</td>\n",
       "      <td>Seed Funding</td>\n",
       "      <td>16000.0</td>\n",
       "      <td>NaN</td>\n",
       "      <td>1</td>\n",
       "      <td>2015</td>\n",
       "      <td>1</td>\n",
       "      <td>19</td>\n",
       "      <td>201501</td>\n",
       "    </tr>\n",
       "    <tr>\n",
       "      <th>2973</th>\n",
       "      <td>Play your sport</td>\n",
       "      <td>NaN</td>\n",
       "      <td>NaN</td>\n",
       "      <td>NaN</td>\n",
       "      <td>Hyderabad Angels (at Startup Heroes event)</td>\n",
       "      <td>Seed Funding</td>\n",
       "      <td>16000.0</td>\n",
       "      <td>NaN</td>\n",
       "      <td>1</td>\n",
       "      <td>2015</td>\n",
       "      <td>1</td>\n",
       "      <td>19</td>\n",
       "      <td>201501</td>\n",
       "    </tr>\n",
       "    <tr>\n",
       "      <th>2974</th>\n",
       "      <td>Yo Grad</td>\n",
       "      <td>NaN</td>\n",
       "      <td>NaN</td>\n",
       "      <td>NaN</td>\n",
       "      <td>Hyderabad Angels (at Startup Heroes event)</td>\n",
       "      <td>Seed Funding</td>\n",
       "      <td>16000.0</td>\n",
       "      <td>NaN</td>\n",
       "      <td>1</td>\n",
       "      <td>2015</td>\n",
       "      <td>1</td>\n",
       "      <td>19</td>\n",
       "      <td>201501</td>\n",
       "    </tr>\n",
       "    <tr>\n",
       "      <th>2975</th>\n",
       "      <td>Enabli</td>\n",
       "      <td>NaN</td>\n",
       "      <td>NaN</td>\n",
       "      <td>NaN</td>\n",
       "      <td>Hyderabad Angels (at Startup Heroes event)</td>\n",
       "      <td>Seed Funding</td>\n",
       "      <td>16000.0</td>\n",
       "      <td>NaN</td>\n",
       "      <td>1</td>\n",
       "      <td>2015</td>\n",
       "      <td>1</td>\n",
       "      <td>19</td>\n",
       "      <td>201501</td>\n",
       "    </tr>\n",
       "    <tr>\n",
       "      <th>2976</th>\n",
       "      <td>CBS</td>\n",
       "      <td>NaN</td>\n",
       "      <td>NaN</td>\n",
       "      <td>NaN</td>\n",
       "      <td>Hyderabad Angels (at Startup Heroes event)</td>\n",
       "      <td>Seed Funding</td>\n",
       "      <td>16000.0</td>\n",
       "      <td>NaN</td>\n",
       "      <td>1</td>\n",
       "      <td>2015</td>\n",
       "      <td>1</td>\n",
       "      <td>19</td>\n",
       "      <td>201501</td>\n",
       "    </tr>\n",
       "  </tbody>\n",
       "</table>\n",
       "</div>"
      ],
      "text/plain": [
       "          StartupName IndustryVertical SubVertical CityLocation  \\\n",
       "2972     Hostel Dunia              NaN         NaN          NaN   \n",
       "2973  Play your sport              NaN         NaN          NaN   \n",
       "2974          Yo Grad              NaN         NaN          NaN   \n",
       "2975           Enabli              NaN         NaN          NaN   \n",
       "2976              CBS              NaN         NaN          NaN   \n",
       "\n",
       "                                    Investorname InvestmentnType  AmountinUSD  \\\n",
       "2972  Hyderabad Angels (at Startup Heroes event)    Seed Funding      16000.0   \n",
       "2973  Hyderabad Angels (at Startup Heroes event)    Seed Funding      16000.0   \n",
       "2974  Hyderabad Angels (at Startup Heroes event)    Seed Funding      16000.0   \n",
       "2975  Hyderabad Angels (at Startup Heroes event)    Seed Funding      16000.0   \n",
       "2976  Hyderabad Angels (at Startup Heroes event)    Seed Funding      16000.0   \n",
       "\n",
       "     State  month  year  quarter  day  yearmonth  \n",
       "2972   NaN      1  2015        1   19     201501  \n",
       "2973   NaN      1  2015        1   19     201501  \n",
       "2974   NaN      1  2015        1   19     201501  \n",
       "2975   NaN      1  2015        1   19     201501  \n",
       "2976   NaN      1  2015        1   19     201501  "
      ]
     },
     "execution_count": 26,
     "metadata": {},
     "output_type": "execute_result"
    }
   ],
   "source": [
    "#Analyzing the startup that got the least funding\n",
    "df[df['AmountinUSD']==16000]"
   ]
  },
  {
   "cell_type": "markdown",
   "metadata": {},
   "source": [
    "#### Before doing eda of categorical variables we will clean the data frame\n",
    "#### After that we will divide the dataset into 2 different dataframes\n",
    "#### 1) All the data with no null values of AmountInUSD\n",
    "#### 1) All the data with only null values of AmountInUSD"
   ]
  },
  {
   "cell_type": "code",
   "execution_count": 27,
   "metadata": {},
   "outputs": [],
   "source": [
    "#Before splitting the dataset we will first clean the data"
   ]
  },
  {
   "cell_type": "markdown",
   "metadata": {},
   "source": [
    "### StartupName"
   ]
  },
  {
   "cell_type": "code",
   "execution_count": 28,
   "metadata": {},
   "outputs": [],
   "source": [
    "#There are many variables where the data is same but the name is different\n",
    "#First we will lower all the strings\n",
    "#Later we will personally rename all the variable names\n",
    "df['StartupName']=df['StartupName'].str.lower()"
   ]
  },
  {
   "cell_type": "code",
   "execution_count": 29,
   "metadata": {},
   "outputs": [],
   "source": [
    "df['StartupName']=df['StartupName'].replace(\"practo\",\"practo\")\n",
    "df['StartupName']=df['StartupName'].replace(\"couponmachine.in\",\"couponmachine\")\n",
    "df['StartupName']=df['StartupName'].replace(\"olacabs\",\"ola cabs\")\n",
    "df['StartupName']=df['StartupName'].replace(\"ola\",\"ola cabs\")\n",
    "df['StartupName']=df['StartupName'].replace(\"olipkart.com\",\"flipkart\")\n",
    "df['StartupName']=df['StartupName'].replace(\"paytm marketplace\",\"paytm\")\n",
    "df['StartupName'][df['StartupName']=='flipkart.com']='flipkart'\n",
    "\n",
    "df['StartupName'][df['StartupName']=='oyo']='oyo rooms'"
   ]
  },
  {
   "cell_type": "markdown",
   "metadata": {},
   "source": [
    "### Industry Vertical"
   ]
  },
  {
   "cell_type": "code",
   "execution_count": 30,
   "metadata": {},
   "outputs": [],
   "source": [
    "df['IndustryVertical']=df['IndustryVertical'].str.lower()"
   ]
  },
  {
   "cell_type": "markdown",
   "metadata": {},
   "source": [
    "### Industry Subvertical"
   ]
  },
  {
   "cell_type": "code",
   "execution_count": 31,
   "metadata": {},
   "outputs": [],
   "source": [
    "df['SubVertical']=df['SubVertical'].str.lower()"
   ]
  },
  {
   "cell_type": "markdown",
   "metadata": {},
   "source": [
    "### City Location"
   ]
  },
  {
   "cell_type": "code",
   "execution_count": 32,
   "metadata": {},
   "outputs": [],
   "source": [
    "df['CityLocation']=df['CityLocation'].str.lower().str[0:2]"
   ]
  },
  {
   "cell_type": "markdown",
   "metadata": {},
   "source": [
    "### Investor Name"
   ]
  },
  {
   "cell_type": "code",
   "execution_count": 33,
   "metadata": {},
   "outputs": [],
   "source": [
    "df['InvestmentnType']=df['InvestmentnType'].str.split(expand=True)[0].str.lower()"
   ]
  },
  {
   "cell_type": "markdown",
   "metadata": {},
   "source": [
    "### Investment Type"
   ]
  },
  {
   "cell_type": "code",
   "execution_count": 34,
   "metadata": {},
   "outputs": [],
   "source": [
    "df['InvestmentnType']=df['InvestmentnType'].str.lower().str[0]"
   ]
  },
  {
   "cell_type": "code",
   "execution_count": 35,
   "metadata": {
    "scrolled": false
   },
   "outputs": [
    {
     "data": {
      "text/html": [
       "<div>\n",
       "<style scoped>\n",
       "    .dataframe tbody tr th:only-of-type {\n",
       "        vertical-align: middle;\n",
       "    }\n",
       "\n",
       "    .dataframe tbody tr th {\n",
       "        vertical-align: top;\n",
       "    }\n",
       "\n",
       "    .dataframe thead th {\n",
       "        text-align: right;\n",
       "    }\n",
       "</style>\n",
       "<table border=\"1\" class=\"dataframe\">\n",
       "  <thead>\n",
       "    <tr style=\"text-align: right;\">\n",
       "      <th></th>\n",
       "      <th>StartupName</th>\n",
       "      <th>IndustryVertical</th>\n",
       "      <th>SubVertical</th>\n",
       "      <th>CityLocation</th>\n",
       "      <th>Investorname</th>\n",
       "      <th>InvestmentnType</th>\n",
       "      <th>AmountinUSD</th>\n",
       "      <th>State</th>\n",
       "      <th>month</th>\n",
       "      <th>year</th>\n",
       "      <th>quarter</th>\n",
       "      <th>day</th>\n",
       "      <th>yearmonth</th>\n",
       "    </tr>\n",
       "  </thead>\n",
       "  <tbody>\n",
       "    <tr>\n",
       "      <th>0</th>\n",
       "      <td>fpl technologies</td>\n",
       "      <td>fintech</td>\n",
       "      <td>financial services</td>\n",
       "      <td>pu</td>\n",
       "      <td>Matrix Partners India, Sequoia India</td>\n",
       "      <td>m</td>\n",
       "      <td>4500000.0</td>\n",
       "      <td>Maharashtra</td>\n",
       "      <td>5</td>\n",
       "      <td>2019</td>\n",
       "      <td>2</td>\n",
       "      <td>9</td>\n",
       "      <td>201905</td>\n",
       "    </tr>\n",
       "    <tr>\n",
       "      <th>1</th>\n",
       "      <td>cashflo</td>\n",
       "      <td>fintech</td>\n",
       "      <td>invoice discounting platform and sme lending m...</td>\n",
       "      <td>mu</td>\n",
       "      <td>SAIF Partners</td>\n",
       "      <td>s</td>\n",
       "      <td>3300000.0</td>\n",
       "      <td>Maharashtra</td>\n",
       "      <td>4</td>\n",
       "      <td>2019</td>\n",
       "      <td>2</td>\n",
       "      <td>9</td>\n",
       "      <td>201904</td>\n",
       "    </tr>\n",
       "    <tr>\n",
       "      <th>2</th>\n",
       "      <td>digital f5</td>\n",
       "      <td>advertising, marketing</td>\n",
       "      <td>digital marketing firm</td>\n",
       "      <td>mu</td>\n",
       "      <td>TIW Private Equity</td>\n",
       "      <td>p</td>\n",
       "      <td>6000000.0</td>\n",
       "      <td>Maharashtra</td>\n",
       "      <td>4</td>\n",
       "      <td>2019</td>\n",
       "      <td>2</td>\n",
       "      <td>9</td>\n",
       "      <td>201904</td>\n",
       "    </tr>\n",
       "    <tr>\n",
       "      <th>3</th>\n",
       "      <td>3rdflix</td>\n",
       "      <td>saas</td>\n",
       "      <td>education technology</td>\n",
       "      <td>hy</td>\n",
       "      <td>Exfinity Venture Partners</td>\n",
       "      <td>p</td>\n",
       "      <td>5000000.0</td>\n",
       "      <td>Telangana</td>\n",
       "      <td>4</td>\n",
       "      <td>2019</td>\n",
       "      <td>2</td>\n",
       "      <td>9</td>\n",
       "      <td>201904</td>\n",
       "    </tr>\n",
       "    <tr>\n",
       "      <th>4</th>\n",
       "      <td>75f</td>\n",
       "      <td>iot</td>\n",
       "      <td>building automation system</td>\n",
       "      <td>mu</td>\n",
       "      <td>Breakthrough Energy Ventures</td>\n",
       "      <td>s</td>\n",
       "      <td>18000000.0</td>\n",
       "      <td>Maharashtra</td>\n",
       "      <td>4</td>\n",
       "      <td>2019</td>\n",
       "      <td>2</td>\n",
       "      <td>9</td>\n",
       "      <td>201904</td>\n",
       "    </tr>\n",
       "  </tbody>\n",
       "</table>\n",
       "</div>"
      ],
      "text/plain": [
       "        StartupName        IndustryVertical  \\\n",
       "0  fpl technologies                 fintech   \n",
       "1           cashflo                 fintech   \n",
       "2        digital f5  advertising, marketing   \n",
       "3           3rdflix                    saas   \n",
       "4               75f                     iot   \n",
       "\n",
       "                                         SubVertical CityLocation  \\\n",
       "0                                 financial services           pu   \n",
       "1  invoice discounting platform and sme lending m...           mu   \n",
       "2                             digital marketing firm           mu   \n",
       "3                               education technology           hy   \n",
       "4                         building automation system           mu   \n",
       "\n",
       "                           Investorname InvestmentnType  AmountinUSD  \\\n",
       "0  Matrix Partners India, Sequoia India               m    4500000.0   \n",
       "1                         SAIF Partners               s    3300000.0   \n",
       "2                    TIW Private Equity               p    6000000.0   \n",
       "3             Exfinity Venture Partners               p    5000000.0   \n",
       "4          Breakthrough Energy Ventures               s   18000000.0   \n",
       "\n",
       "         State  month  year  quarter  day  yearmonth  \n",
       "0  Maharashtra      5  2019        2    9     201905  \n",
       "1  Maharashtra      4  2019        2    9     201904  \n",
       "2  Maharashtra      4  2019        2    9     201904  \n",
       "3    Telangana      4  2019        2    9     201904  \n",
       "4  Maharashtra      4  2019        2    9     201904  "
      ]
     },
     "execution_count": 35,
     "metadata": {},
     "output_type": "execute_result"
    }
   ],
   "source": [
    "df.head()"
   ]
  },
  {
   "cell_type": "code",
   "execution_count": 100,
   "metadata": {},
   "outputs": [],
   "source": [
    "df['StartupName'] = df['StartupName'].replace({\"Flipkart.com\":\"Flipkart\"})\n",
    "df['IndustryVertical']=df['IndustryVertical'].replace({\"ECommerce\":\"eCommerce\"})\n",
    "df['IndustryVertical']=df['IndustryVertical'].replace({\"ecommerce\":\"eCommerce\"})\n",
    "df['IndustryVertical']=df['IndustryVertical'].replace({\"Ecommerce\":\"eCommerce\"})\n",
    "df['InvestmentnType']=df['InvestmentnType'].replace({\"Crowd dfing\":\"Crowd dfing\"})\n",
    "df['InvestmentnType']=df['InvestmentnType'].replace({\"Seeddfing\":\"Seed dfing\"})\n",
    "df['InvestmentnType']=df['InvestmentnType'].replace({\"PrivateEquity\":\"Private Equity\"})\n",
    "df['StartupName']=df['StartupName'].replace({\"practo\":\"Practo\"})\n",
    "df['StartupName']=df['StartupName'].replace({\"couponmachine.in\":\"Couponmachine\"})\n",
    "df['StartupName']=df['StartupName'].replace({\"Olacabs\":\"Ola Cabs\"})\n",
    "df['StartupName']=df['StartupName'].replace({\"Ola\":\"Ola Cabs\"})\n",
    "df['Investorname']=df['Investorname'].replace({\"Undisclosed investors\":\"Undisclosed Investors\"})\n",
    "df['Investorname']=df['Investorname'].replace({\"Undisclosed Investor\":\"Undisclosed Investors\"})\n",
    "df['Investorname']=df['Investorname'].replace({\"Undisclosed\":\"Undisclosed Investors\"})\n",
    "df['Investorname']=df['Investorname'].replace({\"undisclosed investors\":\"Undisclosed Investors\"})\n",
    "df['Investorname']=df['Investorname'].replace({\"Undisclosed investor\":\"Undisclosed Investors\"})\n",
    "df['Investorname']=df['Investorname'].replace({\" Sequoia Capital\":\"Sequoia Capital\"})\n",
    "df['Investorname']=df['Investorname'].replace({\" Accel Partners\":\"Accel Partners\"})\n",
    "df['Investorname']=df['Investorname'].replace({\" Blume Ventures\":\"Blume Ventures\"})\n",
    "df['Investorname']=df['Investorname'].replace({\" SAIF Partners\":\"SAIF Partners\"})\n",
    "df['Investorname']=df['Investorname'].replace({\" Kalaari Capital\":\"Kalaari Capital\"})"
   ]
  },
  {
   "cell_type": "code",
   "execution_count": 36,
   "metadata": {},
   "outputs": [
    {
     "data": {
      "image/png": "[encoded data removed]",
      "text/plain": [
       "<Figure size 432x288 with 1 Axes>"
      ]
     },
     "metadata": {
      "needs_background": "light"
     },
     "output_type": "display_data"
    }
   ],
   "source": [
    "#Now we will create our 2 new dataframes\n",
    "df_test=df[df['AmountinUSD'].isnull()]\n",
    "\n",
    "df_test.drop('AmountinUSD',axis=1,inplace=True)\n",
    "\n",
    "df_test=df_test.dropna()\n",
    "\n",
    "sns.heatmap(df_test.isnull(),cbar=False,cmap='viridis',yticklabels=False)\n",
    "#All null values were of year 2015\n",
    "df_train=(df.dropna(subset=['AmountinUSD']))"
   ]
  },
  {
   "cell_type": "code",
   "execution_count": 37,
   "metadata": {},
   "outputs": [],
   "source": [
    "df['AmountinUSD'].fillna(df['AmountinUSD'].mode()[0],inplace = True)"
   ]
  },
  {
   "cell_type": "code",
   "execution_count": null,
   "metadata": {},
   "outputs": [],
   "source": []
  },
  {
   "cell_type": "code",
   "execution_count": 38,
   "metadata": {},
   "outputs": [
    {
     "data": {
      "image/png": "[encoded data removed]",
      "text/plain": [
       "<Figure size 432x288 with 1 Axes>"
      ]
     },
     "metadata": {
      "needs_background": "light"
     },
     "output_type": "display_data"
    }
   ],
   "source": [
    "sns.heatmap(df.isnull(), cbar=False)\n",
    "plt.show();"
   ]
  },
  {
   "cell_type": "code",
   "execution_count": 39,
   "metadata": {},
   "outputs": [
    {
     "data": {
      "text/plain": [
       "(2999, 13)"
      ]
     },
     "execution_count": 39,
     "metadata": {},
     "output_type": "execute_result"
    }
   ],
   "source": [
    "df['IndustryVertical'].fillna(df['IndustryVertical'].mode()[0],inplace = True)\n",
    "df['SubVertical'].fillna(df['SubVertical'].mode()[0],inplace = True)\n",
    "df['CityLocation'].fillna(df['CityLocation'].mode()[0],inplace = True)\n",
    "df['Investorname'].fillna(df['Investorname'].mode()[0],inplace = True)\n",
    "df.shape"
   ]
  },
  {
   "cell_type": "code",
   "execution_count": 40,
   "metadata": {},
   "outputs": [
    {
     "data": {
      "image/png": "[encoded data removed]",
      "text/plain": [
       "<Figure size 432x288 with 1 Axes>"
      ]
     },
     "metadata": {
      "needs_background": "light"
     },
     "output_type": "display_data"
    }
   ],
   "source": [
    "sns.heatmap(df.isnull(), cbar=False)\n",
    "plt.show();"
   ]
  },
  {
   "cell_type": "markdown",
   "metadata": {},
   "source": [
    "# EDA of categorical variables"
   ]
  },
  {
   "cell_type": "code",
   "execution_count": null,
   "metadata": {},
   "outputs": [],
   "source": []
  },
  {
   "cell_type": "markdown",
   "metadata": {},
   "source": [
    "### 1) StartupName\n"
   ]
  },
  {
   "cell_type": "code",
   "execution_count": 41,
   "metadata": {},
   "outputs": [
    {
     "data": {
      "text/html": [
       "<div>\n",
       "<style scoped>\n",
       "    .dataframe tbody tr th:only-of-type {\n",
       "        vertical-align: middle;\n",
       "    }\n",
       "\n",
       "    .dataframe tbody tr th {\n",
       "        vertical-align: top;\n",
       "    }\n",
       "\n",
       "    .dataframe thead th {\n",
       "        text-align: right;\n",
       "    }\n",
       "</style>\n",
       "<table border=\"1\" class=\"dataframe\">\n",
       "  <thead>\n",
       "    <tr style=\"text-align: right;\">\n",
       "      <th></th>\n",
       "      <th>StartupName</th>\n",
       "      <th>IndustryVertical</th>\n",
       "      <th>SubVertical</th>\n",
       "      <th>CityLocation</th>\n",
       "      <th>Investorname</th>\n",
       "      <th>InvestmentnType</th>\n",
       "      <th>State</th>\n",
       "    </tr>\n",
       "  </thead>\n",
       "  <tbody>\n",
       "    <tr>\n",
       "      <th>count</th>\n",
       "      <td>2999</td>\n",
       "      <td>2999</td>\n",
       "      <td>2999</td>\n",
       "      <td>2999</td>\n",
       "      <td>2999</td>\n",
       "      <td>2999</td>\n",
       "      <td>2825</td>\n",
       "    </tr>\n",
       "    <tr>\n",
       "      <th>unique</th>\n",
       "      <td>2315</td>\n",
       "      <td>780</td>\n",
       "      <td>1853</td>\n",
       "      <td>29</td>\n",
       "      <td>2363</td>\n",
       "      <td>11</td>\n",
       "      <td>19</td>\n",
       "    </tr>\n",
       "    <tr>\n",
       "      <th>top</th>\n",
       "      <td>ola cabs</td>\n",
       "      <td>consumer internet</td>\n",
       "      <td>online lending platform</td>\n",
       "      <td>ba</td>\n",
       "      <td>Undisclosed Investors</td>\n",
       "      <td>s</td>\n",
       "      <td>Karnataka</td>\n",
       "    </tr>\n",
       "    <tr>\n",
       "      <th>freq</th>\n",
       "      <td>13</td>\n",
       "      <td>1113</td>\n",
       "      <td>947</td>\n",
       "      <td>1015</td>\n",
       "      <td>139</td>\n",
       "      <td>1476</td>\n",
       "      <td>842</td>\n",
       "    </tr>\n",
       "  </tbody>\n",
       "</table>\n",
       "</div>"
      ],
      "text/plain": [
       "       StartupName   IndustryVertical              SubVertical CityLocation  \\\n",
       "count         2999               2999                     2999         2999   \n",
       "unique        2315                780                     1853           29   \n",
       "top       ola cabs  consumer internet  online lending platform           ba   \n",
       "freq            13               1113                      947         1015   \n",
       "\n",
       "                 Investorname InvestmentnType      State  \n",
       "count                    2999            2999       2825  \n",
       "unique                   2363              11         19  \n",
       "top     Undisclosed Investors               s  Karnataka  \n",
       "freq                      139            1476        842  "
      ]
     },
     "execution_count": 41,
     "metadata": {},
     "output_type": "execute_result"
    }
   ],
   "source": [
    "#Statistics for categorical variables\n",
    "df.describe(include='object')"
   ]
  },
  {
   "cell_type": "code",
   "execution_count": 42,
   "metadata": {
    "scrolled": true
   },
   "outputs": [
    {
     "data": {
      "text/html": [
       "<div>\n",
       "<style scoped>\n",
       "    .dataframe tbody tr th:only-of-type {\n",
       "        vertical-align: middle;\n",
       "    }\n",
       "\n",
       "    .dataframe tbody tr th {\n",
       "        vertical-align: top;\n",
       "    }\n",
       "\n",
       "    .dataframe thead th {\n",
       "        text-align: right;\n",
       "    }\n",
       "</style>\n",
       "<table border=\"1\" class=\"dataframe\">\n",
       "  <thead>\n",
       "    <tr style=\"text-align: right;\">\n",
       "      <th></th>\n",
       "      <th>StartupName</th>\n",
       "      <th>AmountinUSD</th>\n",
       "    </tr>\n",
       "  </thead>\n",
       "  <tbody>\n",
       "    <tr>\n",
       "      <th>25</th>\n",
       "      <td>rapido bike taxi</td>\n",
       "      <td>3.900000e+09</td>\n",
       "    </tr>\n",
       "    <tr>\n",
       "      <th>616</th>\n",
       "      <td>flipkart</td>\n",
       "      <td>2.500000e+09</td>\n",
       "    </tr>\n",
       "    <tr>\n",
       "      <th>931</th>\n",
       "      <td>flipkart</td>\n",
       "      <td>1.400000e+09</td>\n",
       "    </tr>\n",
       "    <tr>\n",
       "      <th>795</th>\n",
       "      <td>paytm</td>\n",
       "      <td>1.400000e+09</td>\n",
       "    </tr>\n",
       "    <tr>\n",
       "      <th>2603</th>\n",
       "      <td>flipkart</td>\n",
       "      <td>7.000000e+08</td>\n",
       "    </tr>\n",
       "    <tr>\n",
       "      <th>2424</th>\n",
       "      <td>paytm</td>\n",
       "      <td>6.800000e+08</td>\n",
       "    </tr>\n",
       "    <tr>\n",
       "      <th>153</th>\n",
       "      <td>true north</td>\n",
       "      <td>6.000000e+08</td>\n",
       "    </tr>\n",
       "    <tr>\n",
       "      <th>2209</th>\n",
       "      <td>ola cabs</td>\n",
       "      <td>5.000000e+08</td>\n",
       "    </tr>\n",
       "    <tr>\n",
       "      <th>2435</th>\n",
       "      <td>snapdeal</td>\n",
       "      <td>5.000000e+08</td>\n",
       "    </tr>\n",
       "    <tr>\n",
       "      <th>7</th>\n",
       "      <td>goqii</td>\n",
       "      <td>4.500000e+08</td>\n",
       "    </tr>\n",
       "  </tbody>\n",
       "</table>\n",
       "</div>"
      ],
      "text/plain": [
       "           StartupName   AmountinUSD\n",
       "25    rapido bike taxi  3.900000e+09\n",
       "616           flipkart  2.500000e+09\n",
       "931           flipkart  1.400000e+09\n",
       "795              paytm  1.400000e+09\n",
       "2603          flipkart  7.000000e+08\n",
       "2424             paytm  6.800000e+08\n",
       "153         true north  6.000000e+08\n",
       "2209          ola cabs  5.000000e+08\n",
       "2435          snapdeal  5.000000e+08\n",
       "7                goqii  4.500000e+08"
      ]
     },
     "execution_count": 42,
     "metadata": {},
     "output_type": "execute_result"
    }
   ],
   "source": [
    "#Top 10 statups according to amount invested\n",
    "(df[['StartupName','AmountinUSD']].dropna()).sort_values(by='AmountinUSD',ascending = False).head(10)\n",
    "\n"
   ]
  },
  {
   "cell_type": "code",
   "execution_count": 43,
   "metadata": {},
   "outputs": [
    {
     "data": {
      "text/html": [
       "<div>\n",
       "<style scoped>\n",
       "    .dataframe tbody tr th:only-of-type {\n",
       "        vertical-align: middle;\n",
       "    }\n",
       "\n",
       "    .dataframe tbody tr th {\n",
       "        vertical-align: top;\n",
       "    }\n",
       "\n",
       "    .dataframe thead th {\n",
       "        text-align: right;\n",
       "    }\n",
       "</style>\n",
       "<table border=\"1\" class=\"dataframe\">\n",
       "  <thead>\n",
       "    <tr style=\"text-align: right;\">\n",
       "      <th></th>\n",
       "      <th>StartupName</th>\n",
       "      <th>AmountinUSD</th>\n",
       "    </tr>\n",
       "  </thead>\n",
       "  <tbody>\n",
       "    <tr>\n",
       "      <th>25</th>\n",
       "      <td>rapido bike taxi</td>\n",
       "      <td>3.900000e+09</td>\n",
       "    </tr>\n",
       "    <tr>\n",
       "      <th>616</th>\n",
       "      <td>flipkart</td>\n",
       "      <td>2.500000e+09</td>\n",
       "    </tr>\n",
       "    <tr>\n",
       "      <th>931</th>\n",
       "      <td>flipkart</td>\n",
       "      <td>1.400000e+09</td>\n",
       "    </tr>\n",
       "    <tr>\n",
       "      <th>795</th>\n",
       "      <td>paytm</td>\n",
       "      <td>1.400000e+09</td>\n",
       "    </tr>\n",
       "    <tr>\n",
       "      <th>2603</th>\n",
       "      <td>flipkart</td>\n",
       "      <td>7.000000e+08</td>\n",
       "    </tr>\n",
       "    <tr>\n",
       "      <th>2424</th>\n",
       "      <td>paytm</td>\n",
       "      <td>6.800000e+08</td>\n",
       "    </tr>\n",
       "    <tr>\n",
       "      <th>153</th>\n",
       "      <td>true north</td>\n",
       "      <td>6.000000e+08</td>\n",
       "    </tr>\n",
       "    <tr>\n",
       "      <th>2209</th>\n",
       "      <td>ola cabs</td>\n",
       "      <td>5.000000e+08</td>\n",
       "    </tr>\n",
       "    <tr>\n",
       "      <th>2435</th>\n",
       "      <td>snapdeal</td>\n",
       "      <td>5.000000e+08</td>\n",
       "    </tr>\n",
       "    <tr>\n",
       "      <th>7</th>\n",
       "      <td>goqii</td>\n",
       "      <td>4.500000e+08</td>\n",
       "    </tr>\n",
       "    <tr>\n",
       "      <th>2775</th>\n",
       "      <td>ola cabs</td>\n",
       "      <td>4.000000e+08</td>\n",
       "    </tr>\n",
       "    <tr>\n",
       "      <th>889</th>\n",
       "      <td>ola cabs</td>\n",
       "      <td>3.300000e+08</td>\n",
       "    </tr>\n",
       "    <tr>\n",
       "      <th>100</th>\n",
       "      <td>automation anywhere</td>\n",
       "      <td>3.000000e+08</td>\n",
       "    </tr>\n",
       "    <tr>\n",
       "      <th>315</th>\n",
       "      <td>bigbasket</td>\n",
       "      <td>3.000000e+08</td>\n",
       "    </tr>\n",
       "    <tr>\n",
       "      <th>479</th>\n",
       "      <td>edelweiss</td>\n",
       "      <td>2.700000e+08</td>\n",
       "    </tr>\n",
       "    <tr>\n",
       "      <th>854</th>\n",
       "      <td>ola cabs</td>\n",
       "      <td>2.600000e+08</td>\n",
       "    </tr>\n",
       "    <tr>\n",
       "      <th>551</th>\n",
       "      <td>oyo rooms</td>\n",
       "      <td>2.500000e+08</td>\n",
       "    </tr>\n",
       "    <tr>\n",
       "      <th>871</th>\n",
       "      <td>oyo rooms</td>\n",
       "      <td>2.500000e+08</td>\n",
       "    </tr>\n",
       "    <tr>\n",
       "      <th>78</th>\n",
       "      <td>zilingo</td>\n",
       "      <td>2.260000e+08</td>\n",
       "    </tr>\n",
       "    <tr>\n",
       "      <th>2380</th>\n",
       "      <td>ola cabs</td>\n",
       "      <td>2.250000e+08</td>\n",
       "    </tr>\n",
       "  </tbody>\n",
       "</table>\n",
       "</div>"
      ],
      "text/plain": [
       "              StartupName   AmountinUSD\n",
       "25       rapido bike taxi  3.900000e+09\n",
       "616              flipkart  2.500000e+09\n",
       "931              flipkart  1.400000e+09\n",
       "795                 paytm  1.400000e+09\n",
       "2603             flipkart  7.000000e+08\n",
       "2424                paytm  6.800000e+08\n",
       "153            true north  6.000000e+08\n",
       "2209             ola cabs  5.000000e+08\n",
       "2435             snapdeal  5.000000e+08\n",
       "7                   goqii  4.500000e+08\n",
       "2775             ola cabs  4.000000e+08\n",
       "889              ola cabs  3.300000e+08\n",
       "100   automation anywhere  3.000000e+08\n",
       "315             bigbasket  3.000000e+08\n",
       "479             edelweiss  2.700000e+08\n",
       "854              ola cabs  2.600000e+08\n",
       "551             oyo rooms  2.500000e+08\n",
       "871             oyo rooms  2.500000e+08\n",
       "78                zilingo  2.260000e+08\n",
       "2380             ola cabs  2.250000e+08"
      ]
     },
     "execution_count": 43,
     "metadata": {},
     "output_type": "execute_result"
    },
    {
     "data": {
      "image/png": "[encoded data removed]",
      "text/plain": [
       "<Figure size 432x288 with 1 Axes>"
      ]
     },
     "metadata": {
      "needs_background": "light"
     },
     "output_type": "display_data"
    }
   ],
   "source": [
    "#Making a dataframe of top 20 start up name according to the amount that was invested in them\n",
    "\n",
    "top20funding=(df[['StartupName','AmountinUSD']].dropna()).sort_values(by='AmountinUSD',ascending = False).head(20)\n",
    "\n",
    "top20funding.plot()\n",
    "top20funding\n"
   ]
  },
  {
   "cell_type": "code",
   "execution_count": 44,
   "metadata": {
    "scrolled": true
   },
   "outputs": [
    {
     "data": {
      "text/plain": [
       "ola cabs               5\n",
       "flipkart               3\n",
       "oyo rooms              2\n",
       "paytm                  2\n",
       "snapdeal               1\n",
       "zilingo                1\n",
       "automation anywhere    1\n",
       "edelweiss              1\n",
       "bigbasket              1\n",
       "goqii                  1\n",
       "rapido bike taxi       1\n",
       "true north             1\n",
       "Name: StartupName, dtype: int64"
      ]
     },
     "execution_count": 44,
     "metadata": {},
     "output_type": "execute_result"
    },
    {
     "data": {
      "image/png": "[encoded data removed]",
      "text/plain": [
       "<Figure size 432x288 with 1 Axes>"
      ]
     },
     "metadata": {
      "needs_background": "light"
     },
     "output_type": "display_data"
    }
   ],
   "source": [
    "#Counting the frequency of startups in top 20 startups that were funded\n",
    "top20fundingcount=(df[['StartupName','AmountinUSD']].dropna()).sort_values(by='AmountinUSD',ascending = False).head(20)['StartupName'].value_counts()\n",
    "top20fundingcount.plot()\n",
    "top20fundingcount"
   ]
  },
  {
   "cell_type": "code",
   "execution_count": 45,
   "metadata": {
    "scrolled": true
   },
   "outputs": [
    {
     "data": {
      "image/png": "[encoded data removed]",
      "text/plain": [
       "<Figure size 1080x576 with 1 Axes>"
      ]
     },
     "metadata": {
      "needs_background": "light"
     },
     "output_type": "display_data"
    }
   ],
   "source": [
    "##Plotting the frequency of startups in top 20 startups that were funded\n",
    "\n",
    "plt.figure(figsize=(15,8))\n",
    "sns.barplot(top20fundingcount.index, top20fundingcount.values, alpha=0.9,color='skyblue')\n",
    "\n",
    "plt.xticks(rotation='vertical')\n",
    "plt.xlabel('StartupName', fontsize=18)\n",
    "plt.ylabel('Number of fundings made', fontsize=18)\n",
    "plt.title(\"Frequency of startups in top 20 funded amount\", fontsize=20)\n",
    "plt.show()\n",
    "\n"
   ]
  },
  {
   "cell_type": "code",
   "execution_count": 46,
   "metadata": {},
   "outputs": [],
   "source": [
    "#Creating a new dataframe with StartupName and the amount they got as funding\n",
    "nameamount=df_train[['StartupName','AmountinUSD']]"
   ]
  },
  {
   "cell_type": "code",
   "execution_count": 47,
   "metadata": {
    "scrolled": true
   },
   "outputs": [
    {
     "data": {
      "text/plain": [
       "4.17981072555205"
      ]
     },
     "execution_count": 47,
     "metadata": {},
     "output_type": "execute_result"
    }
   ],
   "source": [
    "#Grouping the dataframe according to StartupName and sorting it out accoring to number of funding they recieved\n",
    "nameamount=nameamount.groupby('StartupName').sum().sort_values(by='AmountinUSD',ascending=False)\n",
    "\n",
    "#How much of funding is recieved by how much of startups\n",
    "np.sum((nameamount/np.sum(nameamount)*100).head(53))\n",
    "\n",
    "len(nameamount)\n",
    "\n",
    "53/1268*100"
   ]
  },
  {
   "cell_type": "markdown",
   "metadata": {},
   "source": [
    "#### 70% amount of funding is recieved by 4.1% of startup"
   ]
  },
  {
   "cell_type": "markdown",
   "metadata": {},
   "source": [
    "### 2) Industry Vertical\n",
    "#### ● Which industries are favored by investors for funding?\n"
   ]
  },
  {
   "cell_type": "code",
   "execution_count": 48,
   "metadata": {},
   "outputs": [
    {
     "data": {
      "text/plain": [
       "0.0"
      ]
     },
     "execution_count": 48,
     "metadata": {},
     "output_type": "execute_result"
    }
   ],
   "source": [
    "#Percentage of null values in dataframe\n",
    "len(df[df['IndustryVertical'].isnull()==True])/len(df['IndustryVertical'])*100"
   ]
  },
  {
   "cell_type": "code",
   "execution_count": 49,
   "metadata": {
    "scrolled": false
   },
   "outputs": [
    {
     "data": {
      "text/plain": [
       "consumer internet               590\n",
       "technology                      308\n",
       "ecommerce                       170\n",
       "finance                          56\n",
       "healthcare                       44\n",
       "e-commerce                       30\n",
       "logistics                        22\n",
       "education                        17\n",
       "food & beverage                  15\n",
       "ed-tech                          13\n",
       "it                                8\n",
       "fintech                           7\n",
       "fin-tech                          6\n",
       "edtech                            5\n",
       "food and beverage                 5\n",
       "online food delivery              5\n",
       "hyperlocal handyman services      4\n",
       "logistics tech                    4\n",
       "others                            4\n",
       "health and wellness               4\n",
       "Name: IndustryVertical, dtype: int64"
      ]
     },
     "execution_count": 49,
     "metadata": {},
     "output_type": "execute_result"
    }
   ],
   "source": [
    "#Industries that recieved funding more than 3 times\n",
    "df_train['IndustryVertical'].value_counts()[df_train['IndustryVertical'].value_counts()>3]"
   ]
  },
  {
   "cell_type": "code",
   "execution_count": 50,
   "metadata": {},
   "outputs": [
    {
     "data": {
      "image/png": "[encoded data removed]",
      "text/plain": [
       "<Figure size 720x576 with 1 Axes>"
      ]
     },
     "metadata": {
      "needs_background": "light"
     },
     "output_type": "display_data"
    },
    {
     "data": {
      "image/png": "[encoded data removed]",
      "text/plain": [
       "<Figure size 576x432 with 1 Axes>"
      ]
     },
     "metadata": {
      "needs_background": "light"
     },
     "output_type": "display_data"
    }
   ],
   "source": [
    "#Top 3 industries with most frequent funding recieved\n",
    "(df_train['IndustryVertical'].value_counts()/len(df_train['IndustryVertical'])*100)[0:3]\n",
    "\n",
    "x_barindustry=np.array(['consumer internet','technology','ecommerce','other 2369'])     \n",
    "y_barindustry=np.array([30.229508,12.393443,9.770492,47.6])\n",
    "\n",
    "plt.figure(figsize=(10,8))\n",
    "sns.barplot(x_barindustry,y_barindustry,color='skyblue')\n",
    "plt.xticks(rotation='vertical',fontsize=15)\n",
    "plt.xlabel('Industry', fontsize=20)\n",
    "plt.ylabel('Number of funding', fontsize=18)\n",
    "plt.title(\"Percentage of fundding according to industry\", fontsize=20)\n",
    "\n",
    "plt.show()\n",
    "\n",
    "#Comparing investments of top 3 industries vs the rest\n",
    "x_barindustry_top3=np.array(['top3','other 2369'])     \n",
    "y_barindustry_top3=np.array([53.4,47.6])\n",
    "\n",
    "\n",
    "plt.figure(figsize=(8,6))\n",
    "sns.barplot(x_barindustry_top3,y_barindustry_top3,color='skyblue')\n",
    "plt.xticks(rotation='vertical',fontsize=15)\n",
    "plt.xlabel('Industry', fontsize=20)\n",
    "plt.ylabel('Number of funding', fontsize=18)\n",
    "plt.title(\"Percentage of funding according to industry\", fontsize=20)\n",
    "\n",
    "plt.show()"
   ]
  },
  {
   "cell_type": "code",
   "execution_count": 51,
   "metadata": {},
   "outputs": [
    {
     "data": {
      "text/plain": [
       "1.7716535433070866"
      ]
     },
     "execution_count": 51,
     "metadata": {},
     "output_type": "execute_result"
    }
   ],
   "source": [
    "#Creating new dataframe with the industry name and amount invested in respective industries\n",
    "indamount=df_train[['IndustryVertical','AmountinUSD']]\n",
    "\n",
    "#Grouping the dataframe according to industries and sorting it according to the amount invested\n",
    "indamount=indamount.groupby('IndustryVertical').sum().sort_values(by='AmountinUSD',ascending=False)\n",
    "\n",
    "#How much investment is done in how many of industries?\n",
    "np.sum((indamount/indamount.sum()*100).head(9))\n",
    "\n",
    "len(indamount)\n",
    "\n",
    "9/508*100\n",
    "\n"
   ]
  },
  {
   "cell_type": "markdown",
   "metadata": {},
   "source": [
    "#### 71.2% of investment is done in 1.7% industries"
   ]
  },
  {
   "cell_type": "markdown",
   "metadata": {},
   "source": [
    "### 3) City Location\n",
    "#### ● Do cities play a major role in funding?\n"
   ]
  },
  {
   "cell_type": "code",
   "execution_count": 52,
   "metadata": {},
   "outputs": [],
   "source": [
    "#Creating new dataframe which is sorted according to frequency of investments that is allocated as per State\n",
    "topStatefunded=df_train['State'].value_counts()[df_train['State'].value_counts()>10]"
   ]
  },
  {
   "cell_type": "code",
   "execution_count": 53,
   "metadata": {},
   "outputs": [
    {
     "data": {
      "image/png": "[encoded data removed]",
      "text/plain": [
       "<Figure size 576x576 with 1 Axes>"
      ]
     },
     "metadata": {
      "needs_background": "light"
     },
     "output_type": "display_data"
    }
   ],
   "source": [
    "plt.figure(figsize=(8,8))\n",
    "sns.barplot(topStatefunded.index, topStatefunded.values, alpha=0.9,color='skyblue')\n",
    "\n",
    "plt.xticks(rotation='vertical',fontsize=15)\n",
    "plt.xlabel('State name', fontsize=20)\n",
    "plt.ylabel('Number of fundings made', fontsize=18)\n",
    "plt.title(\"Frequency of startups according to State\", fontsize=20)\n",
    "\n",
    "plt.show()\n",
    "\n"
   ]
  },
  {
   "cell_type": "code",
   "execution_count": 54,
   "metadata": {},
   "outputs": [],
   "source": [
    "import matplotlib\n",
    "import matplotlib.pyplot as plt\n",
    "import pandas as pd\n",
    "import squarify"
   ]
  },
  {
   "cell_type": "code",
   "execution_count": 55,
   "metadata": {},
   "outputs": [
    {
     "data": {
      "text/plain": [
       "Text(0.5, 1.0, 'Distribution of Startups across Top State')"
      ]
     },
     "execution_count": 55,
     "metadata": {},
     "output_type": "execute_result"
    },
    {
     "data": {
      "image/png": "[encoded data removed]",
      "text/plain": [
       "<Figure size 1080x576 with 1 Axes>"
      ]
     },
     "metadata": {
      "needs_background": "light"
     },
     "output_type": "display_data"
    }
   ],
   "source": [
    "\n",
    "plt.figure(figsize=(15,8))\n",
    "count = df['State'].value_counts()\n",
    "squarify.plot(sizes=count.values,label=count.index, value=count.values)\n",
    "plt.title('Distribution of Startups across Top State')\n"
   ]
  },
  {
   "cell_type": "code",
   "execution_count": 56,
   "metadata": {},
   "outputs": [],
   "source": [
    "#Creating new dataframe which is sorted according to frequency of investments that is allocated as per State\n",
    "topcityfunded=df_train['CityLocation'].value_counts()[df_train['CityLocation'].value_counts()>10]"
   ]
  },
  {
   "cell_type": "code",
   "execution_count": 57,
   "metadata": {},
   "outputs": [
    {
     "data": {
      "image/png": "[encoded data removed]",
      "text/plain": [
       "<Figure size 432x288 with 1 Axes>"
      ]
     },
     "metadata": {
      "needs_background": "light"
     },
     "output_type": "display_data"
    }
   ],
   "source": [
    "sns.barplot(topcityfunded.index, topcityfunded.values, alpha=0.9,color='skyblue')\n",
    "\n",
    "plt.xticks(rotation='vertical',fontsize=15)\n",
    "plt.xlabel('city name', fontsize=20)\n",
    "plt.ylabel('Number of fundings made', fontsize=18)\n",
    "plt.title(\"Frequency of startups according to State\", fontsize=20)\n",
    "\n",
    "plt.show()"
   ]
  },
  {
   "cell_type": "code",
   "execution_count": 58,
   "metadata": {},
   "outputs": [
    {
     "data": {
      "text/plain": [
       "Text(0.5, 1.0, 'Distribution of Startups across Top State')"
      ]
     },
     "execution_count": 58,
     "metadata": {},
     "output_type": "execute_result"
    },
    {
     "data": {
      "image/png": "[encoded data removed]",
      "text/plain": [
       "<Figure size 1080x576 with 1 Axes>"
      ]
     },
     "metadata": {
      "needs_background": "light"
     },
     "output_type": "display_data"
    }
   ],
   "source": [
    "\n",
    "plt.figure(figsize=(15,8))\n",
    "count = df['CityLocation'].value_counts()\n",
    "squarify.plot(sizes=count.values,label=count.index, value=count.values)\n",
    "plt.title('Distribution of Startups across Top State')"
   ]
  },
  {
   "cell_type": "code",
   "execution_count": 59,
   "metadata": {},
   "outputs": [
    {
     "data": {
      "image/png": "[encoded data removed]",
      "text/plain": [
       "<Figure size 1080x576 with 1 Axes>"
      ]
     },
     "metadata": {
      "needs_background": "light"
     },
     "output_type": "display_data"
    }
   ],
   "source": [
    "#Creating new dataframe which is sorted according to the amount of investment that is allocated\n",
    "cityamount=df[['CityLocation','AmountinUSD']].dropna().sort_values(by='AmountinUSD')\n",
    "\n",
    "cityamount=cityamount.groupby('CityLocation').sum().sort_values(by='AmountinUSD',ascending=False)\n",
    "\n",
    "x_barcity=np.array(['ba', 'ne', 'mu', 'gu', 'ch', 'pu', 'hy', 'no', 'ah', 'ja','other'])\n",
    "y_barcity=np.array([8.42297411e+09,\n",
    "       2.82019750e+09,\n",
    "       2.35493450e+09,\n",
    "       2.06902150e+09,\n",
    "       4.37205000e+08,\n",
    "       3.66653000e+08,\n",
    "       1.95362000e+08,\n",
    "       1.70638000e+08,\n",
    "       9.81860000e+07,\n",
    "       3.55600000e+07,\n",
    "            104791000.0\n",
    "            ])\n",
    "\n",
    "plt.figure(figsize=(15,8))\n",
    "sns.barplot(x_barcity,y_barcity, alpha=0.9,color='skyblue')\n",
    "\n",
    "plt.xticks(rotation='vertical',fontsize=15)\n",
    "plt.xlabel('City', fontsize=20)\n",
    "plt.ylabel('Funding', fontsize=18)\n",
    "plt.title(\"Highest funding according to city\", fontsize=20)\n",
    "\n",
    "plt.show()\n",
    "\n"
   ]
  },
  {
   "cell_type": "code",
   "execution_count": 60,
   "metadata": {},
   "outputs": [
    {
     "data": {
      "image/png": "[encoded data removed]",
      "text/plain": [
       "<Figure size 720x720 with 1 Axes>"
      ]
     },
     "metadata": {},
     "output_type": "display_data"
    }
   ],
   "source": [
    "#Creating a pie diagram which shows how much funding is given as per cities\n",
    "x_piecity=np.array(['ba', 'ne', 'mu', 'gu', 'ch', 'other'])\n",
    "y_piecity=np.array([8.42297411e+09,\n",
    "       2.82019750e+09,\n",
    "       2.35493450e+09,\n",
    "       2.06902150e+09,\n",
    "       4.37205000e+08,\n",
    "      971190000.0\n",
    "            ])\n",
    "\n",
    "plt.figure(figsize=(10,10))\n",
    "plt.pie(y_piecity,labels=(x_piecity),autopct='%1.1f%%',colors=['skyblue','pink','plum','lightgreen','coral','gold'],explode=[0,0.1,0,0,0,0],startangle=45)\n",
    "plt.rcParams['font.size'] = 16\n",
    "plt.show()"
   ]
  },
  {
   "cell_type": "code",
   "execution_count": 61,
   "metadata": {},
   "outputs": [
    {
     "data": {
      "image/png": "[encoded data removed]",
      "text/plain": [
       "<Figure size 720x504 with 1 Axes>"
      ]
     },
     "metadata": {
      "needs_background": "light"
     },
     "output_type": "display_data"
    }
   ],
   "source": [
    "plot_gross1 = pd.DataFrame(df.groupby(['CityLocation'])['AmountinUSD'].max().sort_values(ascending=False)[:10]).reset_index()\n",
    "plot_gross1 = plot_gross1[plot_gross1['AmountinUSD'] > 0]  \n",
    "plot_gross1.head(10)\n",
    "plt.subplots(figsize=(10,7))\n",
    "sns.barplot(x='CityLocation',y='AmountinUSD',data=plot_gross1,palette='rainbow', )\n",
    "plt.ylabel('AmountinUSD($)', fontsize=20)\n",
    "plt.xticks(rotation=90,fontsize=20)\n",
    "plt.xlabel('CityLocation', fontsize=20)\n",
    "plt.title('CityLocation with highest AmountinUSD', fontsize=20)\n",
    "plt.show()"
   ]
  },
  {
   "cell_type": "code",
   "execution_count": 62,
   "metadata": {},
   "outputs": [
    {
     "data": {
      "text/plain": [
       "12.5"
      ]
     },
     "execution_count": 62,
     "metadata": {},
     "output_type": "execute_result"
    }
   ],
   "source": [
    "#How much investment is done in how many of cities?\n",
    "\n",
    "(np.sum((cityamount/np.sum(cityamount)*100)[0:4]))\n",
    "\n",
    "len(cityamount)\n",
    "\n",
    "4/32*100\n",
    "\n"
   ]
  },
  {
   "cell_type": "markdown",
   "metadata": {},
   "source": [
    "#### 91.7% of investment is done in 12.5% of cities"
   ]
  },
  {
   "cell_type": "markdown",
   "metadata": {},
   "source": [
    "### 4) Investor Name\n",
    "#### ● Who are the important investors in the Indian Ecosystem?\n"
   ]
  },
  {
   "cell_type": "code",
   "execution_count": 63,
   "metadata": {
    "scrolled": false
   },
   "outputs": [
    {
     "data": {
      "text/plain": [
       "Undisclosed Investors       139\n",
       "Ratan Tata                   30\n",
       "Indian Angel Network         23\n",
       "Kalaari Capital              16\n",
       "Sequoia Capital              15\n",
       "Group of Angel Investors     15\n",
       "Accel Partners               12\n",
       "Venture Catalysts            11\n",
       "Brand Capital                11\n",
       "SAIF Partners                10\n",
       "Name: Investorname, dtype: int64"
      ]
     },
     "execution_count": 63,
     "metadata": {},
     "output_type": "execute_result"
    }
   ],
   "source": [
    "#Top 10 investors according to frequency of funding\n",
    "investorname=df['Investorname'].value_counts().head(10)\n",
    "investorname"
   ]
  },
  {
   "cell_type": "code",
   "execution_count": 64,
   "metadata": {},
   "outputs": [
    {
     "data": {
      "text/plain": [
       "9.345794392523366"
      ]
     },
     "execution_count": 64,
     "metadata": {},
     "output_type": "execute_result"
    }
   ],
   "source": [
    "#How much does the top 10 investors contribute in funding\n",
    "np.sum((df_train['Investorname'].value_counts()/len(df_train['Investorname'])*100)[0:10])"
   ]
  },
  {
   "cell_type": "code",
   "execution_count": 65,
   "metadata": {},
   "outputs": [
    {
     "data": {
      "text/plain": [
       "89.71962616822428"
      ]
     },
     "execution_count": 65,
     "metadata": {},
     "output_type": "execute_result"
    }
   ],
   "source": [
    "#How much does the rest of investors contribute in funding\n",
    "np.sum((df_train['Investorname'].value_counts()/len(df_train['Investorname'])*100)[10:])"
   ]
  },
  {
   "cell_type": "code",
   "execution_count": 66,
   "metadata": {},
   "outputs": [
    {
     "data": {
      "image/png": "[encoded data removed]",
      "text/plain": [
       "<Figure size 576x576 with 1 Axes>"
      ]
     },
     "metadata": {
      "needs_background": "light"
     },
     "output_type": "display_data"
    }
   ],
   "source": [
    "plt.figure(figsize=(8,8))\n",
    "sns.barplot(investorname.index, investorname.values, alpha=0.9,color='skyblue')\n",
    "\n",
    "plt.xticks(rotation='vertical',fontsize=15)\n",
    "plt.xlabel('Investor Name', fontsize=20)\n",
    "plt.ylabel('Number of fundings made', fontsize=18)\n",
    "plt.title(\"Frequency of funding according to investor\", fontsize=20)\n",
    "\n",
    "plt.show()\n",
    "\n"
   ]
  },
  {
   "cell_type": "code",
   "execution_count": 67,
   "metadata": {},
   "outputs": [],
   "source": [
    "#Creating new data frame with only Investor names and the amount they invested\n",
    "investoramount=df_train[['Investorname','AmountinUSD']]"
   ]
  },
  {
   "cell_type": "code",
   "execution_count": 68,
   "metadata": {},
   "outputs": [
    {
     "data": {
      "text/html": [
       "<div>\n",
       "<style scoped>\n",
       "    .dataframe tbody tr th:only-of-type {\n",
       "        vertical-align: middle;\n",
       "    }\n",
       "\n",
       "    .dataframe tbody tr th {\n",
       "        vertical-align: top;\n",
       "    }\n",
       "\n",
       "    .dataframe thead th {\n",
       "        text-align: right;\n",
       "    }\n",
       "</style>\n",
       "<table border=\"1\" class=\"dataframe\">\n",
       "  <thead>\n",
       "    <tr style=\"text-align: right;\">\n",
       "      <th></th>\n",
       "      <th>Investorname</th>\n",
       "      <th>AmountinUSD</th>\n",
       "    </tr>\n",
       "  </thead>\n",
       "  <tbody>\n",
       "    <tr>\n",
       "      <th>0</th>\n",
       "      <td>Matrix Partners India, Sequoia India</td>\n",
       "      <td>4500000.0</td>\n",
       "    </tr>\n",
       "    <tr>\n",
       "      <th>1</th>\n",
       "      <td>SAIF Partners</td>\n",
       "      <td>3300000.0</td>\n",
       "    </tr>\n",
       "    <tr>\n",
       "      <th>2</th>\n",
       "      <td>TIW Private Equity</td>\n",
       "      <td>6000000.0</td>\n",
       "    </tr>\n",
       "    <tr>\n",
       "      <th>3</th>\n",
       "      <td>Exfinity Venture Partners</td>\n",
       "      <td>5000000.0</td>\n",
       "    </tr>\n",
       "    <tr>\n",
       "      <th>4</th>\n",
       "      <td>Breakthrough Energy Ventures</td>\n",
       "      <td>18000000.0</td>\n",
       "    </tr>\n",
       "    <tr>\n",
       "      <th>5</th>\n",
       "      <td>Endiya Partners</td>\n",
       "      <td>1000000.0</td>\n",
       "    </tr>\n",
       "    <tr>\n",
       "      <th>6</th>\n",
       "      <td>A91 Partners</td>\n",
       "      <td>10000000.0</td>\n",
       "    </tr>\n",
       "    <tr>\n",
       "      <th>7</th>\n",
       "      <td>Bennett Coleman and Company Ltd (BCCL)</td>\n",
       "      <td>450000000.0</td>\n",
       "    </tr>\n",
       "    <tr>\n",
       "      <th>8</th>\n",
       "      <td>India Quotient, Axilor Ventures</td>\n",
       "      <td>5000000.0</td>\n",
       "    </tr>\n",
       "    <tr>\n",
       "      <th>9</th>\n",
       "      <td>SC GG India Mobility Holdings LLC</td>\n",
       "      <td>20000000.0</td>\n",
       "    </tr>\n",
       "  </tbody>\n",
       "</table>\n",
       "</div>"
      ],
      "text/plain": [
       "                             Investorname  AmountinUSD\n",
       "0    Matrix Partners India, Sequoia India    4500000.0\n",
       "1                           SAIF Partners    3300000.0\n",
       "2                      TIW Private Equity    6000000.0\n",
       "3               Exfinity Venture Partners    5000000.0\n",
       "4            Breakthrough Energy Ventures   18000000.0\n",
       "5                         Endiya Partners    1000000.0\n",
       "6                            A91 Partners   10000000.0\n",
       "7  Bennett Coleman and Company Ltd (BCCL)  450000000.0\n",
       "8         India Quotient, Axilor Ventures    5000000.0\n",
       "9       SC GG India Mobility Holdings LLC   20000000.0"
      ]
     },
     "execution_count": 68,
     "metadata": {},
     "output_type": "execute_result"
    }
   ],
   "source": [
    "investoramount.head(10)"
   ]
  },
  {
   "cell_type": "code",
   "execution_count": 69,
   "metadata": {},
   "outputs": [
    {
     "data": {
      "text/html": [
       "<div>\n",
       "<style scoped>\n",
       "    .dataframe tbody tr th:only-of-type {\n",
       "        vertical-align: middle;\n",
       "    }\n",
       "\n",
       "    .dataframe tbody tr th {\n",
       "        vertical-align: top;\n",
       "    }\n",
       "\n",
       "    .dataframe thead th {\n",
       "        text-align: right;\n",
       "    }\n",
       "</style>\n",
       "<table border=\"1\" class=\"dataframe\">\n",
       "  <thead>\n",
       "    <tr style=\"text-align: right;\">\n",
       "      <th></th>\n",
       "      <th>AmountinUSD</th>\n",
       "    </tr>\n",
       "    <tr>\n",
       "      <th>Investorname</th>\n",
       "      <th></th>\n",
       "    </tr>\n",
       "  </thead>\n",
       "  <tbody>\n",
       "    <tr>\n",
       "      <th>Westbridge Capital</th>\n",
       "      <td>3.900000e+09</td>\n",
       "    </tr>\n",
       "    <tr>\n",
       "      <th>Softbank</th>\n",
       "      <td>2.500000e+09</td>\n",
       "    </tr>\n",
       "    <tr>\n",
       "      <th>SoftBank Group</th>\n",
       "      <td>1.462000e+09</td>\n",
       "    </tr>\n",
       "    <tr>\n",
       "      <th>Microsoft, eBay, Tencent Holdings</th>\n",
       "      <td>1.400000e+09</td>\n",
       "    </tr>\n",
       "    <tr>\n",
       "      <th>Steadview Capital and existing investors</th>\n",
       "      <td>7.000000e+08</td>\n",
       "    </tr>\n",
       "    <tr>\n",
       "      <th>Alibaba Group, Ant Financial</th>\n",
       "      <td>6.800000e+08</td>\n",
       "    </tr>\n",
       "    <tr>\n",
       "      <th>Alibaba, Foxconn, Softbank</th>\n",
       "      <td>5.000000e+08</td>\n",
       "    </tr>\n",
       "    <tr>\n",
       "      <th>Baillie Gifford, Falcon Edge Capital, Tiger Global, SoftBank Group, DST Global, Didi Kuaidi</th>\n",
       "      <td>5.000000e+08</td>\n",
       "    </tr>\n",
       "    <tr>\n",
       "      <th>Bennett Coleman and Company Ltd (BCCL)</th>\n",
       "      <td>4.500000e+08</td>\n",
       "    </tr>\n",
       "    <tr>\n",
       "      <th>DST Global, Steadview Capital, Tiger Global, Accel Partners &amp; Others</th>\n",
       "      <td>4.000000e+08</td>\n",
       "    </tr>\n",
       "  </tbody>\n",
       "</table>\n",
       "</div>"
      ],
      "text/plain": [
       "                                                     AmountinUSD\n",
       "Investorname                                                    \n",
       "Westbridge Capital                                  3.900000e+09\n",
       "Softbank                                            2.500000e+09\n",
       "SoftBank Group                                      1.462000e+09\n",
       "Microsoft, eBay, Tencent Holdings                   1.400000e+09\n",
       "Steadview Capital and existing investors            7.000000e+08\n",
       "Alibaba Group, Ant Financial                        6.800000e+08\n",
       "Alibaba, Foxconn, Softbank                          5.000000e+08\n",
       "Baillie Gifford, Falcon Edge Capital, Tiger Glo...  5.000000e+08\n",
       "Bennett Coleman and Company Ltd (BCCL)              4.500000e+08\n",
       "DST Global, Steadview Capital, Tiger Global, Ac...  4.000000e+08"
      ]
     },
     "execution_count": 69,
     "metadata": {},
     "output_type": "execute_result"
    }
   ],
   "source": [
    "#Grouping investorname with the amount they have invested\n",
    "investoramount=investoramount.groupby('Investorname').sum().sort_values(by='AmountinUSD',ascending=False)\n",
    "investoramount.head(10)"
   ]
  },
  {
   "cell_type": "code",
   "execution_count": 70,
   "metadata": {},
   "outputs": [
    {
     "data": {
      "image/png": "[encoded data removed]",
      "text/plain": [
       "<Figure size 720x504 with 1 Axes>"
      ]
     },
     "metadata": {
      "needs_background": "light"
     },
     "output_type": "display_data"
    }
   ],
   "source": [
    "plot_gross = pd.DataFrame(df.groupby(['Investorname'])['AmountinUSD'].max().sort_values(ascending=False)[:10]).reset_index()\n",
    "plot_gross = plot_gross[plot_gross['AmountinUSD'] > 0]  \n",
    "plt.subplots(figsize=(10,7))\n",
    "sns.barplot(x='Investorname',y='AmountinUSD',data=plot_gross,palette='rainbow', )\n",
    "plt.ylabel('AmountinUSD($)', fontsize=20)\n",
    "plt.xticks(rotation=90,fontsize=20)\n",
    "plt.xlabel('Investorname', fontsize=20)\n",
    "plt.title('Investorname with highest AmountinUSD', fontsize=20)\n",
    "plt.show()"
   ]
  },
  {
   "cell_type": "code",
   "execution_count": 71,
   "metadata": {
    "scrolled": true
   },
   "outputs": [
    {
     "data": {
      "text/plain": [
       "5.120910384068279"
      ]
     },
     "execution_count": 71,
     "metadata": {},
     "output_type": "execute_result"
    }
   ],
   "source": [
    "#How much investment is done by how many of investors?\n",
    "(np.sum((investoramount/np.sum(investoramount)*100)[0:36]))\n",
    "\n",
    "len(investoramount)\n",
    "\n",
    "36/703*100"
   ]
  },
  {
   "cell_type": "markdown",
   "metadata": {},
   "source": [
    "#### 70.1% of investment is done by 5.1% of investors"
   ]
  },
  {
   "cell_type": "markdown",
   "metadata": {},
   "source": [
    "### 5) Subvertical"
   ]
  },
  {
   "cell_type": "code",
   "execution_count": 72,
   "metadata": {},
   "outputs": [],
   "source": [
    "#Creating new data frame with only Investor names and the amount they invested\n",
    "subamount=df_train[['SubVertical','AmountinUSD']]"
   ]
  },
  {
   "cell_type": "code",
   "execution_count": 73,
   "metadata": {},
   "outputs": [
    {
     "data": {
      "text/html": [
       "<div>\n",
       "<style scoped>\n",
       "    .dataframe tbody tr th:only-of-type {\n",
       "        vertical-align: middle;\n",
       "    }\n",
       "\n",
       "    .dataframe tbody tr th {\n",
       "        vertical-align: top;\n",
       "    }\n",
       "\n",
       "    .dataframe thead th {\n",
       "        text-align: right;\n",
       "    }\n",
       "</style>\n",
       "<table border=\"1\" class=\"dataframe\">\n",
       "  <thead>\n",
       "    <tr style=\"text-align: right;\">\n",
       "      <th></th>\n",
       "      <th>AmountinUSD</th>\n",
       "    </tr>\n",
       "    <tr>\n",
       "      <th>SubVertical</th>\n",
       "      <th></th>\n",
       "    </tr>\n",
       "  </thead>\n",
       "  <tbody>\n",
       "    <tr>\n",
       "      <th>bike taxi</th>\n",
       "      <td>3.900000e+09</td>\n",
       "    </tr>\n",
       "    <tr>\n",
       "      <th>online marketplace</th>\n",
       "      <td>2.727400e+09</td>\n",
       "    </tr>\n",
       "    <tr>\n",
       "      <th>ecommerce marketplace</th>\n",
       "      <td>1.708800e+09</td>\n",
       "    </tr>\n",
       "    <tr>\n",
       "      <th>mobile wallet &amp; ecommerce platform</th>\n",
       "      <td>1.460000e+09</td>\n",
       "    </tr>\n",
       "    <tr>\n",
       "      <th>private equity firm</th>\n",
       "      <td>6.000000e+08</td>\n",
       "    </tr>\n",
       "    <tr>\n",
       "      <th>...</th>\n",
       "      <td>...</td>\n",
       "    </tr>\n",
       "    <tr>\n",
       "      <th>audio technology solutions</th>\n",
       "      <td>2.250000e+04</td>\n",
       "    </tr>\n",
       "    <tr>\n",
       "      <th>augmented reality solutions</th>\n",
       "      <td>2.250000e+04</td>\n",
       "    </tr>\n",
       "    <tr>\n",
       "      <th>mobile email productivity tool</th>\n",
       "      <td>2.250000e+04</td>\n",
       "    </tr>\n",
       "    <tr>\n",
       "      <th>cloud based virtual servers</th>\n",
       "      <td>2.250000e+04</td>\n",
       "    </tr>\n",
       "    <tr>\n",
       "      <th>smart online address tags</th>\n",
       "      <td>1.800000e+04</td>\n",
       "    </tr>\n",
       "  </tbody>\n",
       "</table>\n",
       "<p>1247 rows × 1 columns</p>\n",
       "</div>"
      ],
      "text/plain": [
       "                                     AmountinUSD\n",
       "SubVertical                                     \n",
       "bike taxi                           3.900000e+09\n",
       "online marketplace                  2.727400e+09\n",
       "ecommerce marketplace               1.708800e+09\n",
       "mobile wallet & ecommerce platform  1.460000e+09\n",
       "private equity firm                 6.000000e+08\n",
       "...                                          ...\n",
       "audio technology solutions          2.250000e+04\n",
       "augmented reality solutions         2.250000e+04\n",
       "mobile email productivity tool      2.250000e+04\n",
       "cloud based virtual servers         2.250000e+04\n",
       "smart online address tags           1.800000e+04\n",
       "\n",
       "[1247 rows x 1 columns]"
      ]
     },
     "execution_count": 73,
     "metadata": {},
     "output_type": "execute_result"
    }
   ],
   "source": [
    "subamount=(subamount.groupby('SubVertical').sum()).sort_values(by='AmountinUSD',ascending=False)\n",
    "subamount"
   ]
  },
  {
   "cell_type": "code",
   "execution_count": 74,
   "metadata": {},
   "outputs": [
    {
     "data": {
      "text/plain": [
       "4.785276073619632"
      ]
     },
     "execution_count": 74,
     "metadata": {},
     "output_type": "execute_result"
    }
   ],
   "source": [
    "#How much investment is done in Subvertical?\n",
    "\n",
    "np.sum((subamount/np.sum(subamount)*100).head(39))\n",
    "\n",
    "len(subamount)\n",
    "\n",
    "39/815*100\n",
    "\n"
   ]
  },
  {
   "cell_type": "markdown",
   "metadata": {},
   "source": [
    "#### 70.2% of investment is done in 4.7% of subvertical industries"
   ]
  },
  {
   "cell_type": "code",
   "execution_count": 75,
   "metadata": {},
   "outputs": [],
   "source": [
    "#Grouping the data frame according to StartupNames\n",
    "group=df_train.groupby('StartupName')"
   ]
  },
  {
   "cell_type": "code",
   "execution_count": 76,
   "metadata": {},
   "outputs": [],
   "source": [
    "#Sorting the dataframe according to amount of funding and capturing the 4.1% of startup that got 70% of funding\n",
    "topstartup=group.first().sort_values('AmountinUSD',ascending=False).head(53)"
   ]
  },
  {
   "cell_type": "code",
   "execution_count": 77,
   "metadata": {},
   "outputs": [
    {
     "data": {
      "text/html": [
       "<div>\n",
       "<style scoped>\n",
       "    .dataframe tbody tr th:only-of-type {\n",
       "        vertical-align: middle;\n",
       "    }\n",
       "\n",
       "    .dataframe tbody tr th {\n",
       "        vertical-align: top;\n",
       "    }\n",
       "\n",
       "    .dataframe thead th {\n",
       "        text-align: right;\n",
       "    }\n",
       "</style>\n",
       "<table border=\"1\" class=\"dataframe\">\n",
       "  <thead>\n",
       "    <tr style=\"text-align: right;\">\n",
       "      <th></th>\n",
       "      <th>IndustryVertical</th>\n",
       "      <th>SubVertical</th>\n",
       "      <th>CityLocation</th>\n",
       "      <th>Investorname</th>\n",
       "      <th>InvestmentnType</th>\n",
       "      <th>AmountinUSD</th>\n",
       "      <th>State</th>\n",
       "      <th>month</th>\n",
       "      <th>year</th>\n",
       "      <th>quarter</th>\n",
       "      <th>day</th>\n",
       "      <th>yearmonth</th>\n",
       "    </tr>\n",
       "    <tr>\n",
       "      <th>StartupName</th>\n",
       "      <th></th>\n",
       "      <th></th>\n",
       "      <th></th>\n",
       "      <th></th>\n",
       "      <th></th>\n",
       "      <th></th>\n",
       "      <th></th>\n",
       "      <th></th>\n",
       "      <th></th>\n",
       "      <th></th>\n",
       "      <th></th>\n",
       "      <th></th>\n",
       "    </tr>\n",
       "  </thead>\n",
       "  <tbody>\n",
       "    <tr>\n",
       "      <th>rapido bike taxi</th>\n",
       "      <td>transportation</td>\n",
       "      <td>bike taxi</td>\n",
       "      <td>ba</td>\n",
       "      <td>Westbridge Capital</td>\n",
       "      <td>s</td>\n",
       "      <td>3.900000e+09</td>\n",
       "      <td>Karnataka</td>\n",
       "      <td>8</td>\n",
       "      <td>2019</td>\n",
       "      <td>3</td>\n",
       "      <td>27</td>\n",
       "      <td>201908</td>\n",
       "    </tr>\n",
       "    <tr>\n",
       "      <th>flipkart</th>\n",
       "      <td>ecommerce</td>\n",
       "      <td>online marketplace</td>\n",
       "      <td>ba</td>\n",
       "      <td>Softbank</td>\n",
       "      <td>p</td>\n",
       "      <td>2.500000e+09</td>\n",
       "      <td>Karnataka</td>\n",
       "      <td>11</td>\n",
       "      <td>2017</td>\n",
       "      <td>4</td>\n",
       "      <td>8</td>\n",
       "      <td>201711</td>\n",
       "    </tr>\n",
       "    <tr>\n",
       "      <th>true north</th>\n",
       "      <td>finance</td>\n",
       "      <td>private equity firm</td>\n",
       "      <td>mu</td>\n",
       "      <td>NaN</td>\n",
       "      <td>p</td>\n",
       "      <td>6.000000e+08</td>\n",
       "      <td>Maharashtra</td>\n",
       "      <td>8</td>\n",
       "      <td>2018</td>\n",
       "      <td>3</td>\n",
       "      <td>30</td>\n",
       "      <td>201808</td>\n",
       "    </tr>\n",
       "    <tr>\n",
       "      <th>goqii</th>\n",
       "      <td>health and wellness</td>\n",
       "      <td>wearable fitness bands</td>\n",
       "      <td>mu</td>\n",
       "      <td>Bennett Coleman and Company Ltd (BCCL)</td>\n",
       "      <td>s</td>\n",
       "      <td>4.500000e+08</td>\n",
       "      <td>Maharashtra</td>\n",
       "      <td>4</td>\n",
       "      <td>2019</td>\n",
       "      <td>2</td>\n",
       "      <td>9</td>\n",
       "      <td>201904</td>\n",
       "    </tr>\n",
       "    <tr>\n",
       "      <th>bigbasket</th>\n",
       "      <td>consumer internet</td>\n",
       "      <td>online grocery &amp; food store</td>\n",
       "      <td>ba</td>\n",
       "      <td>Alibaba, Helion Venture Partners, Bessemer Ven...</td>\n",
       "      <td>p</td>\n",
       "      <td>3.000000e+08</td>\n",
       "      <td>Karnataka</td>\n",
       "      <td>1</td>\n",
       "      <td>2018</td>\n",
       "      <td>1</td>\n",
       "      <td>2</td>\n",
       "      <td>201801</td>\n",
       "    </tr>\n",
       "  </tbody>\n",
       "</table>\n",
       "</div>"
      ],
      "text/plain": [
       "                     IndustryVertical                  SubVertical  \\\n",
       "StartupName                                                          \n",
       "rapido bike taxi       transportation                    bike taxi   \n",
       "flipkart                    ecommerce           online marketplace   \n",
       "true north                    finance          private equity firm   \n",
       "goqii             health and wellness       wearable fitness bands   \n",
       "bigbasket           consumer internet  online grocery & food store   \n",
       "\n",
       "                 CityLocation  \\\n",
       "StartupName                     \n",
       "rapido bike taxi           ba   \n",
       "flipkart                   ba   \n",
       "true north                 mu   \n",
       "goqii                      mu   \n",
       "bigbasket                  ba   \n",
       "\n",
       "                                                       Investorname  \\\n",
       "StartupName                                                           \n",
       "rapido bike taxi                                 Westbridge Capital   \n",
       "flipkart                                                   Softbank   \n",
       "true north                                                      NaN   \n",
       "goqii                        Bennett Coleman and Company Ltd (BCCL)   \n",
       "bigbasket         Alibaba, Helion Venture Partners, Bessemer Ven...   \n",
       "\n",
       "                 InvestmentnType   AmountinUSD        State  month  year  \\\n",
       "StartupName                                                                \n",
       "rapido bike taxi               s  3.900000e+09    Karnataka      8  2019   \n",
       "flipkart                       p  2.500000e+09    Karnataka     11  2017   \n",
       "true north                     p  6.000000e+08  Maharashtra      8  2018   \n",
       "goqii                          s  4.500000e+08  Maharashtra      4  2019   \n",
       "bigbasket                      p  3.000000e+08    Karnataka      1  2018   \n",
       "\n",
       "                  quarter  day  yearmonth  \n",
       "StartupName                                \n",
       "rapido bike taxi        3   27     201908  \n",
       "flipkart                4    8     201711  \n",
       "true north              3   30     201808  \n",
       "goqii                   2    9     201904  \n",
       "bigbasket               1    2     201801  "
      ]
     },
     "execution_count": 77,
     "metadata": {},
     "output_type": "execute_result"
    }
   ],
   "source": [
    "topstartup.head()"
   ]
  },
  {
   "cell_type": "code",
   "execution_count": 78,
   "metadata": {},
   "outputs": [
    {
     "name": "stdout",
     "output_type": "stream",
     "text": [
      "IndustryVertical\n",
      "******************************\n",
      "consumer internet     12\n",
      "finance                7\n",
      "technology             6\n",
      "e-commerce             3\n",
      "ecommerce              3\n",
      "food and beverages     2\n",
      "Name: IndustryVertical, dtype: int64\n",
      "\n",
      "\n",
      "SubVertical\n",
      "******************************\n",
      "Series([], Name: SubVertical, dtype: int64)\n",
      "\n",
      "\n",
      "CityLocation\n",
      "******************************\n",
      "mu    19\n",
      "ba    13\n",
      "gu     7\n",
      "pu     4\n",
      "ne     4\n",
      "ch     2\n",
      "Name: CityLocation, dtype: int64\n",
      "\n",
      "\n",
      "Investorname\n",
      "******************************\n",
      "Naspers    2\n",
      "Name: Investorname, dtype: int64\n",
      "\n",
      "\n",
      "InvestmentnType\n",
      "******************************\n",
      "p    39\n",
      "s    13\n",
      "Name: InvestmentnType, dtype: int64\n",
      "\n",
      "\n",
      "AmountinUSD\n",
      "******************************\n",
      "100000000.0    10\n",
      "60000000.0      4\n",
      "200000000.0     3\n",
      "56000000.0      2\n",
      "75000000.0      2\n",
      "70000000.0      2\n",
      "300000000.0     2\n",
      "150000000.0     2\n",
      "140000000.0     2\n",
      "82000000.0      2\n",
      "Name: AmountinUSD, dtype: int64\n",
      "\n",
      "\n",
      "State\n",
      "******************************\n",
      "Maharashtra    23\n",
      "Karnataka      13\n",
      "Haryana         7\n",
      "Delhi           4\n",
      "Tamil Nadu      2\n",
      "Name: State, dtype: int64\n",
      "\n",
      "\n",
      "month\n",
      "******************************\n",
      "8     10\n",
      "11     7\n",
      "1      7\n",
      "7      6\n",
      "3      5\n",
      "2      4\n",
      "10     3\n",
      "5      3\n",
      "4      3\n",
      "12     2\n",
      "6      2\n",
      "Name: month, dtype: int64\n",
      "\n",
      "\n",
      "year\n",
      "******************************\n",
      "2018    18\n",
      "2019    12\n",
      "2017    10\n",
      "2015     9\n",
      "2016     4\n",
      "Name: year, dtype: int64\n",
      "\n",
      "\n",
      "quarter\n",
      "******************************\n",
      "3    17\n",
      "1    16\n",
      "4    12\n",
      "2     8\n",
      "Name: quarter, dtype: int64\n",
      "\n",
      "\n",
      "day\n",
      "******************************\n",
      "2     7\n",
      "8     5\n",
      "7     5\n",
      "9     5\n",
      "5     4\n",
      "23    3\n",
      "19    3\n",
      "30    3\n",
      "28    2\n",
      "27    2\n",
      "13    2\n",
      "12    2\n",
      "Name: day, dtype: int64\n",
      "\n",
      "\n",
      "yearmonth\n",
      "******************************\n",
      "201908    4\n",
      "201807    4\n",
      "201711    3\n",
      "201808    3\n",
      "201901    2\n",
      "201501    2\n",
      "201503    2\n",
      "201801    2\n",
      "201802    2\n",
      "201904    2\n",
      "201803    2\n",
      "201707    2\n",
      "Name: yearmonth, dtype: int64\n",
      "\n",
      "\n"
     ]
    }
   ],
   "source": [
    "#Top frequency of all variables in this top topstartup dataframe\n",
    "for x in topstartup.columns:\n",
    "    print(x)\n",
    "    print('*'*30)\n",
    "    print(topstartup[x].value_counts()[topstartup[x].value_counts()>1])\n",
    "    print('\\n')"
   ]
  },
  {
   "cell_type": "code",
   "execution_count": null,
   "metadata": {},
   "outputs": [],
   "source": []
  },
  {
   "cell_type": "code",
   "execution_count": 79,
   "metadata": {},
   "outputs": [
    {
     "name": "stdout",
     "output_type": "stream",
     "text": [
      "IndustryVertical\n",
      "******************************\n",
      "consumer internet     22.641509\n",
      "finance               13.207547\n",
      "technology            11.320755\n",
      "e-commerce             5.660377\n",
      "ecommerce              5.660377\n",
      "food and beverages     3.773585\n",
      "Name: IndustryVertical, dtype: float64\n",
      "\n",
      "\n",
      "SubVertical\n",
      "******************************\n",
      "Series([], Name: SubVertical, dtype: float64)\n",
      "\n",
      "\n",
      "CityLocation\n",
      "******************************\n",
      "mu    35.849057\n",
      "ba    24.528302\n",
      "gu    13.207547\n",
      "pu     7.547170\n",
      "ne     7.547170\n",
      "ch     3.773585\n",
      "Name: CityLocation, dtype: float64\n",
      "\n",
      "\n",
      "Investorname\n",
      "******************************\n",
      "Naspers    3.773585\n",
      "Name: Investorname, dtype: float64\n",
      "\n",
      "\n",
      "InvestmentnType\n",
      "******************************\n",
      "p    73.584906\n",
      "s    24.528302\n",
      "Name: InvestmentnType, dtype: float64\n",
      "\n",
      "\n",
      "AmountinUSD\n",
      "******************************\n",
      "100000000.0    18.867925\n",
      "60000000.0      7.547170\n",
      "200000000.0     5.660377\n",
      "56000000.0      3.773585\n",
      "75000000.0      3.773585\n",
      "70000000.0      3.773585\n",
      "300000000.0     3.773585\n",
      "150000000.0     3.773585\n",
      "140000000.0     3.773585\n",
      "82000000.0      3.773585\n",
      "Name: AmountinUSD, dtype: float64\n",
      "\n",
      "\n",
      "State\n",
      "******************************\n",
      "Maharashtra    43.396226\n",
      "Karnataka      24.528302\n",
      "Haryana        13.207547\n",
      "Delhi           7.547170\n",
      "Tamil Nadu      3.773585\n",
      "Name: State, dtype: float64\n",
      "\n",
      "\n",
      "month\n",
      "******************************\n",
      "8     18.867925\n",
      "11    13.207547\n",
      "1     13.207547\n",
      "7     11.320755\n",
      "3      9.433962\n",
      "2      7.547170\n",
      "10     5.660377\n",
      "5      5.660377\n",
      "4      5.660377\n",
      "12     3.773585\n",
      "6      3.773585\n",
      "Name: month, dtype: float64\n",
      "\n",
      "\n",
      "year\n",
      "******************************\n",
      "2018    33.962264\n",
      "2019    22.641509\n",
      "2017    18.867925\n",
      "2015    16.981132\n",
      "2016     7.547170\n",
      "Name: year, dtype: float64\n",
      "\n",
      "\n",
      "quarter\n",
      "******************************\n",
      "3    32.075472\n",
      "1    30.188679\n",
      "4    22.641509\n",
      "2    15.094340\n",
      "Name: quarter, dtype: float64\n",
      "\n",
      "\n",
      "day\n",
      "******************************\n",
      "2     13.207547\n",
      "8      9.433962\n",
      "7      9.433962\n",
      "9      9.433962\n",
      "5      7.547170\n",
      "23     5.660377\n",
      "19     5.660377\n",
      "30     5.660377\n",
      "28     3.773585\n",
      "27     3.773585\n",
      "13     3.773585\n",
      "12     3.773585\n",
      "Name: day, dtype: float64\n",
      "\n",
      "\n",
      "yearmonth\n",
      "******************************\n",
      "201908    7.547170\n",
      "201807    7.547170\n",
      "201711    5.660377\n",
      "201808    5.660377\n",
      "201901    3.773585\n",
      "201501    3.773585\n",
      "201503    3.773585\n",
      "201801    3.773585\n",
      "201802    3.773585\n",
      "201904    3.773585\n",
      "201803    3.773585\n",
      "201707    3.773585\n",
      "Name: yearmonth, dtype: float64\n",
      "\n",
      "\n"
     ]
    }
   ],
   "source": [
    "#Percentage of top frequency of all variables in top topstartup dataframe\n",
    "for x in topstartup.columns:\n",
    "    print(x)\n",
    "    print('*'*30)\n",
    "    print((topstartup[x].value_counts()[topstartup[x].value_counts()/len(topstartup[x])*100>2])/len(topstartup[x])*100)\n",
    "    print('\\n')"
   ]
  },
  {
   "cell_type": "markdown",
   "metadata": {},
   "source": [
    "### Machine Learning"
   ]
  },
  {
   "cell_type": "code",
   "execution_count": 80,
   "metadata": {},
   "outputs": [],
   "source": [
    "#Dropping the null values\n",
    "df_train=df_train.dropna()"
   ]
  },
  {
   "cell_type": "code",
   "execution_count": 81,
   "metadata": {},
   "outputs": [],
   "source": [
    "#As all our features are categorical we need to covert them into numerical type before fitting it into ml algorithm\n",
    "import feature_engine\n",
    "from feature_engine import categorical_encoders as ce"
   ]
  },
  {
   "cell_type": "code",
   "execution_count": 82,
   "metadata": {},
   "outputs": [],
   "source": [
    "#First we will split our data in training and testing dataset\n",
    "import sklearn as sk \n",
    "from sklearn.model_selection import train_test_split"
   ]
  },
  {
   "cell_type": "code",
   "execution_count": 83,
   "metadata": {},
   "outputs": [],
   "source": [
    "X_df_train=df_train.drop('AmountinUSD',axis=1)\n",
    "y_df_train=df_train['AmountinUSD']"
   ]
  },
  {
   "cell_type": "code",
   "execution_count": 84,
   "metadata": {},
   "outputs": [],
   "source": [
    "X_train, X_test, y_train, y_test = train_test_split(X_df_train, y_df_train, test_size=0.3, random_state=42)"
   ]
  },
  {
   "cell_type": "code",
   "execution_count": 85,
   "metadata": {},
   "outputs": [
    {
     "data": {
      "text/plain": [
       "(959, 12)"
      ]
     },
     "execution_count": 85,
     "metadata": {},
     "output_type": "execute_result"
    }
   ],
   "source": [
    "#It is important to check if our training and testing data is in same shape\n",
    "X_train.shape"
   ]
  },
  {
   "cell_type": "code",
   "execution_count": 86,
   "metadata": {},
   "outputs": [
    {
     "data": {
      "text/plain": [
       "(412, 12)"
      ]
     },
     "execution_count": 86,
     "metadata": {},
     "output_type": "execute_result"
    }
   ],
   "source": [
    "X_test.shape"
   ]
  },
  {
   "cell_type": "code",
   "execution_count": 87,
   "metadata": {},
   "outputs": [],
   "source": [
    "#Replaces categories by the mean of the target. \n",
    "\n",
    "#For example in the variable colour, if the mean of the target for blue, red\n",
    "#and grey is 0.5, 0.8 and 0.1 respectively, blue is replaced by 0.5, red by 0.8\n",
    "#and grey by 0.1.\n",
    "ohe=ce.MeanCategoricalEncoder()"
   ]
  },
  {
   "cell_type": "code",
   "execution_count": 88,
   "metadata": {},
   "outputs": [],
   "source": [
    "X_train=ohe.fit_transform(X_train,y_train)"
   ]
  },
  {
   "cell_type": "code",
   "execution_count": 89,
   "metadata": {},
   "outputs": [],
   "source": [
    "X_test=ohe.fit_transform(X_test,y_test)"
   ]
  },
  {
   "cell_type": "code",
   "execution_count": 90,
   "metadata": {},
   "outputs": [],
   "source": [
    "#To ease our job we will create a class \n",
    "#This class has function based on various machine learning algorithm\n",
    "#We are using 5 algorithms which are as follows\n",
    "#1) Logistic Regression\n",
    "#2) Ada Boost Regressor\n",
    "#3) Decision Tree Regressor\n",
    "#4) Random Forest Regressor\n",
    "#5) K nearest neighbor Regressor\n",
    "#\n",
    "#The specific function when called will do the following:-\n",
    "#1) Fit the training data\n",
    "#2) Predict the training data\n",
    "#3) Predict the testing data\n",
    "#4) Give output as r2 score, mae and mse for training as well as testing data. \n",
    "\n",
    "from sklearn.linear_model import LinearRegression\n",
    "from sklearn.ensemble import AdaBoostRegressor\n",
    "from sklearn.ensemble import RandomForestRegressor\n",
    "from sklearn.tree import DecisionTreeRegressor\n",
    "# to evaluate the models\n",
    "from sklearn.neighbors import KNeighborsRegressor\n",
    "from sklearn.metrics import r2_score\n",
    "from sklearn import metrics\n",
    "from sklearn.metrics import mean_absolute_error,mean_squared_error\n",
    "\n",
    "\n",
    "\n",
    "\n",
    "class selmod():    \n",
    "    def linr(x_tra,y_tra,x_tes,y_tes):\n",
    "        print('Linear Regression')\n",
    "        print('\\n')\n",
    "        lr=LinearRegression()\n",
    "        lr.fit(x_tra,y_tra)\n",
    "        \n",
    "        print('Training Validation','\\n')\n",
    "        predtlr=lr.predict(x_tra)\n",
    "        print('R2: ','\\n',r2_score(y_tra,predtlr))\n",
    "        print('\\n')\n",
    "        print('mae:',mean_absolute_error(y_tra,predtlr))\n",
    "        print('\\n')\n",
    "        print('mse:',mean_squared_error(y_tra,predtlr))\n",
    "\n",
    "        print('*'*80)\n",
    "        \n",
    "        print('Testing Validation')\n",
    "        print('\\n')\n",
    "        predlr=lr.predict(x_tes)\n",
    "        print('R2: ','\\n',r2_score(y_tes,predlr))\n",
    "        print('\\n')\n",
    "        print('mae:',mean_absolute_error(y_tes,predlr))\n",
    "        print('\\n')\n",
    "        print('mse:',mean_squared_error(y_tes,predlr))\n",
    "        print('*'*80)\n",
    "        \n",
    "    def dectree(x_tra,y_tra,x_tes,y_tes):\n",
    "        print('Decision Tree Regressor')\n",
    "        print('\\n')\n",
    "        dt=DecisionTreeRegressor()\n",
    "        dt.fit(x_tra,y_tra)\n",
    "        \n",
    "        print('Training Validation','\\n')\n",
    "        predtdc=dt.predict(x_tra)\n",
    "        print('R2: ','\\n',r2_score(y_tra,predtdc))\n",
    "        print('\\n')\n",
    "        print('mae:',mean_absolute_error(y_tra,predtdc))\n",
    "        print('\\n')\n",
    "        print('mse:',mean_squared_error(y_tra,predtdc))\n",
    "        print('*'*80)\n",
    "        \n",
    "        print('Testing Validation')\n",
    "        print('\\n')\n",
    "        preddc=dt.predict(x_tes)\n",
    "        print('R2: ','\\n',r2_score(y_tes,preddc))\n",
    "        print('\\n')\n",
    "        print('mae:',mean_absolute_error(y_tes,preddc))\n",
    "        print('\\n')\n",
    "        print('mse:',mean_squared_error(y_tes,preddc))\n",
    "        print('*'*80)\n",
    "    \n",
    "    def ranfo(x_tra,y_tra,x_tes,y_tes):\n",
    "        print('Random Forest Regressor')\n",
    "        print('\\n')\n",
    "        rf=RandomForestRegressor()\n",
    "        rf.fit(x_tra,y_tra)\n",
    "        \n",
    "        print('Training Validation','\\n')\n",
    "        predtrf=rf.predict(x_tra)\n",
    "        print('R2: ','\\n',r2_score(y_tra,predtrf))\n",
    "        print('\\n')\n",
    "        print('mae:',mean_absolute_error(y_tra,predtrf))\n",
    "        print('\\n')\n",
    "        print('mse:',mean_squared_error(y_tra,predtrf))\n",
    "        print('*'*80)\n",
    "        \n",
    "        print('Testing Validation')\n",
    "        print('\\n')\n",
    "        predrf=rf.predict(x_tes)\n",
    "        print('R2: ','\\n',r2_score(y_tes,predrf))\n",
    "        print('\\n')\n",
    "        print('mae:',mean_absolute_error(y_tes,predrf))\n",
    "        print('\\n')\n",
    "        print('mse:',mean_squared_error(y_tes,predrf))\n",
    "        print('*'*80)\n",
    "    \n",
    "    def ada(x_tra,y_tra,x_tes,y_tes):\n",
    "        print('Ada Boost Regressor')\n",
    "        print('\\n')\n",
    "        ad=AdaBoostRegressor()\n",
    "        ad.fit(x_tra,y_tra)\n",
    "        \n",
    "        print('Training Validation','\\n')\n",
    "        predtad=ad.predict(x_tra)\n",
    "        print('R2: ','\\n',r2_score(y_tra,predtad))\n",
    "        print('\\n')\n",
    "        print('mae:',mean_absolute_error(y_tra,predtad))\n",
    "        print('\\n')\n",
    "        print('mse:',mean_squared_error(y_tra,predtad))\n",
    "        print('*'*80)\n",
    "        \n",
    "        print('Testing Validation')\n",
    "        print('\\n')\n",
    "        predad=ad.predict(x_tes)\n",
    "        print('R2: ','\\n',r2_score(y_tes,predad))\n",
    "        print('\\n')\n",
    "        print('mae:',mean_absolute_error(y_tes,predad))\n",
    "        print('\\n')\n",
    "        print('mse:',mean_squared_error(y_tes,predad))\n",
    "        print('*'*80)\n",
    "    \n",
    "    def kneigh(x_tra,y_tra,x_tes,y_tes):\n",
    "        print('KNN Regressor')\n",
    "        print('\\n')\n",
    "        knn=KNeighborsRegressor()\n",
    "        knn.fit(x_tra,y_tra)\n",
    "        \n",
    "        print('Training Validation','\\n')\n",
    "        predtknn=knn.predict(x_tra)\n",
    "        print('R2: ','\\n',r2_score(y_tra,predtknn))\n",
    "        print('\\n')\n",
    "        print('mae:',mean_absolute_error(y_tra,predtknn))\n",
    "        print('\\n')\n",
    "        print('mse:',mean_squared_error(y_tra,predtknn))\n",
    "        print('*'*80)\n",
    "        \n",
    "        print('Testing Validation')\n",
    "        print('\\n')\n",
    "        predknn=knn.predict(x_tes)\n",
    "        print('R2: ','\\n',r2_score(y_tes,predknn))\n",
    "        print('\\n')\n",
    "        print('mae:',mean_absolute_error(y_tes,predknn))\n",
    "        print('\\n')\n",
    "        print('mse:',mean_squared_error(y_tes,predknn))\n",
    "        print('*'*80)"
   ]
  },
  {
   "cell_type": "code",
   "execution_count": 91,
   "metadata": {},
   "outputs": [
    {
     "name": "stdout",
     "output_type": "stream",
     "text": [
      "Linear Regression\n",
      "\n",
      "\n",
      "Training Validation \n",
      "\n",
      "R2:  \n",
      " 0.9785753582335476\n",
      "\n",
      "\n",
      "mae: 1936417.2384949594\n",
      "\n",
      "\n",
      "mse: 70315398227323.336\n",
      "********************************************************************************\n",
      "Testing Validation\n",
      "\n",
      "\n",
      "R2:  \n",
      " 0.9643533082096016\n",
      "\n",
      "\n",
      "mae: 5833853.183893539\n",
      "\n",
      "\n",
      "mse: 2027299608091224.2\n",
      "********************************************************************************\n"
     ]
    }
   ],
   "source": [
    "#Linear Regression\n",
    "selmod.linr(X_train,y_train,X_test,y_test)"
   ]
  },
  {
   "cell_type": "code",
   "execution_count": 92,
   "metadata": {},
   "outputs": [
    {
     "name": "stdout",
     "output_type": "stream",
     "text": [
      "Decision Tree Regressor\n",
      "\n",
      "\n",
      "Training Validation \n",
      "\n",
      "R2:  \n",
      " 1.0\n",
      "\n",
      "\n",
      "mae: 0.0\n",
      "\n",
      "\n",
      "mse: 0.0\n",
      "********************************************************************************\n",
      "Testing Validation\n",
      "\n",
      "\n",
      "R2:  \n",
      " 0.6364742801893091\n",
      "\n",
      "\n",
      "mae: 13746521.89\n",
      "\n",
      "\n",
      "mse: 2.0674444451583076e+16\n",
      "********************************************************************************\n"
     ]
    }
   ],
   "source": [
    "#Decision Tree\n",
    "selmod.dectree(X_train,y_train,X_test,y_test)"
   ]
  },
  {
   "cell_type": "code",
   "execution_count": 93,
   "metadata": {},
   "outputs": [
    {
     "name": "stdout",
     "output_type": "stream",
     "text": [
      "Random Forest Regressor\n",
      "\n",
      "\n",
      "Training Validation \n",
      "\n",
      "R2:  \n",
      " 0.9418762200400325\n",
      "\n",
      "\n",
      "mae: 1233500.2615451512\n",
      "\n",
      "\n",
      "mse: 190761496920897.16\n",
      "********************************************************************************\n",
      "Testing Validation\n",
      "\n",
      "\n",
      "R2:  \n",
      " 0.5143929706938098\n",
      "\n",
      "\n",
      "mae: 16129836.482920876\n",
      "\n",
      "\n",
      "mse: 2.7617455947593852e+16\n",
      "********************************************************************************\n"
     ]
    }
   ],
   "source": [
    "#Random Forest\n",
    "selmod.ranfo(X_train,y_train,X_test,y_test)"
   ]
  },
  {
   "cell_type": "code",
   "execution_count": 94,
   "metadata": {},
   "outputs": [
    {
     "name": "stdout",
     "output_type": "stream",
     "text": [
      "KNN Regressor\n",
      "\n",
      "\n",
      "Training Validation \n",
      "\n",
      "R2:  \n",
      " 0.7484069835362169\n",
      "\n",
      "\n",
      "mae: 2590271.9216016685\n",
      "\n",
      "\n",
      "mse: 825725038332520.9\n",
      "********************************************************************************\n",
      "Testing Validation\n",
      "\n",
      "\n",
      "R2:  \n",
      " 0.29495648618581405\n",
      "\n",
      "\n",
      "mae: 18976846.134883497\n",
      "\n",
      "\n",
      "mse: 4.009725355854079e+16\n",
      "********************************************************************************\n"
     ]
    }
   ],
   "source": [
    "#KNN \n",
    "selmod.kneigh(X_train,y_train,X_test,y_test)"
   ]
  },
  {
   "cell_type": "code",
   "execution_count": 95,
   "metadata": {},
   "outputs": [
    {
     "name": "stdout",
     "output_type": "stream",
     "text": [
      "Ada Boost Regressor\n",
      "\n",
      "\n",
      "Training Validation \n",
      "\n",
      "R2:  \n",
      " 0.9843648875283723\n",
      "\n",
      "\n",
      "mae: 4735932.74648046\n",
      "\n",
      "\n",
      "mse: 51314237678081.766\n",
      "********************************************************************************\n",
      "Testing Validation\n",
      "\n",
      "\n",
      "R2:  \n",
      " 0.6360157353548819\n",
      "\n",
      "\n",
      "mae: 17666732.739650395\n",
      "\n",
      "\n",
      "mse: 2.070052282566033e+16\n",
      "********************************************************************************\n"
     ]
    }
   ],
   "source": [
    "#Ada Boost\n",
    "selmod.ada(X_train,y_train,X_test,y_test)\n"
   ]
  },
  {
   "cell_type": "code",
   "execution_count": 96,
   "metadata": {},
   "outputs": [],
   "source": [
    "#For this dataset Linear Regression is the best model where our testing accuracy is 0.976 and training accuracy is 0.960\n"
   ]
  },
  {
   "cell_type": "code",
   "execution_count": 97,
   "metadata": {},
   "outputs": [],
   "source": [
    "import pickle\n",
    "\n",
    "pickle.dump(selmod.ranfo, open('ranf.pkl','wb'))\n",
    "\n",
    "#pickle.dump(ranf_fit,open('randomforest.pkl', 'wb'))\n",
    "\n",
    "pickle.dump(selmod.linr,open('linear.pkl','wb'))\n",
    "\n",
    "#pickle.dump(best_random_grid,open('randomizedsearch.pkl','wb'))"
   ]
  },
  {
   "cell_type": "code",
   "execution_count": null,
   "metadata": {},
   "outputs": [],
   "source": []
  },
  {
   "cell_type": "code",
   "execution_count": null,
   "metadata": {},
   "outputs": [],
   "source": []
  }
 ],
 "metadata": {
  "kernelspec": {
   "display_name": "Python 3",
   "language": "python",
   "name": "python3"
  },
  "language_info": {
   "codemirror_mode": {
    "name": "ipython",
    "version": 3
   },
   "file_extension": ".py",
   "mimetype": "text/x-python",
   "name": "python",
   "nbconvert_exporter": "python",
   "pygments_lexer": "ipython3",
   "version": "3.8.3"
  }
 },
 "nbformat": 4,
 "nbformat_minor": 2
}
