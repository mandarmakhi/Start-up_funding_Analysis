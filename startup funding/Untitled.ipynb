{
 "cells": [
  {
   "cell_type": "markdown",
   "metadata": {},
   "source": [
    "# STARTUP FUNDING ANALYSIS\n",
    "##  obective\n",
    "####  ● How does the funding ecosystem change with time?\n",
    "####  ● Do cities play a major role in funding?\n",
    "####  ● Which industries are favored by investors for funding?\n",
    "####  ● Who are the important investors in the Indian Ecosystem?\n",
    "####  ● How much funds do startups generally get in India?"
   ]
  },
  {
   "cell_type": "markdown",
   "metadata": {},
   "source": [
    "# Libraries"
   ]
  },
  {
   "cell_type": "code",
   "execution_count": 1,
   "metadata": {},
   "outputs": [],
   "source": [
    "#Importing libraries\n",
    "import numpy as np\n",
    "import pandas as pd\n",
    "import matplotlib.pyplot as plt\n",
    "import seaborn as sns\n",
    "%matplotlib inline\n",
    "import warnings\n",
    "warnings.filterwarnings('ignore')\n",
    "import datetime as dt"
   ]
  },
  {
   "cell_type": "code",
   "execution_count": 2,
   "metadata": {},
   "outputs": [],
   "source": [
    "#Reading csv file using pandas\n",
    "\n",
    "df= pd.read_csv(\"startup__funding.csv\")"
   ]
  },
  {
   "cell_type": "code",
   "execution_count": 3,
   "metadata": {},
   "outputs": [],
   "source": [
    "pd.options.display.max_columns = None #to show all the columns in dataset"
   ]
  },
  {
   "cell_type": "code",
   "execution_count": 4,
   "metadata": {},
   "outputs": [
    {
     "data": {
      "text/html": [
       "<div>\n",
       "<style scoped>\n",
       "    .dataframe tbody tr th:only-of-type {\n",
       "        vertical-align: middle;\n",
       "    }\n",
       "\n",
       "    .dataframe tbody tr th {\n",
       "        vertical-align: top;\n",
       "    }\n",
       "\n",
       "    .dataframe thead th {\n",
       "        text-align: right;\n",
       "    }\n",
       "</style>\n",
       "<table border=\"1\" class=\"dataframe\">\n",
       "  <thead>\n",
       "    <tr style=\"text-align: right;\">\n",
       "      <th></th>\n",
       "      <th>SNo</th>\n",
       "      <th>Date</th>\n",
       "      <th>Startup Name</th>\n",
       "      <th>IndustryVertical</th>\n",
       "      <th>SubVertical</th>\n",
       "      <th>CityLocation</th>\n",
       "      <th>Investorname</th>\n",
       "      <th>InvestmentnType</th>\n",
       "      <th>AmountinUSD</th>\n",
       "      <th>Remarks</th>\n",
       "    </tr>\n",
       "  </thead>\n",
       "  <tbody>\n",
       "    <tr>\n",
       "      <td>0</td>\n",
       "      <td>0</td>\n",
       "      <td>05-09-2019</td>\n",
       "      <td>FPL Technologies</td>\n",
       "      <td>FinTech</td>\n",
       "      <td>Financial Services</td>\n",
       "      <td>Pune</td>\n",
       "      <td>Matrix Partners India, Sequoia India</td>\n",
       "      <td>Maiden Round</td>\n",
       "      <td>4500000.00</td>\n",
       "      <td>NaN</td>\n",
       "    </tr>\n",
       "    <tr>\n",
       "      <td>1</td>\n",
       "      <td>1</td>\n",
       "      <td>04-09-2019</td>\n",
       "      <td>Cashflo</td>\n",
       "      <td>FinTech</td>\n",
       "      <td>Invoice discounting platform and SME lending m...</td>\n",
       "      <td>Mumbai</td>\n",
       "      <td>SAIF Partners</td>\n",
       "      <td>Series A</td>\n",
       "      <td>3300000.00</td>\n",
       "      <td>NaN</td>\n",
       "    </tr>\n",
       "    <tr>\n",
       "      <td>2</td>\n",
       "      <td>2</td>\n",
       "      <td>04-09-2019</td>\n",
       "      <td>Digital F5</td>\n",
       "      <td>Advertising, Marketing</td>\n",
       "      <td>Digital marketing firm</td>\n",
       "      <td>Mumbai</td>\n",
       "      <td>TIW Private Equity</td>\n",
       "      <td>Private Equity Round</td>\n",
       "      <td>6000000.00</td>\n",
       "      <td>NaN</td>\n",
       "    </tr>\n",
       "    <tr>\n",
       "      <td>3</td>\n",
       "      <td>3</td>\n",
       "      <td>04-09-2019</td>\n",
       "      <td>3rdFlix</td>\n",
       "      <td>SaaS</td>\n",
       "      <td>Education Technology</td>\n",
       "      <td>Hyderabad</td>\n",
       "      <td>Exfinity Venture Partners</td>\n",
       "      <td>pre-series A</td>\n",
       "      <td>5000000.00</td>\n",
       "      <td>NaN</td>\n",
       "    </tr>\n",
       "    <tr>\n",
       "      <td>4</td>\n",
       "      <td>4</td>\n",
       "      <td>04-09-2019</td>\n",
       "      <td>75F</td>\n",
       "      <td>IoT</td>\n",
       "      <td>Building automation system</td>\n",
       "      <td>Burnsville</td>\n",
       "      <td>Breakthrough Energy Ventures</td>\n",
       "      <td>Series A</td>\n",
       "      <td>18000000.00</td>\n",
       "      <td>NaN</td>\n",
       "    </tr>\n",
       "  </tbody>\n",
       "</table>\n",
       "</div>"
      ],
      "text/plain": [
       "   SNo        Date      Startup Name        IndustryVertical  \\\n",
       "0    0  05-09-2019  FPL Technologies                 FinTech   \n",
       "1    1  04-09-2019           Cashflo                 FinTech   \n",
       "2    2  04-09-2019        Digital F5  Advertising, Marketing   \n",
       "3    3  04-09-2019           3rdFlix                    SaaS   \n",
       "4    4  04-09-2019               75F                     IoT   \n",
       "\n",
       "                                         SubVertical CityLocation  \\\n",
       "0                                 Financial Services         Pune   \n",
       "1  Invoice discounting platform and SME lending m...       Mumbai   \n",
       "2                             Digital marketing firm       Mumbai   \n",
       "3                               Education Technology    Hyderabad   \n",
       "4                         Building automation system   Burnsville   \n",
       "\n",
       "                           Investorname       InvestmentnType  AmountinUSD  \\\n",
       "0  Matrix Partners India, Sequoia India          Maiden Round   4500000.00   \n",
       "1                         SAIF Partners              Series A   3300000.00   \n",
       "2                    TIW Private Equity  Private Equity Round   6000000.00   \n",
       "3             Exfinity Venture Partners          pre-series A   5000000.00   \n",
       "4          Breakthrough Energy Ventures              Series A  18000000.00   \n",
       "\n",
       "  Remarks  \n",
       "0     NaN  \n",
       "1     NaN  \n",
       "2     NaN  \n",
       "3     NaN  \n",
       "4     NaN  "
      ]
     },
     "execution_count": 4,
     "metadata": {},
     "output_type": "execute_result"
    }
   ],
   "source": [
    "df.head(5)"
   ]
  },
  {
   "cell_type": "markdown",
   "metadata": {},
   "source": [
    "# 1. Understanding the data"
   ]
  },
  {
   "cell_type": "code",
   "execution_count": 5,
   "metadata": {},
   "outputs": [
    {
     "data": {
      "text/plain": [
       "(2999, 10)"
      ]
     },
     "execution_count": 5,
     "metadata": {},
     "output_type": "execute_result"
    }
   ],
   "source": [
    "df.shape"
   ]
  },
  {
   "cell_type": "raw",
   "metadata": {},
   "source": [
    "The dataset is having 11 input variables and 3010 observations"
   ]
  },
  {
   "cell_type": "code",
   "execution_count": 6,
   "metadata": {},
   "outputs": [],
   "source": [
    "df['AmountinUSD']= df['AmountinUSD'].str[:-3]"
   ]
  },
  {
   "cell_type": "code",
   "execution_count": 7,
   "metadata": {},
   "outputs": [],
   "source": [
    "df['AmountinUSD'] = df['AmountinUSD'].str.replace('[\\$\\,\\.]','')"
   ]
  },
  {
   "cell_type": "code",
   "execution_count": null,
   "metadata": {},
   "outputs": [],
   "source": []
  },
  {
   "cell_type": "code",
   "execution_count": 8,
   "metadata": {},
   "outputs": [
    {
     "data": {
      "text/html": [
       "<div>\n",
       "<style scoped>\n",
       "    .dataframe tbody tr th:only-of-type {\n",
       "        vertical-align: middle;\n",
       "    }\n",
       "\n",
       "    .dataframe tbody tr th {\n",
       "        vertical-align: top;\n",
       "    }\n",
       "\n",
       "    .dataframe thead th {\n",
       "        text-align: right;\n",
       "    }\n",
       "</style>\n",
       "<table border=\"1\" class=\"dataframe\">\n",
       "  <thead>\n",
       "    <tr style=\"text-align: right;\">\n",
       "      <th></th>\n",
       "      <th>SNo</th>\n",
       "      <th>Date</th>\n",
       "      <th>Startup Name</th>\n",
       "      <th>IndustryVertical</th>\n",
       "      <th>SubVertical</th>\n",
       "      <th>CityLocation</th>\n",
       "      <th>Investorname</th>\n",
       "      <th>InvestmentnType</th>\n",
       "      <th>AmountinUSD</th>\n",
       "      <th>Remarks</th>\n",
       "    </tr>\n",
       "  </thead>\n",
       "  <tbody>\n",
       "    <tr>\n",
       "      <td>0</td>\n",
       "      <td>0</td>\n",
       "      <td>05-09-2019</td>\n",
       "      <td>FPL Technologies</td>\n",
       "      <td>FinTech</td>\n",
       "      <td>Financial Services</td>\n",
       "      <td>Pune</td>\n",
       "      <td>Matrix Partners India, Sequoia India</td>\n",
       "      <td>Maiden Round</td>\n",
       "      <td>4500000</td>\n",
       "      <td>NaN</td>\n",
       "    </tr>\n",
       "    <tr>\n",
       "      <td>1</td>\n",
       "      <td>1</td>\n",
       "      <td>04-09-2019</td>\n",
       "      <td>Cashflo</td>\n",
       "      <td>FinTech</td>\n",
       "      <td>Invoice discounting platform and SME lending m...</td>\n",
       "      <td>Mumbai</td>\n",
       "      <td>SAIF Partners</td>\n",
       "      <td>Series A</td>\n",
       "      <td>3300000</td>\n",
       "      <td>NaN</td>\n",
       "    </tr>\n",
       "    <tr>\n",
       "      <td>2</td>\n",
       "      <td>2</td>\n",
       "      <td>04-09-2019</td>\n",
       "      <td>Digital F5</td>\n",
       "      <td>Advertising, Marketing</td>\n",
       "      <td>Digital marketing firm</td>\n",
       "      <td>Mumbai</td>\n",
       "      <td>TIW Private Equity</td>\n",
       "      <td>Private Equity Round</td>\n",
       "      <td>6000000</td>\n",
       "      <td>NaN</td>\n",
       "    </tr>\n",
       "    <tr>\n",
       "      <td>3</td>\n",
       "      <td>3</td>\n",
       "      <td>04-09-2019</td>\n",
       "      <td>3rdFlix</td>\n",
       "      <td>SaaS</td>\n",
       "      <td>Education Technology</td>\n",
       "      <td>Hyderabad</td>\n",
       "      <td>Exfinity Venture Partners</td>\n",
       "      <td>pre-series A</td>\n",
       "      <td>5000000</td>\n",
       "      <td>NaN</td>\n",
       "    </tr>\n",
       "    <tr>\n",
       "      <td>4</td>\n",
       "      <td>4</td>\n",
       "      <td>04-09-2019</td>\n",
       "      <td>75F</td>\n",
       "      <td>IoT</td>\n",
       "      <td>Building automation system</td>\n",
       "      <td>Burnsville</td>\n",
       "      <td>Breakthrough Energy Ventures</td>\n",
       "      <td>Series A</td>\n",
       "      <td>18000000</td>\n",
       "      <td>NaN</td>\n",
       "    </tr>\n",
       "  </tbody>\n",
       "</table>\n",
       "</div>"
      ],
      "text/plain": [
       "   SNo        Date      Startup Name        IndustryVertical  \\\n",
       "0    0  05-09-2019  FPL Technologies                 FinTech   \n",
       "1    1  04-09-2019           Cashflo                 FinTech   \n",
       "2    2  04-09-2019        Digital F5  Advertising, Marketing   \n",
       "3    3  04-09-2019           3rdFlix                    SaaS   \n",
       "4    4  04-09-2019               75F                     IoT   \n",
       "\n",
       "                                         SubVertical CityLocation  \\\n",
       "0                                 Financial Services         Pune   \n",
       "1  Invoice discounting platform and SME lending m...       Mumbai   \n",
       "2                             Digital marketing firm       Mumbai   \n",
       "3                               Education Technology    Hyderabad   \n",
       "4                         Building automation system   Burnsville   \n",
       "\n",
       "                           Investorname       InvestmentnType AmountinUSD  \\\n",
       "0  Matrix Partners India, Sequoia India          Maiden Round     4500000   \n",
       "1                         SAIF Partners              Series A     3300000   \n",
       "2                    TIW Private Equity  Private Equity Round     6000000   \n",
       "3             Exfinity Venture Partners          pre-series A     5000000   \n",
       "4          Breakthrough Energy Ventures              Series A    18000000   \n",
       "\n",
       "  Remarks  \n",
       "0     NaN  \n",
       "1     NaN  \n",
       "2     NaN  \n",
       "3     NaN  \n",
       "4     NaN  "
      ]
     },
     "execution_count": 8,
     "metadata": {},
     "output_type": "execute_result"
    }
   ],
   "source": [
    "df.head()"
   ]
  },
  {
   "cell_type": "code",
   "execution_count": 9,
   "metadata": {},
   "outputs": [
    {
     "data": {
      "text/plain": [
       "SNo                  int64\n",
       "Date                object\n",
       "Startup Name        object\n",
       "IndustryVertical    object\n",
       "SubVertical         object\n",
       "CityLocation        object\n",
       "Investorname        object\n",
       "InvestmentnType     object\n",
       "AmountinUSD         object\n",
       "Remarks             object\n",
       "dtype: object"
      ]
     },
     "execution_count": 9,
     "metadata": {},
     "output_type": "execute_result"
    }
   ],
   "source": [
    "#data types in dataset\n",
    "df.dtypes "
   ]
  },
  {
   "cell_type": "code",
   "execution_count": 10,
   "metadata": {},
   "outputs": [
    {
     "data": {
      "text/html": [
       "<div>\n",
       "<style scoped>\n",
       "    .dataframe tbody tr th:only-of-type {\n",
       "        vertical-align: middle;\n",
       "    }\n",
       "\n",
       "    .dataframe tbody tr th {\n",
       "        vertical-align: top;\n",
       "    }\n",
       "\n",
       "    .dataframe thead th {\n",
       "        text-align: right;\n",
       "    }\n",
       "</style>\n",
       "<table border=\"1\" class=\"dataframe\">\n",
       "  <thead>\n",
       "    <tr style=\"text-align: right;\">\n",
       "      <th></th>\n",
       "      <th>SNo</th>\n",
       "    </tr>\n",
       "  </thead>\n",
       "  <tbody>\n",
       "    <tr>\n",
       "      <td>count</td>\n",
       "      <td>2999.000000</td>\n",
       "    </tr>\n",
       "    <tr>\n",
       "      <td>mean</td>\n",
       "      <td>1523.117039</td>\n",
       "    </tr>\n",
       "    <tr>\n",
       "      <td>std</td>\n",
       "      <td>883.753590</td>\n",
       "    </tr>\n",
       "    <tr>\n",
       "      <td>min</td>\n",
       "      <td>0.000000</td>\n",
       "    </tr>\n",
       "    <tr>\n",
       "      <td>25%</td>\n",
       "      <td>753.000000</td>\n",
       "    </tr>\n",
       "    <tr>\n",
       "      <td>50%</td>\n",
       "      <td>1525.000000</td>\n",
       "    </tr>\n",
       "    <tr>\n",
       "      <td>75%</td>\n",
       "      <td>2283.500000</td>\n",
       "    </tr>\n",
       "    <tr>\n",
       "      <td>max</td>\n",
       "      <td>3057.000000</td>\n",
       "    </tr>\n",
       "  </tbody>\n",
       "</table>\n",
       "</div>"
      ],
      "text/plain": [
       "               SNo\n",
       "count  2999.000000\n",
       "mean   1523.117039\n",
       "std     883.753590\n",
       "min       0.000000\n",
       "25%     753.000000\n",
       "50%    1525.000000\n",
       "75%    2283.500000\n",
       "max    3057.000000"
      ]
     },
     "execution_count": 10,
     "metadata": {},
     "output_type": "execute_result"
    }
   ],
   "source": [
    "df.describe()"
   ]
  },
  {
   "cell_type": "code",
   "execution_count": 11,
   "metadata": {},
   "outputs": [
    {
     "name": "stdout",
     "output_type": "stream",
     "text": [
      "<class 'pandas.core.frame.DataFrame'>\n",
      "RangeIndex: 2999 entries, 0 to 2998\n",
      "Data columns (total 10 columns):\n",
      "SNo                 2999 non-null int64\n",
      "Date                2999 non-null object\n",
      "Startup Name        2999 non-null object\n",
      "IndustryVertical    2828 non-null object\n",
      "SubVertical         2073 non-null object\n",
      "CityLocation        2819 non-null object\n",
      "Investorname        2976 non-null object\n",
      "InvestmentnType     2999 non-null object\n",
      "AmountinUSD         2033 non-null object\n",
      "Remarks             415 non-null object\n",
      "dtypes: int64(1), object(9)\n",
      "memory usage: 234.4+ KB\n"
     ]
    }
   ],
   "source": [
    "df.info()"
   ]
  },
  {
   "cell_type": "code",
   "execution_count": 12,
   "metadata": {},
   "outputs": [
    {
     "data": {
      "text/plain": [
       "SNo                 2999\n",
       "Date                1001\n",
       "Startup Name        2429\n",
       "IndustryVertical     801\n",
       "SubVertical         1912\n",
       "CityLocation         104\n",
       "Investorname        2375\n",
       "InvestmentnType       50\n",
       "AmountinUSD          447\n",
       "Remarks               69\n",
       "dtype: int64"
      ]
     },
     "execution_count": 12,
     "metadata": {},
     "output_type": "execute_result"
    }
   ],
   "source": [
    "df.nunique()"
   ]
  },
  {
   "cell_type": "code",
   "execution_count": 13,
   "metadata": {},
   "outputs": [
    {
     "data": {
      "text/html": [
       "<div>\n",
       "<style scoped>\n",
       "    .dataframe tbody tr th:only-of-type {\n",
       "        vertical-align: middle;\n",
       "    }\n",
       "\n",
       "    .dataframe tbody tr th {\n",
       "        vertical-align: top;\n",
       "    }\n",
       "\n",
       "    .dataframe thead th {\n",
       "        text-align: right;\n",
       "    }\n",
       "</style>\n",
       "<table border=\"1\" class=\"dataframe\">\n",
       "  <thead>\n",
       "    <tr style=\"text-align: right;\">\n",
       "      <th></th>\n",
       "      <th>SNo</th>\n",
       "      <th>Date</th>\n",
       "      <th>Startup Name</th>\n",
       "      <th>IndustryVertical</th>\n",
       "      <th>SubVertical</th>\n",
       "      <th>CityLocation</th>\n",
       "      <th>Investorname</th>\n",
       "      <th>InvestmentnType</th>\n",
       "      <th>AmountinUSD</th>\n",
       "      <th>Remarks</th>\n",
       "    </tr>\n",
       "  </thead>\n",
       "  <tbody>\n",
       "    <tr>\n",
       "      <td>0</td>\n",
       "      <td>0</td>\n",
       "      <td>05-09-2019</td>\n",
       "      <td>FPL Technologies</td>\n",
       "      <td>FinTech</td>\n",
       "      <td>Financial Services</td>\n",
       "      <td>Pune</td>\n",
       "      <td>Matrix Partners India, Sequoia India</td>\n",
       "      <td>Maiden Round</td>\n",
       "      <td>4500000</td>\n",
       "      <td>NaN</td>\n",
       "    </tr>\n",
       "    <tr>\n",
       "      <td>1</td>\n",
       "      <td>1</td>\n",
       "      <td>04-09-2019</td>\n",
       "      <td>Cashflo</td>\n",
       "      <td>FinTech</td>\n",
       "      <td>Invoice discounting platform and SME lending m...</td>\n",
       "      <td>Mumbai</td>\n",
       "      <td>SAIF Partners</td>\n",
       "      <td>Series A</td>\n",
       "      <td>3300000</td>\n",
       "      <td>NaN</td>\n",
       "    </tr>\n",
       "    <tr>\n",
       "      <td>2</td>\n",
       "      <td>2</td>\n",
       "      <td>04-09-2019</td>\n",
       "      <td>Digital F5</td>\n",
       "      <td>Advertising, Marketing</td>\n",
       "      <td>Digital marketing firm</td>\n",
       "      <td>Mumbai</td>\n",
       "      <td>TIW Private Equity</td>\n",
       "      <td>Private Equity Round</td>\n",
       "      <td>6000000</td>\n",
       "      <td>NaN</td>\n",
       "    </tr>\n",
       "    <tr>\n",
       "      <td>3</td>\n",
       "      <td>3</td>\n",
       "      <td>04-09-2019</td>\n",
       "      <td>3rdFlix</td>\n",
       "      <td>SaaS</td>\n",
       "      <td>Education Technology</td>\n",
       "      <td>Hyderabad</td>\n",
       "      <td>Exfinity Venture Partners</td>\n",
       "      <td>pre-series A</td>\n",
       "      <td>5000000</td>\n",
       "      <td>NaN</td>\n",
       "    </tr>\n",
       "    <tr>\n",
       "      <td>4</td>\n",
       "      <td>4</td>\n",
       "      <td>04-09-2019</td>\n",
       "      <td>75F</td>\n",
       "      <td>IoT</td>\n",
       "      <td>Building automation system</td>\n",
       "      <td>Burnsville</td>\n",
       "      <td>Breakthrough Energy Ventures</td>\n",
       "      <td>Series A</td>\n",
       "      <td>18000000</td>\n",
       "      <td>NaN</td>\n",
       "    </tr>\n",
       "  </tbody>\n",
       "</table>\n",
       "</div>"
      ],
      "text/plain": [
       "   SNo        Date      Startup Name        IndustryVertical  \\\n",
       "0    0  05-09-2019  FPL Technologies                 FinTech   \n",
       "1    1  04-09-2019           Cashflo                 FinTech   \n",
       "2    2  04-09-2019        Digital F5  Advertising, Marketing   \n",
       "3    3  04-09-2019           3rdFlix                    SaaS   \n",
       "4    4  04-09-2019               75F                     IoT   \n",
       "\n",
       "                                         SubVertical CityLocation  \\\n",
       "0                                 Financial Services         Pune   \n",
       "1  Invoice discounting platform and SME lending m...       Mumbai   \n",
       "2                             Digital marketing firm       Mumbai   \n",
       "3                               Education Technology    Hyderabad   \n",
       "4                         Building automation system   Burnsville   \n",
       "\n",
       "                           Investorname       InvestmentnType AmountinUSD  \\\n",
       "0  Matrix Partners India, Sequoia India          Maiden Round     4500000   \n",
       "1                         SAIF Partners              Series A     3300000   \n",
       "2                    TIW Private Equity  Private Equity Round     6000000   \n",
       "3             Exfinity Venture Partners          pre-series A     5000000   \n",
       "4          Breakthrough Energy Ventures              Series A    18000000   \n",
       "\n",
       "  Remarks  \n",
       "0     NaN  \n",
       "1     NaN  \n",
       "2     NaN  \n",
       "3     NaN  \n",
       "4     NaN  "
      ]
     },
     "execution_count": 13,
     "metadata": {},
     "output_type": "execute_result"
    }
   ],
   "source": [
    "#Keeping a copy of the original data\n",
    "df_original= df.copy()\n",
    "df_original.head()"
   ]
  },
  {
   "cell_type": "markdown",
   "metadata": {},
   "source": [
    "# 2. Handling The Missing Values"
   ]
  },
  {
   "cell_type": "code",
   "execution_count": 14,
   "metadata": {},
   "outputs": [
    {
     "name": "stdout",
     "output_type": "stream",
     "text": [
      "number of duplicate rows: (0, 10)\n"
     ]
    }
   ],
   "source": [
    "# Find Duplicate Rows\n",
    "duplicate_rows_df = df[df.duplicated()]\n",
    "print(\"number of duplicate rows:\" , duplicate_rows_df.shape)"
   ]
  },
  {
   "cell_type": "code",
   "execution_count": 15,
   "metadata": {},
   "outputs": [
    {
     "data": {
      "text/plain": [
       "(2999, 10)"
      ]
     },
     "execution_count": 15,
     "metadata": {},
     "output_type": "execute_result"
    }
   ],
   "source": [
    "# Remove Duplicate Rows\n",
    "df = df.drop_duplicates()\n",
    "df.shape"
   ]
  },
  {
   "cell_type": "code",
   "execution_count": 16,
   "metadata": {},
   "outputs": [
    {
     "data": {
      "text/plain": [
       "SNo                    0\n",
       "Date                   0\n",
       "Startup Name           0\n",
       "IndustryVertical     171\n",
       "SubVertical          926\n",
       "CityLocation         180\n",
       "Investorname          23\n",
       "InvestmentnType        0\n",
       "AmountinUSD          966\n",
       "Remarks             2584\n",
       "dtype: int64"
      ]
     },
     "execution_count": 16,
     "metadata": {},
     "output_type": "execute_result"
    }
   ],
   "source": [
    "df.isna().sum()"
   ]
  },
  {
   "cell_type": "code",
   "execution_count": 17,
   "metadata": {},
   "outputs": [
    {
     "data": {
      "image/png": "[encoded data removed]",
      "text/plain": [
       "<Figure size 432x288 with 1 Axes>"
      ]
     },
     "metadata": {
      "needs_background": "light"
     },
     "output_type": "display_data"
    }
   ],
   "source": [
    "sns.heatmap(df.isnull(), cbar=False)\n",
    "plt.show();"
   ]
  },
  {
   "cell_type": "code",
   "execution_count": 18,
   "metadata": {},
   "outputs": [],
   "source": [
    "#Dropping this Columns as ChgOffDate had only 70% of NaN Values and Name is not very important as it is just id \n",
    "df.drop([ 'SNo','Remarks'], axis = 1, inplace=True)"
   ]
  },
  {
   "cell_type": "code",
   "execution_count": 19,
   "metadata": {},
   "outputs": [
    {
     "data": {
      "text/plain": [
       "(2999, 8)"
      ]
     },
     "execution_count": 19,
     "metadata": {},
     "output_type": "execute_result"
    }
   ],
   "source": [
    "df.shape"
   ]
  },
  {
   "cell_type": "code",
   "execution_count": 20,
   "metadata": {},
   "outputs": [],
   "source": [
    "#First step is to convert object into date time to do this we need to first structure the data\n",
    "df['Date']=df['Date'].replace({\"12/05.2015\":\"12/05/2015\"})\n",
    "df['Date']=df['Date'].replace({\"13/04.2015\":\"13/04/2015\"})\n",
    "df['Date']=df['Date'].replace({\"22/01//2015\":\"22/01/2015\"})\n",
    "df['Date']=df['Date'].replace({\"15/01.2015\":\"15/01/2015\"})"
   ]
  },
  {
   "cell_type": "code",
   "execution_count": 21,
   "metadata": {},
   "outputs": [],
   "source": [
    "#Converting date column into type date\n",
    "df['Date']=pd.to_datetime(df['Date'])"
   ]
  },
  {
   "cell_type": "code",
   "execution_count": 22,
   "metadata": {},
   "outputs": [],
   "source": [
    "#Extracting month from date column\n",
    "df['month']=df['Date'].dt.month"
   ]
  },
  {
   "cell_type": "code",
   "execution_count": 23,
   "metadata": {},
   "outputs": [],
   "source": [
    "#Extracting year from date column\n",
    "\n",
    "df['year']=df['Date'].dt.year"
   ]
  },
  {
   "cell_type": "code",
   "execution_count": 24,
   "metadata": {},
   "outputs": [],
   "source": [
    "#Extracting year from date column\n",
    "\n",
    "df['quarter']=df['Date'].dt.quarter"
   ]
  },
  {
   "cell_type": "code",
   "execution_count": 25,
   "metadata": {},
   "outputs": [],
   "source": [
    "#Extracting days from date column\n",
    "\n",
    "df['day']=df['Date'].dt.day"
   ]
  },
  {
   "cell_type": "code",
   "execution_count": 26,
   "metadata": {},
   "outputs": [],
   "source": [
    "# Combining year and month together\n",
    "df[\"yearmonth\"] = (pd.to_datetime(df['Date'],format='%d/%m/%Y').dt.year*100)+ (pd.to_datetime(df['Date'],format='%d/%m/%Y').dt.month)"
   ]
  },
  {
   "cell_type": "code",
   "execution_count": 27,
   "metadata": {},
   "outputs": [],
   "source": [
    "year_month = df['yearmonth'].dropna().value_counts()"
   ]
  },
  {
   "cell_type": "code",
   "execution_count": 28,
   "metadata": {},
   "outputs": [],
   "source": [
    "#Dropping date column as we have all the information extracted\n",
    "df.drop('Date',axis=1,inplace=True)"
   ]
  },
  {
   "cell_type": "code",
   "execution_count": 29,
   "metadata": {},
   "outputs": [],
   "source": [
    "#Calculating percentage of all the date categories for eda\n",
    "year=df['year'].value_counts()/len(df['year'])*100\n",
    "month=df['month'].value_counts()/len(df['month'])*100\n",
    "quarter=df['quarter'].value_counts()/len(df['quarter'])*100\n",
    "day=df['day'].value_counts()/len(df['day'])*100"
   ]
  },
  {
   "cell_type": "markdown",
   "metadata": {},
   "source": [
    "#### StartupName"
   ]
  },
  {
   "cell_type": "code",
   "execution_count": 30,
   "metadata": {},
   "outputs": [],
   "source": [
    "#There are many variables where the data is same but the name is different\n",
    "#First we will lower all the strings\n",
    "#Later we will personally rename all the variable names\n",
    "df['Startup Name']=df['Startup Name'].str.lower()"
   ]
  },
  {
   "cell_type": "code",
   "execution_count": 31,
   "metadata": {},
   "outputs": [],
   "source": [
    "df['Startup Name']=df['Startup Name'].replace(\"practo\",\"practo\")\n",
    "df['Startup Name']=df['Startup Name'].replace(\"couponmachine.in\",\"couponmachine\")\n",
    "df['Startup Name']=df['Startup Name'].replace(\"olacabs\",\"ola cabs\")\n",
    "df['Startup Name']=df['Startup Name'].replace(\"ola\",\"ola cabs\")\n",
    "df['Startup Name']=df['Startup Name'].replace(\"olipkart.com\",\"flipkart\")\n",
    "df['Startup Name']=df['Startup Name'].replace(\"paytm marketplace\",\"paytm\")\n",
    "df['Startup Name'][df['Startup Name']=='flipkart.com']='flipkart'\n",
    "\n",
    "df['Startup Name'][df['Startup Name']=='oyo']='oyo rooms'"
   ]
  },
  {
   "cell_type": "markdown",
   "metadata": {},
   "source": [
    "#### Industry Vertical"
   ]
  },
  {
   "cell_type": "code",
   "execution_count": 32,
   "metadata": {},
   "outputs": [],
   "source": [
    "df['IndustryVertical']=df['IndustryVertical'].str.lower()"
   ]
  },
  {
   "cell_type": "markdown",
   "metadata": {},
   "source": [
    "#### Industry Subvertical"
   ]
  },
  {
   "cell_type": "code",
   "execution_count": 33,
   "metadata": {},
   "outputs": [],
   "source": [
    "df['SubVertical']=df['SubVertical'].str.lower()"
   ]
  },
  {
   "cell_type": "markdown",
   "metadata": {},
   "source": [
    "#### City Location"
   ]
  },
  {
   "cell_type": "code",
   "execution_count": 34,
   "metadata": {},
   "outputs": [],
   "source": [
    "df['CityLocation']=df['CityLocation'].str.lower().str[0:2]"
   ]
  },
  {
   "cell_type": "markdown",
   "metadata": {},
   "source": [
    "#### Investor Name"
   ]
  },
  {
   "cell_type": "code",
   "execution_count": 35,
   "metadata": {},
   "outputs": [],
   "source": [
    "df['Investorname']=df['Investorname'].str.split(expand=True)[0].str.lower()"
   ]
  },
  {
   "cell_type": "markdown",
   "metadata": {},
   "source": [
    "#### Investment Type"
   ]
  },
  {
   "cell_type": "code",
   "execution_count": 36,
   "metadata": {},
   "outputs": [],
   "source": [
    "df['InvestmentnType']=df['InvestmentnType'].str.lower().str[0]"
   ]
  },
  {
   "cell_type": "code",
   "execution_count": 37,
   "metadata": {},
   "outputs": [
    {
     "data": {
      "text/html": [
       "<div>\n",
       "<style scoped>\n",
       "    .dataframe tbody tr th:only-of-type {\n",
       "        vertical-align: middle;\n",
       "    }\n",
       "\n",
       "    .dataframe tbody tr th {\n",
       "        vertical-align: top;\n",
       "    }\n",
       "\n",
       "    .dataframe thead th {\n",
       "        text-align: right;\n",
       "    }\n",
       "</style>\n",
       "<table border=\"1\" class=\"dataframe\">\n",
       "  <thead>\n",
       "    <tr style=\"text-align: right;\">\n",
       "      <th></th>\n",
       "      <th>Startup Name</th>\n",
       "      <th>IndustryVertical</th>\n",
       "      <th>SubVertical</th>\n",
       "      <th>CityLocation</th>\n",
       "      <th>Investorname</th>\n",
       "      <th>InvestmentnType</th>\n",
       "      <th>AmountinUSD</th>\n",
       "      <th>month</th>\n",
       "      <th>year</th>\n",
       "      <th>quarter</th>\n",
       "      <th>day</th>\n",
       "      <th>yearmonth</th>\n",
       "    </tr>\n",
       "  </thead>\n",
       "  <tbody>\n",
       "    <tr>\n",
       "      <td>0</td>\n",
       "      <td>fpl technologies</td>\n",
       "      <td>fintech</td>\n",
       "      <td>financial services</td>\n",
       "      <td>pu</td>\n",
       "      <td>matrix</td>\n",
       "      <td>m</td>\n",
       "      <td>4500000</td>\n",
       "      <td>5</td>\n",
       "      <td>2019</td>\n",
       "      <td>2</td>\n",
       "      <td>9</td>\n",
       "      <td>201905</td>\n",
       "    </tr>\n",
       "    <tr>\n",
       "      <td>1</td>\n",
       "      <td>cashflo</td>\n",
       "      <td>fintech</td>\n",
       "      <td>invoice discounting platform and sme lending m...</td>\n",
       "      <td>mu</td>\n",
       "      <td>saif</td>\n",
       "      <td>s</td>\n",
       "      <td>3300000</td>\n",
       "      <td>4</td>\n",
       "      <td>2019</td>\n",
       "      <td>2</td>\n",
       "      <td>9</td>\n",
       "      <td>201904</td>\n",
       "    </tr>\n",
       "    <tr>\n",
       "      <td>2</td>\n",
       "      <td>digital f5</td>\n",
       "      <td>advertising, marketing</td>\n",
       "      <td>digital marketing firm</td>\n",
       "      <td>mu</td>\n",
       "      <td>tiw</td>\n",
       "      <td>p</td>\n",
       "      <td>6000000</td>\n",
       "      <td>4</td>\n",
       "      <td>2019</td>\n",
       "      <td>2</td>\n",
       "      <td>9</td>\n",
       "      <td>201904</td>\n",
       "    </tr>\n",
       "    <tr>\n",
       "      <td>3</td>\n",
       "      <td>3rdflix</td>\n",
       "      <td>saas</td>\n",
       "      <td>education technology</td>\n",
       "      <td>hy</td>\n",
       "      <td>exfinity</td>\n",
       "      <td>p</td>\n",
       "      <td>5000000</td>\n",
       "      <td>4</td>\n",
       "      <td>2019</td>\n",
       "      <td>2</td>\n",
       "      <td>9</td>\n",
       "      <td>201904</td>\n",
       "    </tr>\n",
       "    <tr>\n",
       "      <td>4</td>\n",
       "      <td>75f</td>\n",
       "      <td>iot</td>\n",
       "      <td>building automation system</td>\n",
       "      <td>bu</td>\n",
       "      <td>breakthrough</td>\n",
       "      <td>s</td>\n",
       "      <td>18000000</td>\n",
       "      <td>4</td>\n",
       "      <td>2019</td>\n",
       "      <td>2</td>\n",
       "      <td>9</td>\n",
       "      <td>201904</td>\n",
       "    </tr>\n",
       "  </tbody>\n",
       "</table>\n",
       "</div>"
      ],
      "text/plain": [
       "       Startup Name        IndustryVertical  \\\n",
       "0  fpl technologies                 fintech   \n",
       "1           cashflo                 fintech   \n",
       "2        digital f5  advertising, marketing   \n",
       "3           3rdflix                    saas   \n",
       "4               75f                     iot   \n",
       "\n",
       "                                         SubVertical CityLocation  \\\n",
       "0                                 financial services           pu   \n",
       "1  invoice discounting platform and sme lending m...           mu   \n",
       "2                             digital marketing firm           mu   \n",
       "3                               education technology           hy   \n",
       "4                         building automation system           bu   \n",
       "\n",
       "   Investorname InvestmentnType AmountinUSD  month  year  quarter  day  \\\n",
       "0        matrix               m     4500000      5  2019        2    9   \n",
       "1          saif               s     3300000      4  2019        2    9   \n",
       "2           tiw               p     6000000      4  2019        2    9   \n",
       "3      exfinity               p     5000000      4  2019        2    9   \n",
       "4  breakthrough               s    18000000      4  2019        2    9   \n",
       "\n",
       "   yearmonth  \n",
       "0     201905  \n",
       "1     201904  \n",
       "2     201904  \n",
       "3     201904  \n",
       "4     201904  "
      ]
     },
     "execution_count": 37,
     "metadata": {},
     "output_type": "execute_result"
    }
   ],
   "source": [
    "df.head()"
   ]
  },
  {
   "cell_type": "code",
   "execution_count": 38,
   "metadata": {},
   "outputs": [
    {
     "data": {
      "image/png": "[encoded data removed]",
      "text/plain": [
       "<Figure size 432x288 with 1 Axes>"
      ]
     },
     "metadata": {
      "needs_background": "light"
     },
     "output_type": "display_data"
    }
   ],
   "source": [
    "sns.heatmap(df.isnull(), cbar=False)\n",
    "plt.show();"
   ]
  },
  {
   "cell_type": "code",
   "execution_count": 39,
   "metadata": {},
   "outputs": [
    {
     "data": {
      "text/plain": [
       "(2999, 12)"
      ]
     },
     "execution_count": 39,
     "metadata": {},
     "output_type": "execute_result"
    }
   ],
   "source": [
    "#Imputting na using mode for following columns\n",
    "\n",
    "df['IndustryVertical'].fillna(df['IndustryVertical'].mode()[0],inplace = True)\n",
    "df['SubVertical'].fillna(df['SubVertical'].mode()[0],inplace = True)\n",
    "df['CityLocation'].fillna(df['CityLocation'].mode()[0],inplace = True)\n",
    "df['Investorname'].fillna(df['Investorname'].mode()[0],inplace = True)\n",
    "df.shape"
   ]
  },
  {
   "cell_type": "code",
   "execution_count": 40,
   "metadata": {},
   "outputs": [
    {
     "data": {
      "image/png": "[encoded data removed]",
      "text/plain": [
       "<Figure size 432x288 with 1 Axes>"
      ]
     },
     "metadata": {
      "needs_background": "light"
     },
     "output_type": "display_data"
    }
   ],
   "source": [
    "sns.heatmap(df.isnull(), cbar=False)\n",
    "plt.show();"
   ]
  },
  {
   "cell_type": "code",
   "execution_count": 41,
   "metadata": {},
   "outputs": [
    {
     "data": {
      "image/png": "[encoded data removed]",
      "text/plain": [
       "<Figure size 432x288 with 1 Axes>"
      ]
     },
     "metadata": {
      "needs_background": "light"
     },
     "output_type": "display_data"
    }
   ],
   "source": [
    "#Now we will create our 2 new dataframes\n",
    "df_test=df[df['AmountinUSD'].isnull()]\n",
    "\n",
    "df_test.drop('AmountinUSD',axis=1,inplace=True)\n",
    "\n",
    "df_test=df_test.dropna()\n",
    "\n",
    "sns.heatmap(df.isnull(), cbar=False)\n",
    "plt.show();\n",
    "#All null values were of year 2015\n",
    "df_train=(df.dropna(subset=['AmountinUSD']))"
   ]
  },
  {
   "cell_type": "code",
   "execution_count": 42,
   "metadata": {},
   "outputs": [],
   "source": [
    "df['AmountinUSD'].fillna(df['AmountinUSD'].mode()[0],inplace = True)"
   ]
  },
  {
   "cell_type": "code",
   "execution_count": 43,
   "metadata": {},
   "outputs": [
    {
     "data": {
      "image/png": "[encoded data removed]",
      "text/plain": [
       "<Figure size 432x288 with 1 Axes>"
      ]
     },
     "metadata": {
      "needs_background": "light"
     },
     "output_type": "display_data"
    }
   ],
   "source": [
    "sns.heatmap(df.isnull(), cbar=False)\n",
    "plt.show();"
   ]
  },
  {
   "cell_type": "code",
   "execution_count": 44,
   "metadata": {},
   "outputs": [
    {
     "data": {
      "text/plain": [
       "Startup Name        0\n",
       "IndustryVertical    0\n",
       "SubVertical         0\n",
       "CityLocation        0\n",
       "Investorname        0\n",
       "InvestmentnType     0\n",
       "AmountinUSD         0\n",
       "month               0\n",
       "year                0\n",
       "quarter             0\n",
       "day                 0\n",
       "yearmonth           0\n",
       "dtype: int64"
      ]
     },
     "execution_count": 44,
     "metadata": {},
     "output_type": "execute_result"
    }
   ],
   "source": [
    "df.isna().sum()"
   ]
  },
  {
   "cell_type": "code",
   "execution_count": 45,
   "metadata": {},
   "outputs": [
    {
     "data": {
      "text/html": [
       "<div>\n",
       "<style scoped>\n",
       "    .dataframe tbody tr th:only-of-type {\n",
       "        vertical-align: middle;\n",
       "    }\n",
       "\n",
       "    .dataframe tbody tr th {\n",
       "        vertical-align: top;\n",
       "    }\n",
       "\n",
       "    .dataframe thead th {\n",
       "        text-align: right;\n",
       "    }\n",
       "</style>\n",
       "<table border=\"1\" class=\"dataframe\">\n",
       "  <thead>\n",
       "    <tr style=\"text-align: right;\">\n",
       "      <th></th>\n",
       "      <th>month</th>\n",
       "      <th>year</th>\n",
       "      <th>quarter</th>\n",
       "      <th>day</th>\n",
       "      <th>yearmonth</th>\n",
       "    </tr>\n",
       "  </thead>\n",
       "  <tbody>\n",
       "    <tr>\n",
       "      <td>month</td>\n",
       "      <td>1.000000</td>\n",
       "      <td>-0.094415</td>\n",
       "      <td>0.970592</td>\n",
       "      <td>-0.039934</td>\n",
       "      <td>-0.062764</td>\n",
       "    </tr>\n",
       "    <tr>\n",
       "      <td>year</td>\n",
       "      <td>-0.094415</td>\n",
       "      <td>1.000000</td>\n",
       "      <td>-0.087223</td>\n",
       "      <td>-0.078592</td>\n",
       "      <td>0.999496</td>\n",
       "    </tr>\n",
       "    <tr>\n",
       "      <td>quarter</td>\n",
       "      <td>0.970592</td>\n",
       "      <td>-0.087223</td>\n",
       "      <td>1.000000</td>\n",
       "      <td>-0.036424</td>\n",
       "      <td>-0.056491</td>\n",
       "    </tr>\n",
       "    <tr>\n",
       "      <td>day</td>\n",
       "      <td>-0.039934</td>\n",
       "      <td>-0.078592</td>\n",
       "      <td>-0.036424</td>\n",
       "      <td>1.000000</td>\n",
       "      <td>-0.080063</td>\n",
       "    </tr>\n",
       "    <tr>\n",
       "      <td>yearmonth</td>\n",
       "      <td>-0.062764</td>\n",
       "      <td>0.999496</td>\n",
       "      <td>-0.056491</td>\n",
       "      <td>-0.080063</td>\n",
       "      <td>1.000000</td>\n",
       "    </tr>\n",
       "  </tbody>\n",
       "</table>\n",
       "</div>"
      ],
      "text/plain": [
       "              month      year   quarter       day  yearmonth\n",
       "month      1.000000 -0.094415  0.970592 -0.039934  -0.062764\n",
       "year      -0.094415  1.000000 -0.087223 -0.078592   0.999496\n",
       "quarter    0.970592 -0.087223  1.000000 -0.036424  -0.056491\n",
       "day       -0.039934 -0.078592 -0.036424  1.000000  -0.080063\n",
       "yearmonth -0.062764  0.999496 -0.056491 -0.080063   1.000000"
      ]
     },
     "execution_count": 45,
     "metadata": {},
     "output_type": "execute_result"
    }
   ],
   "source": [
    "corelation = df.corr()\n",
    "corelation"
   ]
  },
  {
   "cell_type": "code",
   "execution_count": 46,
   "metadata": {},
   "outputs": [
    {
     "data": {
      "image/png": "[encoded data removed]",
      "text/plain": [
       "<Figure size 1080x1080 with 2 Axes>"
      ]
     },
     "metadata": {
      "needs_background": "light"
     },
     "output_type": "display_data"
    }
   ],
   "source": [
    "# Heatmap for correlation of numeric coloms\n",
    "fig, ax = plt.subplots(figsize=(15,15))\n",
    "ax = sns.heatmap(corelation , xticklabels=corelation.columns , yticklabels=corelation.columns , annot=True)\n",
    "bottom, top = ax.get_ylim()\n",
    "ax.set_ylim(bottom + 0.5, top - 0.5);"
   ]
  },
  {
   "cell_type": "markdown",
   "metadata": {},
   "source": [
    "### ● How does the funding ecosystem change with time?"
   ]
  },
  {
   "cell_type": "code",
   "execution_count": 47,
   "metadata": {},
   "outputs": [
    {
     "data": {
      "image/png": "[encoded data removed]",
      "text/plain": [
       "<Figure size 1080x576 with 1 Axes>"
      ]
     },
     "metadata": {
      "needs_background": "light"
     },
     "output_type": "display_data"
    }
   ],
   "source": [
    "#Plotting funding according to its timeline\n",
    "plt.figure(figsize=(15,8))\n",
    "sns.barplot(year_month.index, year_month.values, alpha=0.9,color='skyblue')\n",
    "\n",
    "plt.xticks(rotation='vertical')\n",
    "plt.xlabel('Year-Month ', fontsize=18)\n",
    "plt.ylabel('Number of fundings made', fontsize=18)\n",
    "plt.title(\"Year-Month - Number of Funding Distribution\", fontsize=20)\n",
    "plt.show()\n",
    "#There seems to be no trend in the amount of funding that has been made\n",
    "#but from 201612 to 201712 the funding has been gradually dropped"
   ]
  },
  {
   "cell_type": "code",
   "execution_count": 48,
   "metadata": {},
   "outputs": [
    {
     "data": {
      "image/png": "[encoded data removed]",
      "text/plain": [
       "<Figure size 720x288 with 1 Axes>"
      ]
     },
     "metadata": {
      "needs_background": "light"
     },
     "output_type": "display_data"
    }
   ],
   "source": [
    "#Checking if there is trend in investment as per month\n",
    "plt.figure(figsize=(10,4))\n",
    "sns.barplot(month.index, month.values, alpha=0.9,color='skyblue')\n",
    "plt.title('Investment per month',fontsize=25)\n",
    "plt.xlabel('Month',fontsize=17)\n",
    "plt.ylabel('Number of investments',fontsize=17)\n",
    "plt.xticks(fontsize=13)\n",
    "plt.yticks(fontsize=13)\n",
    "plt.show()\n",
    "#There does not seem to be any trend but January and June seems to have the most number of investments"
   ]
  },
  {
   "cell_type": "code",
   "execution_count": 49,
   "metadata": {},
   "outputs": [
    {
     "data": {
      "image/png": "[encoded data removed]",
      "text/plain": [
       "<Figure size 504x432 with 1 Axes>"
      ]
     },
     "metadata": {
      "needs_background": "light"
     },
     "output_type": "display_data"
    }
   ],
   "source": [
    "#PLotting funding frequency according to year\n",
    "plt.figure(figsize=(7,6))\n",
    "sns.barplot(year.index, year.values, alpha=0.9,color='skyblue')\n",
    "plt.title('Investment per year',fontsize=19)\n",
    "plt.xlabel('Year',fontsize=16)\n",
    "plt.ylabel('Number of investments',fontsize=16)\n",
    "plt.xticks(fontsize=12)\n",
    "plt.yticks(fontsize=12)\n",
    "plt.show()\n",
    "#It looks like funding has increased from 2015 to 2016. \n",
    "#It makes sense if the funding for 2017 will be greater than 2016\n",
    "#\n",
    "#But we have data for 2017 till october so we cannot really say if the investment has increased after 2017. \n",
    "#According to this data, investment has dropped from 39.6% to 18.6% from 2016 to 2017"
   ]
  },
  {
   "cell_type": "code",
   "execution_count": 50,
   "metadata": {},
   "outputs": [
    {
     "data": {
      "image/png": "[encoded data removed]",
      "text/plain": [
       "<Figure size 504x288 with 1 Axes>"
      ]
     },
     "metadata": {
      "needs_background": "light"
     },
     "output_type": "display_data"
    }
   ],
   "source": [
    "#Plotting funding frequency according to the quarter\n",
    "plt.figure(figsize=(7,4))\n",
    "sns.barplot(quarter.index, quarter.values, alpha=0.9,color='skyblue')\n",
    "plt.title(\"Investments per quarter\",fontsize=18)\n",
    "plt.xlabel('Quarter',fontsize=16)\n",
    "plt.ylabel('Number of investment',fontsize=16)\n",
    "plt.xticks(fontsize=14)\n",
    "plt.yticks(fontsize=11)\n",
    "plt.show()\n",
    "#First 2 quarter seems to have slightly more funding than 3rd and 4th quarter"
   ]
  },
  {
   "cell_type": "markdown",
   "metadata": {},
   "source": [
    "##  2) AmountInUSD"
   ]
  },
  {
   "cell_type": "code",
   "execution_count": 51,
   "metadata": {},
   "outputs": [],
   "source": [
    "#Cleaning the target variable\n",
    "df['AmountinUSD']=(df['AmountinUSD'].str.replace(',','')).astype('float')"
   ]
  },
  {
   "cell_type": "code",
   "execution_count": 52,
   "metadata": {},
   "outputs": [
    {
     "name": "stdout",
     "output_type": "stream",
     "text": [
      "Confidence point:- 11827261.87\n",
      "From:- 8305457.01\n",
      "To:- 15349066.73\n",
      "Range:- 7043609.72\n"
     ]
    }
   ],
   "source": [
    "#Making a function which gives 95% confidence point and interval, also the range between the lower and upper value.\n",
    "import scipy.stats as stats\n",
    "\n",
    "def mean_confidence_interval(data, confidence=0.95):\n",
    "    a = 1.0 * np.array(data)\n",
    "    n = len(a)\n",
    "    m, se = np.mean(a), stats.sem(a)\n",
    "    h = se * stats.t.ppf((1 + confidence) / 2., n-1)\n",
    "    print('Confidence point:-',np.around(m,decimals=2))\n",
    "    print('From:-',(np.around(m-h,decimals=2)))\n",
    "    print('To:-',np.around(m+h,decimals=2))\n",
    "    print('Range:-',(np.around((m+h)-(m-h),decimals=2)))\n",
    "    \n",
    "\n",
    "#Calculating 95% confidence interval for out target variable\n",
    "mean_confidence_interval(df['AmountinUSD'].dropna())"
   ]
  },
  {
   "cell_type": "code",
   "execution_count": 53,
   "metadata": {},
   "outputs": [
    {
     "name": "stdout",
     "output_type": "stream",
     "text": [
      "2016\n",
      "******************************\n",
      "Confidence point:- 4264943.21\n",
      "From:- 3313438.67\n",
      "To:- 5216447.75\n",
      "Range:- 1903009.07\n",
      "\n",
      "\n",
      "2015\n",
      "******************************\n",
      "Confidence point:- 9589835.17\n",
      "From:- 6700072.61\n",
      "To:- 12479597.73\n",
      "Range:- 5779525.13\n",
      "\n",
      "\n",
      "2017\n",
      "******************************\n",
      "Confidence point:- 15517190.29\n",
      "From:- 6211835.75\n",
      "To:- 24822544.83\n",
      "Range:- 18610709.08\n",
      "\n",
      "\n",
      "2018\n",
      "******************************\n",
      "Confidence point:- 16642423.77\n",
      "From:- 11064259.92\n",
      "To:- 22220587.62\n",
      "Range:- 11156327.69\n",
      "\n",
      "\n",
      "2019\n",
      "******************************\n",
      "Confidence point:- 78737605.65\n",
      "From:- -15002768.48\n",
      "To:- 172477979.79\n",
      "Range:- 187480748.27\n",
      "\n",
      "\n"
     ]
    }
   ],
   "source": [
    "#Printing confidence interval as per year\n",
    "for x in df['year'].value_counts().index:\n",
    "    print(x)\n",
    "    print('*'*30)\n",
    "    mean_confidence_interval((df['AmountinUSD'][df['year']==x]).dropna())\n",
    "    print('\\n')"
   ]
  },
  {
   "cell_type": "code",
   "execution_count": 54,
   "metadata": {},
   "outputs": [
    {
     "name": "stdout",
     "output_type": "stream",
     "text": [
      "Startup Name\n",
      "******************************\n",
      "ola cabs\n",
      "******************************\n",
      "Confidence point:- 158092307.69\n",
      "From:- 56375790.46\n",
      "To:- 259808824.93\n",
      "Range:- 203433034.47\n",
      "\n",
      "\n",
      "******************************\n",
      "swiggy\n",
      "******************************\n",
      "Confidence point:- 33812500.0\n",
      "From:- 3415400.85\n",
      "To:- 64209599.15\n",
      "Range:- 60794198.3\n",
      "\n",
      "\n",
      "******************************\n",
      "paytm\n",
      "******************************\n",
      "Confidence point:- 335850000.0\n",
      "From:- -153024597.15\n",
      "To:- 824724597.15\n",
      "Range:- 977749194.3\n",
      "\n",
      "\n",
      "IndustryVertical\n",
      "******************************\n",
      "consumer internet\n",
      "******************************\n",
      "Confidence point:- 7076027.5\n",
      "From:- 5580497.21\n",
      "To:- 8571557.8\n",
      "Range:- 2991060.59\n",
      "\n",
      "\n",
      "******************************\n",
      "technology\n",
      "******************************\n",
      "Confidence point:- 4980291.87\n",
      "From:- 3829679.87\n",
      "To:- 6130903.87\n",
      "Range:- 2301224.0\n",
      "\n",
      "\n",
      "******************************\n",
      "ecommerce\n",
      "******************************\n",
      "Confidence point:- 28107405.46\n",
      "From:- 3737243.82\n",
      "To:- 52477567.1\n",
      "Range:- 48740323.28\n",
      "\n",
      "\n",
      "SubVertical\n",
      "******************************\n",
      "online lending platform\n",
      "******************************\n",
      "Confidence point:- 9709908.52\n",
      "From:- 6877179.13\n",
      "To:- 12542637.91\n",
      "Range:- 5665458.78\n",
      "\n",
      "\n",
      "******************************\n",
      "food delivery platform\n",
      "******************************\n",
      "Confidence point:- 1750000.0\n",
      "From:- 346874.85\n",
      "To:- 3153125.15\n",
      "Range:- 2806250.31\n",
      "\n",
      "\n",
      "******************************\n",
      "online pharmacy\n",
      "******************************\n",
      "Confidence point:- 7200000.0\n",
      "From:- 1967072.01\n",
      "To:- 12432927.99\n",
      "Range:- 10465855.98\n",
      "\n",
      "\n",
      "CityLocation\n",
      "******************************\n",
      "ba\n",
      "******************************\n",
      "Confidence point:- 14612910.91\n",
      "From:- 7152663.13\n",
      "To:- 22073158.69\n",
      "Range:- 14920495.56\n",
      "\n",
      "\n",
      "******************************\n",
      "mu\n",
      "******************************\n",
      "Confidence point:- 8929235.53\n",
      "From:- 6119438.94\n",
      "To:- 11739032.12\n",
      "Range:- 5619593.18\n",
      "\n",
      "\n",
      "******************************\n",
      "ne\n",
      "******************************\n",
      "Confidence point:- 7774629.68\n",
      "From:- 3550265.14\n",
      "To:- 11998994.23\n",
      "Range:- 8448729.08\n",
      "\n",
      "\n",
      "Investorname\n",
      "******************************\n",
      "undisclosed\n",
      "******************************\n",
      "Confidence point:- 6638885.04\n",
      "From:- -1606832.69\n",
      "To:- 14884602.76\n",
      "Range:- 16491435.45\n",
      "\n",
      "\n",
      "******************************\n",
      "sequoia\n",
      "******************************\n",
      "Confidence point:- 19103239.44\n",
      "From:- 11616962.32\n",
      "To:- 26589516.55\n",
      "Range:- 14972554.22\n",
      "\n",
      "\n",
      "******************************\n",
      "accel\n",
      "******************************\n",
      "Confidence point:- 7529423.08\n",
      "From:- 4985319.34\n",
      "To:- 10073526.81\n",
      "Range:- 5088207.47\n",
      "\n",
      "\n",
      "InvestmentnType\n",
      "******************************\n",
      "s\n",
      "******************************\n",
      "Confidence point:- 5030015.3\n",
      "From:- 117332.91\n",
      "To:- 9942697.69\n",
      "Range:- 9825364.78\n",
      "\n",
      "\n",
      "******************************\n",
      "p\n",
      "******************************\n",
      "Confidence point:- 19906278.51\n",
      "From:- 14690630.0\n",
      "To:- 25121927.01\n",
      "Range:- 10431297.01\n",
      "\n",
      "\n",
      "******************************\n",
      "d\n",
      "******************************\n",
      "Confidence point:- 4726675.64\n",
      "From:- 3141992.73\n",
      "To:- 6311358.56\n",
      "Range:- 3169365.83\n",
      "\n",
      "\n"
     ]
    }
   ],
   "source": [
    "#Printing confidence interval for top all top3 categories\n",
    "for cols in df.columns[0:6]:\n",
    "    print(cols)\n",
    "    for x in df[cols].value_counts()[0:3].index:\n",
    "        print('*'*30)        \n",
    "\n",
    "        print(x)\n",
    "        \n",
    "        print('*'*30)\n",
    "        \n",
    "        mean_confidence_interval((df['AmountinUSD'][df[cols]==x]).dropna())\n",
    "        \n",
    "        print('\\n')"
   ]
  },
  {
   "cell_type": "code",
   "execution_count": 55,
   "metadata": {},
   "outputs": [
    {
     "name": "stdout",
     "output_type": "stream",
     "text": [
      "skewness 28.408864234338793\n",
      "kurtosis 979.1459082945024\n",
      "median   1000000.0\n",
      "count    2.999000e+03\n",
      "mean     1.182726e+07\n",
      "std      9.836261e+07\n",
      "min      3.000000e+03\n",
      "25%      9.705000e+05\n",
      "50%      1.000000e+06\n",
      "75%      4.000000e+06\n",
      "max      3.900000e+09\n",
      "Name: AmountinUSD, dtype: float64\n"
     ]
    }
   ],
   "source": [
    "#Statistics for Amount of investment\n",
    "#The amount that is invested seems to be very flexible\n",
    "print('skewness',df['AmountinUSD'].skew())\n",
    "print('kurtosis',df['AmountinUSD'].kurtosis())\n",
    "print('median  ',df['AmountinUSD'].median())\n",
    "print(df['AmountinUSD'].describe())"
   ]
  },
  {
   "cell_type": "code",
   "execution_count": 56,
   "metadata": {},
   "outputs": [
    {
     "data": {
      "image/png": "[encoded data removed]",
      "text/plain": [
       "<Figure size 432x288 with 1 Axes>"
      ]
     },
     "execution_count": 56,
     "metadata": {},
     "output_type": "execute_result"
    },
    {
     "data": {
      "image/png": "[encoded data removed]",
      "text/plain": [
       "<Figure size 432x288 with 1 Axes>"
      ]
     },
     "metadata": {
      "needs_background": "light"
     },
     "output_type": "display_data"
    }
   ],
   "source": [
    "#Checking the distribution for the target variable AmountInUSD\n",
    "import statsmodels.api as sm\n",
    "sm.qqplot(df['AmountinUSD'].dropna())"
   ]
  },
  {
   "cell_type": "code",
   "execution_count": 57,
   "metadata": {},
   "outputs": [
    {
     "data": {
      "image/png": "[encoded data removed]",
      "text/plain": [
       "<Figure size 720x720 with 1 Axes>"
      ]
     },
     "metadata": {
      "needs_background": "light"
     },
     "output_type": "display_data"
    }
   ],
   "source": [
    "fig = plt.subplots(figsize=(10,10))\n",
    "sns.boxplot(x=\"AmountinUSD\", data=df)\n",
    "plt.title(\"Amount in USD\", fontdict={'fontsize': 16});"
   ]
  },
  {
   "cell_type": "code",
   "execution_count": 58,
   "metadata": {},
   "outputs": [
    {
     "data": {
      "text/html": [
       "<div>\n",
       "<style scoped>\n",
       "    .dataframe tbody tr th:only-of-type {\n",
       "        vertical-align: middle;\n",
       "    }\n",
       "\n",
       "    .dataframe tbody tr th {\n",
       "        vertical-align: top;\n",
       "    }\n",
       "\n",
       "    .dataframe thead th {\n",
       "        text-align: right;\n",
       "    }\n",
       "</style>\n",
       "<table border=\"1\" class=\"dataframe\">\n",
       "  <thead>\n",
       "    <tr style=\"text-align: right;\">\n",
       "      <th></th>\n",
       "      <th>Startup Name</th>\n",
       "      <th>IndustryVertical</th>\n",
       "      <th>SubVertical</th>\n",
       "      <th>CityLocation</th>\n",
       "      <th>Investorname</th>\n",
       "      <th>InvestmentnType</th>\n",
       "      <th>AmountinUSD</th>\n",
       "      <th>month</th>\n",
       "      <th>year</th>\n",
       "      <th>quarter</th>\n",
       "      <th>day</th>\n",
       "      <th>yearmonth</th>\n",
       "    </tr>\n",
       "  </thead>\n",
       "  <tbody>\n",
       "    <tr>\n",
       "      <td>795</td>\n",
       "      <td>paytm</td>\n",
       "      <td>ecommerce</td>\n",
       "      <td>mobile wallet &amp; ecommerce platform</td>\n",
       "      <td>ba</td>\n",
       "      <td>softbank</td>\n",
       "      <td>p</td>\n",
       "      <td>1.400000e+09</td>\n",
       "      <td>5</td>\n",
       "      <td>2017</td>\n",
       "      <td>2</td>\n",
       "      <td>18</td>\n",
       "      <td>201705</td>\n",
       "    </tr>\n",
       "    <tr>\n",
       "      <td>931</td>\n",
       "      <td>flipkart</td>\n",
       "      <td>ecommerce</td>\n",
       "      <td>ecommerce marketplace</td>\n",
       "      <td>ba</td>\n",
       "      <td>microsoft,</td>\n",
       "      <td>p</td>\n",
       "      <td>1.400000e+09</td>\n",
       "      <td>3</td>\n",
       "      <td>2017</td>\n",
       "      <td>1</td>\n",
       "      <td>21</td>\n",
       "      <td>201703</td>\n",
       "    </tr>\n",
       "  </tbody>\n",
       "</table>\n",
       "</div>"
      ],
      "text/plain": [
       "    Startup Name IndustryVertical                         SubVertical  \\\n",
       "795        paytm        ecommerce  mobile wallet & ecommerce platform   \n",
       "931     flipkart        ecommerce               ecommerce marketplace   \n",
       "\n",
       "    CityLocation Investorname InvestmentnType   AmountinUSD  month  year  \\\n",
       "795           ba     softbank               p  1.400000e+09      5  2017   \n",
       "931           ba   microsoft,               p  1.400000e+09      3  2017   \n",
       "\n",
       "     quarter  day  yearmonth  \n",
       "795        2   18     201705  \n",
       "931        1   21     201703  "
      ]
     },
     "execution_count": 58,
     "metadata": {},
     "output_type": "execute_result"
    }
   ],
   "source": [
    "#Analyzing the startup that got the max funding\n",
    "df[df['AmountinUSD']==1400000000.0]"
   ]
  },
  {
   "cell_type": "code",
   "execution_count": 59,
   "metadata": {},
   "outputs": [
    {
     "data": {
      "text/html": [
       "<div>\n",
       "<style scoped>\n",
       "    .dataframe tbody tr th:only-of-type {\n",
       "        vertical-align: middle;\n",
       "    }\n",
       "\n",
       "    .dataframe tbody tr th {\n",
       "        vertical-align: top;\n",
       "    }\n",
       "\n",
       "    .dataframe thead th {\n",
       "        text-align: right;\n",
       "    }\n",
       "</style>\n",
       "<table border=\"1\" class=\"dataframe\">\n",
       "  <thead>\n",
       "    <tr style=\"text-align: right;\">\n",
       "      <th></th>\n",
       "      <th>Startup Name</th>\n",
       "      <th>IndustryVertical</th>\n",
       "      <th>SubVertical</th>\n",
       "      <th>CityLocation</th>\n",
       "      <th>Investorname</th>\n",
       "      <th>InvestmentnType</th>\n",
       "      <th>AmountinUSD</th>\n",
       "      <th>month</th>\n",
       "      <th>year</th>\n",
       "      <th>quarter</th>\n",
       "      <th>day</th>\n",
       "      <th>yearmonth</th>\n",
       "    </tr>\n",
       "  </thead>\n",
       "  <tbody>\n",
       "    <tr>\n",
       "      <td>2972</td>\n",
       "      <td>hostel dunia</td>\n",
       "      <td>consumer internet</td>\n",
       "      <td>online lending platform</td>\n",
       "      <td>ba</td>\n",
       "      <td>hyderabad</td>\n",
       "      <td>s</td>\n",
       "      <td>16000.0</td>\n",
       "      <td>1</td>\n",
       "      <td>2015</td>\n",
       "      <td>1</td>\n",
       "      <td>19</td>\n",
       "      <td>201501</td>\n",
       "    </tr>\n",
       "    <tr>\n",
       "      <td>2973</td>\n",
       "      <td>play your sport</td>\n",
       "      <td>consumer internet</td>\n",
       "      <td>online lending platform</td>\n",
       "      <td>ba</td>\n",
       "      <td>hyderabad</td>\n",
       "      <td>s</td>\n",
       "      <td>16000.0</td>\n",
       "      <td>1</td>\n",
       "      <td>2015</td>\n",
       "      <td>1</td>\n",
       "      <td>19</td>\n",
       "      <td>201501</td>\n",
       "    </tr>\n",
       "    <tr>\n",
       "      <td>2974</td>\n",
       "      <td>yo grad</td>\n",
       "      <td>consumer internet</td>\n",
       "      <td>online lending platform</td>\n",
       "      <td>ba</td>\n",
       "      <td>hyderabad</td>\n",
       "      <td>s</td>\n",
       "      <td>16000.0</td>\n",
       "      <td>1</td>\n",
       "      <td>2015</td>\n",
       "      <td>1</td>\n",
       "      <td>19</td>\n",
       "      <td>201501</td>\n",
       "    </tr>\n",
       "    <tr>\n",
       "      <td>2975</td>\n",
       "      <td>enabli</td>\n",
       "      <td>consumer internet</td>\n",
       "      <td>online lending platform</td>\n",
       "      <td>ba</td>\n",
       "      <td>hyderabad</td>\n",
       "      <td>s</td>\n",
       "      <td>16000.0</td>\n",
       "      <td>1</td>\n",
       "      <td>2015</td>\n",
       "      <td>1</td>\n",
       "      <td>19</td>\n",
       "      <td>201501</td>\n",
       "    </tr>\n",
       "    <tr>\n",
       "      <td>2976</td>\n",
       "      <td>cbs</td>\n",
       "      <td>consumer internet</td>\n",
       "      <td>online lending platform</td>\n",
       "      <td>ba</td>\n",
       "      <td>hyderabad</td>\n",
       "      <td>s</td>\n",
       "      <td>16000.0</td>\n",
       "      <td>1</td>\n",
       "      <td>2015</td>\n",
       "      <td>1</td>\n",
       "      <td>19</td>\n",
       "      <td>201501</td>\n",
       "    </tr>\n",
       "  </tbody>\n",
       "</table>\n",
       "</div>"
      ],
      "text/plain": [
       "         Startup Name   IndustryVertical              SubVertical  \\\n",
       "2972     hostel dunia  consumer internet  online lending platform   \n",
       "2973  play your sport  consumer internet  online lending platform   \n",
       "2974          yo grad  consumer internet  online lending platform   \n",
       "2975           enabli  consumer internet  online lending platform   \n",
       "2976              cbs  consumer internet  online lending platform   \n",
       "\n",
       "     CityLocation Investorname InvestmentnType  AmountinUSD  month  year  \\\n",
       "2972           ba    hyderabad               s      16000.0      1  2015   \n",
       "2973           ba    hyderabad               s      16000.0      1  2015   \n",
       "2974           ba    hyderabad               s      16000.0      1  2015   \n",
       "2975           ba    hyderabad               s      16000.0      1  2015   \n",
       "2976           ba    hyderabad               s      16000.0      1  2015   \n",
       "\n",
       "      quarter  day  yearmonth  \n",
       "2972        1   19     201501  \n",
       "2973        1   19     201501  \n",
       "2974        1   19     201501  \n",
       "2975        1   19     201501  \n",
       "2976        1   19     201501  "
      ]
     },
     "execution_count": 59,
     "metadata": {},
     "output_type": "execute_result"
    }
   ],
   "source": [
    "#Analyzing the startup that got the least funding\n",
    "df[df['AmountinUSD']==16000]"
   ]
  },
  {
   "cell_type": "raw",
   "metadata": {},
   "source": [
    "Before doing eda of categorical variables we will clean the data frame\n",
    "After that we will divide the dataset into 2 different dataframes\n",
    "1) All the data with no null values of AmountInUSD\n",
    "1) All the data with only null values of AmountInUSD"
   ]
  },
  {
   "cell_type": "code",
   "execution_count": 60,
   "metadata": {},
   "outputs": [],
   "source": [
    "df['InvestmentnType']=df['InvestmentnType'].str.lower().str[0]"
   ]
  },
  {
   "cell_type": "code",
   "execution_count": 61,
   "metadata": {},
   "outputs": [
    {
     "data": {
      "text/html": [
       "<div>\n",
       "<style scoped>\n",
       "    .dataframe tbody tr th:only-of-type {\n",
       "        vertical-align: middle;\n",
       "    }\n",
       "\n",
       "    .dataframe tbody tr th {\n",
       "        vertical-align: top;\n",
       "    }\n",
       "\n",
       "    .dataframe thead th {\n",
       "        text-align: right;\n",
       "    }\n",
       "</style>\n",
       "<table border=\"1\" class=\"dataframe\">\n",
       "  <thead>\n",
       "    <tr style=\"text-align: right;\">\n",
       "      <th></th>\n",
       "      <th>Startup Name</th>\n",
       "      <th>IndustryVertical</th>\n",
       "      <th>SubVertical</th>\n",
       "      <th>CityLocation</th>\n",
       "      <th>Investorname</th>\n",
       "      <th>InvestmentnType</th>\n",
       "      <th>AmountinUSD</th>\n",
       "      <th>month</th>\n",
       "      <th>year</th>\n",
       "      <th>quarter</th>\n",
       "      <th>day</th>\n",
       "      <th>yearmonth</th>\n",
       "    </tr>\n",
       "  </thead>\n",
       "  <tbody>\n",
       "    <tr>\n",
       "      <td>0</td>\n",
       "      <td>fpl technologies</td>\n",
       "      <td>fintech</td>\n",
       "      <td>financial services</td>\n",
       "      <td>pu</td>\n",
       "      <td>matrix</td>\n",
       "      <td>m</td>\n",
       "      <td>4500000.0</td>\n",
       "      <td>5</td>\n",
       "      <td>2019</td>\n",
       "      <td>2</td>\n",
       "      <td>9</td>\n",
       "      <td>201905</td>\n",
       "    </tr>\n",
       "    <tr>\n",
       "      <td>1</td>\n",
       "      <td>cashflo</td>\n",
       "      <td>fintech</td>\n",
       "      <td>invoice discounting platform and sme lending m...</td>\n",
       "      <td>mu</td>\n",
       "      <td>saif</td>\n",
       "      <td>s</td>\n",
       "      <td>3300000.0</td>\n",
       "      <td>4</td>\n",
       "      <td>2019</td>\n",
       "      <td>2</td>\n",
       "      <td>9</td>\n",
       "      <td>201904</td>\n",
       "    </tr>\n",
       "    <tr>\n",
       "      <td>2</td>\n",
       "      <td>digital f5</td>\n",
       "      <td>advertising, marketing</td>\n",
       "      <td>digital marketing firm</td>\n",
       "      <td>mu</td>\n",
       "      <td>tiw</td>\n",
       "      <td>p</td>\n",
       "      <td>6000000.0</td>\n",
       "      <td>4</td>\n",
       "      <td>2019</td>\n",
       "      <td>2</td>\n",
       "      <td>9</td>\n",
       "      <td>201904</td>\n",
       "    </tr>\n",
       "    <tr>\n",
       "      <td>3</td>\n",
       "      <td>3rdflix</td>\n",
       "      <td>saas</td>\n",
       "      <td>education technology</td>\n",
       "      <td>hy</td>\n",
       "      <td>exfinity</td>\n",
       "      <td>p</td>\n",
       "      <td>5000000.0</td>\n",
       "      <td>4</td>\n",
       "      <td>2019</td>\n",
       "      <td>2</td>\n",
       "      <td>9</td>\n",
       "      <td>201904</td>\n",
       "    </tr>\n",
       "    <tr>\n",
       "      <td>4</td>\n",
       "      <td>75f</td>\n",
       "      <td>iot</td>\n",
       "      <td>building automation system</td>\n",
       "      <td>bu</td>\n",
       "      <td>breakthrough</td>\n",
       "      <td>s</td>\n",
       "      <td>18000000.0</td>\n",
       "      <td>4</td>\n",
       "      <td>2019</td>\n",
       "      <td>2</td>\n",
       "      <td>9</td>\n",
       "      <td>201904</td>\n",
       "    </tr>\n",
       "  </tbody>\n",
       "</table>\n",
       "</div>"
      ],
      "text/plain": [
       "       Startup Name        IndustryVertical  \\\n",
       "0  fpl technologies                 fintech   \n",
       "1           cashflo                 fintech   \n",
       "2        digital f5  advertising, marketing   \n",
       "3           3rdflix                    saas   \n",
       "4               75f                     iot   \n",
       "\n",
       "                                         SubVertical CityLocation  \\\n",
       "0                                 financial services           pu   \n",
       "1  invoice discounting platform and sme lending m...           mu   \n",
       "2                             digital marketing firm           mu   \n",
       "3                               education technology           hy   \n",
       "4                         building automation system           bu   \n",
       "\n",
       "   Investorname InvestmentnType  AmountinUSD  month  year  quarter  day  \\\n",
       "0        matrix               m    4500000.0      5  2019        2    9   \n",
       "1          saif               s    3300000.0      4  2019        2    9   \n",
       "2           tiw               p    6000000.0      4  2019        2    9   \n",
       "3      exfinity               p    5000000.0      4  2019        2    9   \n",
       "4  breakthrough               s   18000000.0      4  2019        2    9   \n",
       "\n",
       "   yearmonth  \n",
       "0     201905  \n",
       "1     201904  \n",
       "2     201904  \n",
       "3     201904  \n",
       "4     201904  "
      ]
     },
     "execution_count": 61,
     "metadata": {},
     "output_type": "execute_result"
    }
   ],
   "source": [
    "df.head()"
   ]
  },
  {
   "cell_type": "code",
   "execution_count": 62,
   "metadata": {},
   "outputs": [],
   "source": [
    "#There are many variables where the data is same but the name is different\n",
    "#First we will lower all the strings\n",
    "#Later we will personally rename all the variable names\n",
    "df['Startup Name']=df['Startup Name'].str.lower()"
   ]
  },
  {
   "cell_type": "code",
   "execution_count": 63,
   "metadata": {},
   "outputs": [],
   "source": [
    "df['Startup Name']=df['Startup Name'].replace(\"practo\",\"practo\")\n",
    "df['Startup Name']=df['Startup Name'].replace(\"couponmachine.in\",\"couponmachine\")\n",
    "df['Startup Name']=df['Startup Name'].replace(\"olacabs\",\"ola cabs\")\n",
    "df['Startup Name']=df['Startup Name'].replace(\"ola\",\"ola cabs\")\n",
    "df['Startup Name']=df['Startup Name'].replace(\"olipkart.com\",\"flipkart\")\n",
    "df['Startup Name']=df['Startup Name'].replace(\"paytm marketplace\",\"paytm\")\n",
    "df['Startup Name'][df['Startup Name']=='flipkart.com']='flipkart'\n",
    "\n",
    "df['Startup Name'][df['Startup Name']=='oyo']='oyo rooms'"
   ]
  },
  {
   "cell_type": "code",
   "execution_count": 64,
   "metadata": {},
   "outputs": [],
   "source": [
    "df['IndustryVertical']=df['IndustryVertical'].str.lower()"
   ]
  },
  {
   "cell_type": "code",
   "execution_count": 65,
   "metadata": {},
   "outputs": [],
   "source": [
    "df['SubVertical']=df['SubVertical'].str.lower()"
   ]
  },
  {
   "cell_type": "code",
   "execution_count": 66,
   "metadata": {},
   "outputs": [],
   "source": [
    "df['CityLocation']=df['CityLocation'].str.lower().str[0:2]"
   ]
  },
  {
   "cell_type": "code",
   "execution_count": 67,
   "metadata": {},
   "outputs": [],
   "source": [
    "df['Investorname']=df['Investorname'].str.split(expand=True)[0].str.lower()"
   ]
  },
  {
   "cell_type": "markdown",
   "metadata": {},
   "source": [
    "# EDA of categorical variables"
   ]
  },
  {
   "cell_type": "markdown",
   "metadata": {},
   "source": [
    "## 1) Startup Name"
   ]
  },
  {
   "cell_type": "code",
   "execution_count": 68,
   "metadata": {},
   "outputs": [
    {
     "data": {
      "text/html": [
       "<div>\n",
       "<style scoped>\n",
       "    .dataframe tbody tr th:only-of-type {\n",
       "        vertical-align: middle;\n",
       "    }\n",
       "\n",
       "    .dataframe tbody tr th {\n",
       "        vertical-align: top;\n",
       "    }\n",
       "\n",
       "    .dataframe thead th {\n",
       "        text-align: right;\n",
       "    }\n",
       "</style>\n",
       "<table border=\"1\" class=\"dataframe\">\n",
       "  <thead>\n",
       "    <tr style=\"text-align: right;\">\n",
       "      <th></th>\n",
       "      <th>Startup Name</th>\n",
       "      <th>IndustryVertical</th>\n",
       "      <th>SubVertical</th>\n",
       "      <th>CityLocation</th>\n",
       "      <th>Investorname</th>\n",
       "      <th>InvestmentnType</th>\n",
       "    </tr>\n",
       "  </thead>\n",
       "  <tbody>\n",
       "    <tr>\n",
       "      <td>count</td>\n",
       "      <td>2999</td>\n",
       "      <td>2999</td>\n",
       "      <td>2999</td>\n",
       "      <td>2999</td>\n",
       "      <td>2999</td>\n",
       "      <td>2999</td>\n",
       "    </tr>\n",
       "    <tr>\n",
       "      <td>unique</td>\n",
       "      <td>2315</td>\n",
       "      <td>780</td>\n",
       "      <td>1853</td>\n",
       "      <td>51</td>\n",
       "      <td>1195</td>\n",
       "      <td>11</td>\n",
       "    </tr>\n",
       "    <tr>\n",
       "      <td>top</td>\n",
       "      <td>ola cabs</td>\n",
       "      <td>consumer internet</td>\n",
       "      <td>online lending platform</td>\n",
       "      <td>ba</td>\n",
       "      <td>undisclosed</td>\n",
       "      <td>s</td>\n",
       "    </tr>\n",
       "    <tr>\n",
       "      <td>freq</td>\n",
       "      <td>13</td>\n",
       "      <td>1113</td>\n",
       "      <td>947</td>\n",
       "      <td>887</td>\n",
       "      <td>157</td>\n",
       "      <td>1581</td>\n",
       "    </tr>\n",
       "  </tbody>\n",
       "</table>\n",
       "</div>"
      ],
      "text/plain": [
       "       Startup Name   IndustryVertical              SubVertical CityLocation  \\\n",
       "count          2999               2999                     2999         2999   \n",
       "unique         2315                780                     1853           51   \n",
       "top        ola cabs  consumer internet  online lending platform           ba   \n",
       "freq             13               1113                      947          887   \n",
       "\n",
       "       Investorname InvestmentnType  \n",
       "count          2999            2999  \n",
       "unique         1195              11  \n",
       "top     undisclosed               s  \n",
       "freq            157            1581  "
      ]
     },
     "execution_count": 68,
     "metadata": {},
     "output_type": "execute_result"
    }
   ],
   "source": [
    "#Statistics for categorical variables\n",
    "df.describe(include='object')"
   ]
  },
  {
   "cell_type": "code",
   "execution_count": 69,
   "metadata": {},
   "outputs": [
    {
     "data": {
      "text/html": [
       "<div>\n",
       "<style scoped>\n",
       "    .dataframe tbody tr th:only-of-type {\n",
       "        vertical-align: middle;\n",
       "    }\n",
       "\n",
       "    .dataframe tbody tr th {\n",
       "        vertical-align: top;\n",
       "    }\n",
       "\n",
       "    .dataframe thead th {\n",
       "        text-align: right;\n",
       "    }\n",
       "</style>\n",
       "<table border=\"1\" class=\"dataframe\">\n",
       "  <thead>\n",
       "    <tr style=\"text-align: right;\">\n",
       "      <th></th>\n",
       "      <th>Startup Name</th>\n",
       "      <th>AmountinUSD</th>\n",
       "    </tr>\n",
       "  </thead>\n",
       "  <tbody>\n",
       "    <tr>\n",
       "      <td>25</td>\n",
       "      <td>rapido bike taxi</td>\n",
       "      <td>3.900000e+09</td>\n",
       "    </tr>\n",
       "    <tr>\n",
       "      <td>616</td>\n",
       "      <td>flipkart</td>\n",
       "      <td>2.500000e+09</td>\n",
       "    </tr>\n",
       "    <tr>\n",
       "      <td>795</td>\n",
       "      <td>paytm</td>\n",
       "      <td>1.400000e+09</td>\n",
       "    </tr>\n",
       "    <tr>\n",
       "      <td>931</td>\n",
       "      <td>flipkart</td>\n",
       "      <td>1.400000e+09</td>\n",
       "    </tr>\n",
       "    <tr>\n",
       "      <td>2603</td>\n",
       "      <td>flipkart</td>\n",
       "      <td>7.000000e+08</td>\n",
       "    </tr>\n",
       "    <tr>\n",
       "      <td>2424</td>\n",
       "      <td>paytm</td>\n",
       "      <td>6.800000e+08</td>\n",
       "    </tr>\n",
       "    <tr>\n",
       "      <td>153</td>\n",
       "      <td>true north</td>\n",
       "      <td>6.000000e+08</td>\n",
       "    </tr>\n",
       "    <tr>\n",
       "      <td>2435</td>\n",
       "      <td>snapdeal</td>\n",
       "      <td>5.000000e+08</td>\n",
       "    </tr>\n",
       "    <tr>\n",
       "      <td>2209</td>\n",
       "      <td>ola cabs</td>\n",
       "      <td>5.000000e+08</td>\n",
       "    </tr>\n",
       "    <tr>\n",
       "      <td>7</td>\n",
       "      <td>goqii</td>\n",
       "      <td>4.500000e+08</td>\n",
       "    </tr>\n",
       "  </tbody>\n",
       "</table>\n",
       "</div>"
      ],
      "text/plain": [
       "          Startup Name   AmountinUSD\n",
       "25    rapido bike taxi  3.900000e+09\n",
       "616           flipkart  2.500000e+09\n",
       "795              paytm  1.400000e+09\n",
       "931           flipkart  1.400000e+09\n",
       "2603          flipkart  7.000000e+08\n",
       "2424             paytm  6.800000e+08\n",
       "153         true north  6.000000e+08\n",
       "2435          snapdeal  5.000000e+08\n",
       "2209          ola cabs  5.000000e+08\n",
       "7                goqii  4.500000e+08"
      ]
     },
     "execution_count": 69,
     "metadata": {},
     "output_type": "execute_result"
    }
   ],
   "source": [
    "#Top 10 statups according to amount invested\n",
    "(df[['Startup Name','AmountinUSD']].dropna()).sort_values(by='AmountinUSD',ascending = False).head(10)"
   ]
  },
  {
   "cell_type": "code",
   "execution_count": 70,
   "metadata": {},
   "outputs": [
    {
     "data": {
      "text/html": [
       "<div>\n",
       "<style scoped>\n",
       "    .dataframe tbody tr th:only-of-type {\n",
       "        vertical-align: middle;\n",
       "    }\n",
       "\n",
       "    .dataframe tbody tr th {\n",
       "        vertical-align: top;\n",
       "    }\n",
       "\n",
       "    .dataframe thead th {\n",
       "        text-align: right;\n",
       "    }\n",
       "</style>\n",
       "<table border=\"1\" class=\"dataframe\">\n",
       "  <thead>\n",
       "    <tr style=\"text-align: right;\">\n",
       "      <th></th>\n",
       "      <th>Startup Name</th>\n",
       "      <th>AmountinUSD</th>\n",
       "    </tr>\n",
       "  </thead>\n",
       "  <tbody>\n",
       "    <tr>\n",
       "      <td>25</td>\n",
       "      <td>rapido bike taxi</td>\n",
       "      <td>3.900000e+09</td>\n",
       "    </tr>\n",
       "    <tr>\n",
       "      <td>616</td>\n",
       "      <td>flipkart</td>\n",
       "      <td>2.500000e+09</td>\n",
       "    </tr>\n",
       "    <tr>\n",
       "      <td>795</td>\n",
       "      <td>paytm</td>\n",
       "      <td>1.400000e+09</td>\n",
       "    </tr>\n",
       "    <tr>\n",
       "      <td>931</td>\n",
       "      <td>flipkart</td>\n",
       "      <td>1.400000e+09</td>\n",
       "    </tr>\n",
       "    <tr>\n",
       "      <td>2603</td>\n",
       "      <td>flipkart</td>\n",
       "      <td>7.000000e+08</td>\n",
       "    </tr>\n",
       "    <tr>\n",
       "      <td>2424</td>\n",
       "      <td>paytm</td>\n",
       "      <td>6.800000e+08</td>\n",
       "    </tr>\n",
       "    <tr>\n",
       "      <td>153</td>\n",
       "      <td>true north</td>\n",
       "      <td>6.000000e+08</td>\n",
       "    </tr>\n",
       "    <tr>\n",
       "      <td>2435</td>\n",
       "      <td>snapdeal</td>\n",
       "      <td>5.000000e+08</td>\n",
       "    </tr>\n",
       "    <tr>\n",
       "      <td>2209</td>\n",
       "      <td>ola cabs</td>\n",
       "      <td>5.000000e+08</td>\n",
       "    </tr>\n",
       "    <tr>\n",
       "      <td>7</td>\n",
       "      <td>goqii</td>\n",
       "      <td>4.500000e+08</td>\n",
       "    </tr>\n",
       "    <tr>\n",
       "      <td>2775</td>\n",
       "      <td>ola cabs</td>\n",
       "      <td>4.000000e+08</td>\n",
       "    </tr>\n",
       "    <tr>\n",
       "      <td>889</td>\n",
       "      <td>ola cabs</td>\n",
       "      <td>3.300000e+08</td>\n",
       "    </tr>\n",
       "    <tr>\n",
       "      <td>315</td>\n",
       "      <td>bigbasket</td>\n",
       "      <td>3.000000e+08</td>\n",
       "    </tr>\n",
       "    <tr>\n",
       "      <td>100</td>\n",
       "      <td>automation anywhere</td>\n",
       "      <td>3.000000e+08</td>\n",
       "    </tr>\n",
       "    <tr>\n",
       "      <td>479</td>\n",
       "      <td>edelweiss</td>\n",
       "      <td>2.700000e+08</td>\n",
       "    </tr>\n",
       "    <tr>\n",
       "      <td>854</td>\n",
       "      <td>ola cabs</td>\n",
       "      <td>2.600000e+08</td>\n",
       "    </tr>\n",
       "    <tr>\n",
       "      <td>551</td>\n",
       "      <td>oyo rooms</td>\n",
       "      <td>2.500000e+08</td>\n",
       "    </tr>\n",
       "    <tr>\n",
       "      <td>871</td>\n",
       "      <td>oyo rooms</td>\n",
       "      <td>2.500000e+08</td>\n",
       "    </tr>\n",
       "    <tr>\n",
       "      <td>78</td>\n",
       "      <td>zilingo</td>\n",
       "      <td>2.260000e+08</td>\n",
       "    </tr>\n",
       "    <tr>\n",
       "      <td>2380</td>\n",
       "      <td>ola cabs</td>\n",
       "      <td>2.250000e+08</td>\n",
       "    </tr>\n",
       "  </tbody>\n",
       "</table>\n",
       "</div>"
      ],
      "text/plain": [
       "             Startup Name   AmountinUSD\n",
       "25       rapido bike taxi  3.900000e+09\n",
       "616              flipkart  2.500000e+09\n",
       "795                 paytm  1.400000e+09\n",
       "931              flipkart  1.400000e+09\n",
       "2603             flipkart  7.000000e+08\n",
       "2424                paytm  6.800000e+08\n",
       "153            true north  6.000000e+08\n",
       "2435             snapdeal  5.000000e+08\n",
       "2209             ola cabs  5.000000e+08\n",
       "7                   goqii  4.500000e+08\n",
       "2775             ola cabs  4.000000e+08\n",
       "889              ola cabs  3.300000e+08\n",
       "315             bigbasket  3.000000e+08\n",
       "100   automation anywhere  3.000000e+08\n",
       "479             edelweiss  2.700000e+08\n",
       "854              ola cabs  2.600000e+08\n",
       "551             oyo rooms  2.500000e+08\n",
       "871             oyo rooms  2.500000e+08\n",
       "78                zilingo  2.260000e+08\n",
       "2380             ola cabs  2.250000e+08"
      ]
     },
     "execution_count": 70,
     "metadata": {},
     "output_type": "execute_result"
    }
   ],
   "source": [
    "#Making a dataframe of top 20 start up name according to the amount that was invested in them\n",
    "\n",
    "top20funding=(df[['Startup Name','AmountinUSD']].dropna()).sort_values(by='AmountinUSD',ascending = False).head(20)\n",
    "\n",
    "top20funding"
   ]
  },
  {
   "cell_type": "code",
   "execution_count": 71,
   "metadata": {},
   "outputs": [
    {
     "data": {
      "text/plain": [
       "ola cabs               5\n",
       "flipkart               3\n",
       "oyo rooms              2\n",
       "paytm                  2\n",
       "edelweiss              1\n",
       "automation anywhere    1\n",
       "rapido bike taxi       1\n",
       "true north             1\n",
       "snapdeal               1\n",
       "bigbasket              1\n",
       "zilingo                1\n",
       "goqii                  1\n",
       "Name: Startup Name, dtype: int64"
      ]
     },
     "execution_count": 71,
     "metadata": {},
     "output_type": "execute_result"
    }
   ],
   "source": [
    "#Counting the frequency of startups in top 20 startups that were funded\n",
    "top20fundingcount=(df[['Startup Name','AmountinUSD']].dropna()).sort_values(by='AmountinUSD',ascending = False).head(20)['Startup Name'].value_counts()\n",
    "top20fundingcount"
   ]
  },
  {
   "cell_type": "code",
   "execution_count": 72,
   "metadata": {},
   "outputs": [
    {
     "data": {
      "image/png": "[encoded data removed]",
      "text/plain": [
       "<Figure size 1080x576 with 1 Axes>"
      ]
     },
     "metadata": {
      "needs_background": "light"
     },
     "output_type": "display_data"
    }
   ],
   "source": [
    "##Plotting the frequency of startups in top 20 startups that were funded\n",
    "\n",
    "plt.figure(figsize=(15,8))\n",
    "sns.barplot(top20fundingcount.index, top20fundingcount.values, alpha=0.9,color='skyblue')\n",
    "\n",
    "plt.xticks(rotation='vertical')\n",
    "plt.xlabel('Startup Name', fontsize=18)\n",
    "plt.ylabel('Number of fundings made', fontsize=18)\n",
    "plt.title(\"Frequency of startups in top 20 funded amount\", fontsize=20)\n",
    "plt.show()"
   ]
  },
  {
   "cell_type": "code",
   "execution_count": 73,
   "metadata": {},
   "outputs": [],
   "source": [
    "#Creating a new dataframe with Startup name and the amount they got as funding\n",
    "nameamount=df_train[['Startup Name','AmountinUSD']]"
   ]
  },
  {
   "cell_type": "code",
   "execution_count": 74,
   "metadata": {},
   "outputs": [
    {
     "data": {
      "text/html": [
       "<div>\n",
       "<style scoped>\n",
       "    .dataframe tbody tr th:only-of-type {\n",
       "        vertical-align: middle;\n",
       "    }\n",
       "\n",
       "    .dataframe tbody tr th {\n",
       "        vertical-align: top;\n",
       "    }\n",
       "\n",
       "    .dataframe thead th {\n",
       "        text-align: right;\n",
       "    }\n",
       "</style>\n",
       "<table border=\"1\" class=\"dataframe\">\n",
       "  <thead>\n",
       "    <tr style=\"text-align: right;\">\n",
       "      <th></th>\n",
       "      <th>AmountinUSD</th>\n",
       "    </tr>\n",
       "    <tr>\n",
       "      <th>Startup Name</th>\n",
       "      <th></th>\n",
       "    </tr>\n",
       "  </thead>\n",
       "  <tbody>\n",
       "    <tr>\n",
       "      <td>myloancare</td>\n",
       "      <td>978000</td>\n",
       "    </tr>\n",
       "    <tr>\n",
       "      <td>ad2pro</td>\n",
       "      <td>9700000</td>\n",
       "    </tr>\n",
       "    <tr>\n",
       "      <td>betterplace</td>\n",
       "      <td>970000</td>\n",
       "    </tr>\n",
       "    <tr>\n",
       "      <td>shopsup</td>\n",
       "      <td>963000</td>\n",
       "    </tr>\n",
       "    <tr>\n",
       "      <td>wizrocket</td>\n",
       "      <td>9600000</td>\n",
       "    </tr>\n",
       "    <tr>\n",
       "      <td>...</td>\n",
       "      <td>...</td>\n",
       "    </tr>\n",
       "    <tr>\n",
       "      <td>serv\\\\xe2\\\\x80\\\\x99d</td>\n",
       "      <td>100000</td>\n",
       "    </tr>\n",
       "    <tr>\n",
       "      <td>aisle.co</td>\n",
       "      <td>100000</td>\n",
       "    </tr>\n",
       "    <tr>\n",
       "      <td>mychild app</td>\n",
       "      <td>100000</td>\n",
       "    </tr>\n",
       "    <tr>\n",
       "      <td>interviewpad</td>\n",
       "      <td>100000</td>\n",
       "    </tr>\n",
       "    <tr>\n",
       "      <td>pipabella</td>\n",
       "      <td>10000</td>\n",
       "    </tr>\n",
       "  </tbody>\n",
       "</table>\n",
       "<p>1604 rows × 1 columns</p>\n",
       "</div>"
      ],
      "text/plain": [
       "                     AmountinUSD\n",
       "Startup Name                    \n",
       "myloancare                978000\n",
       "ad2pro                   9700000\n",
       "betterplace               970000\n",
       "shopsup                   963000\n",
       "wizrocket                9600000\n",
       "...                          ...\n",
       "serv\\\\xe2\\\\x80\\\\x99d      100000\n",
       "aisle.co                  100000\n",
       "mychild app               100000\n",
       "interviewpad              100000\n",
       "pipabella                  10000\n",
       "\n",
       "[1604 rows x 1 columns]"
      ]
     },
     "execution_count": 74,
     "metadata": {},
     "output_type": "execute_result"
    }
   ],
   "source": [
    "#Grouping the dataframe according to startup name and sorting it out accoring to number of funding they recieved\n",
    "nameamount=nameamount.groupby('Startup Name').sum().sort_values(by='AmountinUSD',ascending=False)\n",
    "nameamount\n"
   ]
  },
  {
   "cell_type": "code",
   "execution_count": 75,
   "metadata": {},
   "outputs": [
    {
     "ename": "TypeError",
     "evalue": "unsupported operand type(s) for /: 'str' and 'float'",
     "output_type": "error",
     "traceback": [
      "\u001b[1;31m---------------------------------------------------------------------------\u001b[0m",
      "\u001b[1;31mTypeError\u001b[0m                                 Traceback (most recent call last)",
      "\u001b[1;32m~\\Anaconda3\\lib\\site-packages\\pandas\\core\\ops\\__init__.py\u001b[0m in \u001b[0;36mna_op\u001b[1;34m(x, y)\u001b[0m\n\u001b[0;32m    967\u001b[0m         \u001b[1;32mtry\u001b[0m\u001b[1;33m:\u001b[0m\u001b[1;33m\u001b[0m\u001b[1;33m\u001b[0m\u001b[0m\n\u001b[1;32m--> 968\u001b[1;33m             \u001b[0mresult\u001b[0m \u001b[1;33m=\u001b[0m \u001b[0mexpressions\u001b[0m\u001b[1;33m.\u001b[0m\u001b[0mevaluate\u001b[0m\u001b[1;33m(\u001b[0m\u001b[0mop\u001b[0m\u001b[1;33m,\u001b[0m \u001b[0mstr_rep\u001b[0m\u001b[1;33m,\u001b[0m \u001b[0mx\u001b[0m\u001b[1;33m,\u001b[0m \u001b[0my\u001b[0m\u001b[1;33m,\u001b[0m \u001b[1;33m**\u001b[0m\u001b[0meval_kwargs\u001b[0m\u001b[1;33m)\u001b[0m\u001b[1;33m\u001b[0m\u001b[1;33m\u001b[0m\u001b[0m\n\u001b[0m\u001b[0;32m    969\u001b[0m         \u001b[1;32mexcept\u001b[0m \u001b[0mTypeError\u001b[0m\u001b[1;33m:\u001b[0m\u001b[1;33m\u001b[0m\u001b[1;33m\u001b[0m\u001b[0m\n",
      "\u001b[1;32m~\\Anaconda3\\lib\\site-packages\\pandas\\core\\computation\\expressions.py\u001b[0m in \u001b[0;36mevaluate\u001b[1;34m(op, op_str, a, b, use_numexpr, **eval_kwargs)\u001b[0m\n\u001b[0;32m    220\u001b[0m     \u001b[1;32mif\u001b[0m \u001b[0muse_numexpr\u001b[0m\u001b[1;33m:\u001b[0m\u001b[1;33m\u001b[0m\u001b[1;33m\u001b[0m\u001b[0m\n\u001b[1;32m--> 221\u001b[1;33m         \u001b[1;32mreturn\u001b[0m \u001b[0m_evaluate\u001b[0m\u001b[1;33m(\u001b[0m\u001b[0mop\u001b[0m\u001b[1;33m,\u001b[0m \u001b[0mop_str\u001b[0m\u001b[1;33m,\u001b[0m \u001b[0ma\u001b[0m\u001b[1;33m,\u001b[0m \u001b[0mb\u001b[0m\u001b[1;33m,\u001b[0m \u001b[1;33m**\u001b[0m\u001b[0meval_kwargs\u001b[0m\u001b[1;33m)\u001b[0m\u001b[1;33m\u001b[0m\u001b[1;33m\u001b[0m\u001b[0m\n\u001b[0m\u001b[0;32m    222\u001b[0m     \u001b[1;32mreturn\u001b[0m \u001b[0m_evaluate_standard\u001b[0m\u001b[1;33m(\u001b[0m\u001b[0mop\u001b[0m\u001b[1;33m,\u001b[0m \u001b[0mop_str\u001b[0m\u001b[1;33m,\u001b[0m \u001b[0ma\u001b[0m\u001b[1;33m,\u001b[0m \u001b[0mb\u001b[0m\u001b[1;33m)\u001b[0m\u001b[1;33m\u001b[0m\u001b[1;33m\u001b[0m\u001b[0m\n",
      "\u001b[1;32m~\\Anaconda3\\lib\\site-packages\\pandas\\core\\computation\\expressions.py\u001b[0m in \u001b[0;36m_evaluate_numexpr\u001b[1;34m(op, op_str, a, b, truediv, reversed, **eval_kwargs)\u001b[0m\n\u001b[0;32m    126\u001b[0m     \u001b[1;32mif\u001b[0m \u001b[0mresult\u001b[0m \u001b[1;32mis\u001b[0m \u001b[1;32mNone\u001b[0m\u001b[1;33m:\u001b[0m\u001b[1;33m\u001b[0m\u001b[1;33m\u001b[0m\u001b[0m\n\u001b[1;32m--> 127\u001b[1;33m         \u001b[0mresult\u001b[0m \u001b[1;33m=\u001b[0m \u001b[0m_evaluate_standard\u001b[0m\u001b[1;33m(\u001b[0m\u001b[0mop\u001b[0m\u001b[1;33m,\u001b[0m \u001b[0mop_str\u001b[0m\u001b[1;33m,\u001b[0m \u001b[0ma\u001b[0m\u001b[1;33m,\u001b[0m \u001b[0mb\u001b[0m\u001b[1;33m)\u001b[0m\u001b[1;33m\u001b[0m\u001b[1;33m\u001b[0m\u001b[0m\n\u001b[0m\u001b[0;32m    128\u001b[0m \u001b[1;33m\u001b[0m\u001b[0m\n",
      "\u001b[1;32m~\\Anaconda3\\lib\\site-packages\\pandas\\core\\computation\\expressions.py\u001b[0m in \u001b[0;36m_evaluate_standard\u001b[1;34m(op, op_str, a, b, **eval_kwargs)\u001b[0m\n\u001b[0;32m     69\u001b[0m     \u001b[1;32mwith\u001b[0m \u001b[0mnp\u001b[0m\u001b[1;33m.\u001b[0m\u001b[0merrstate\u001b[0m\u001b[1;33m(\u001b[0m\u001b[0mall\u001b[0m\u001b[1;33m=\u001b[0m\u001b[1;34m\"ignore\"\u001b[0m\u001b[1;33m)\u001b[0m\u001b[1;33m:\u001b[0m\u001b[1;33m\u001b[0m\u001b[1;33m\u001b[0m\u001b[0m\n\u001b[1;32m---> 70\u001b[1;33m         \u001b[1;32mreturn\u001b[0m \u001b[0mop\u001b[0m\u001b[1;33m(\u001b[0m\u001b[0ma\u001b[0m\u001b[1;33m,\u001b[0m \u001b[0mb\u001b[0m\u001b[1;33m)\u001b[0m\u001b[1;33m\u001b[0m\u001b[1;33m\u001b[0m\u001b[0m\n\u001b[0m\u001b[0;32m     71\u001b[0m \u001b[1;33m\u001b[0m\u001b[0m\n",
      "\u001b[1;31mTypeError\u001b[0m: unsupported operand type(s) for /: 'str' and 'float'",
      "\nDuring handling of the above exception, another exception occurred:\n",
      "\u001b[1;31mTypeError\u001b[0m                                 Traceback (most recent call last)",
      "\u001b[1;32m<ipython-input-75-9048ea122603>\u001b[0m in \u001b[0;36m<module>\u001b[1;34m\u001b[0m\n\u001b[1;32m----> 1\u001b[1;33m \u001b[0mnp\u001b[0m\u001b[1;33m.\u001b[0m\u001b[0msum\u001b[0m\u001b[1;33m(\u001b[0m\u001b[1;33m(\u001b[0m\u001b[0mnameamount\u001b[0m\u001b[1;33m/\u001b[0m\u001b[0mnp\u001b[0m\u001b[1;33m.\u001b[0m\u001b[0msum\u001b[0m\u001b[1;33m(\u001b[0m\u001b[0mnameamount\u001b[0m\u001b[1;33m)\u001b[0m\u001b[1;33m*\u001b[0m\u001b[1;36m100\u001b[0m\u001b[1;33m)\u001b[0m\u001b[1;33m.\u001b[0m\u001b[0mhead\u001b[0m\u001b[1;33m(\u001b[0m\u001b[1;36m53\u001b[0m\u001b[1;33m)\u001b[0m\u001b[1;33m)\u001b[0m\u001b[1;33m\u001b[0m\u001b[1;33m\u001b[0m\u001b[0m\n\u001b[0m\u001b[0;32m      2\u001b[0m \u001b[1;33m\u001b[0m\u001b[0m\n\u001b[0;32m      3\u001b[0m \u001b[0mlen\u001b[0m\u001b[1;33m(\u001b[0m\u001b[0mnameamount\u001b[0m\u001b[1;33m)\u001b[0m\u001b[1;33m\u001b[0m\u001b[1;33m\u001b[0m\u001b[0m\n\u001b[0;32m      4\u001b[0m \u001b[1;33m\u001b[0m\u001b[0m\n\u001b[0;32m      5\u001b[0m \u001b[1;36m53\u001b[0m\u001b[1;33m/\u001b[0m\u001b[1;36m1604\u001b[0m\u001b[1;33m*\u001b[0m\u001b[1;36m100\u001b[0m\u001b[1;33m\u001b[0m\u001b[1;33m\u001b[0m\u001b[0m\n",
      "\u001b[1;32m~\\Anaconda3\\lib\\site-packages\\pandas\\core\\ops\\__init__.py\u001b[0m in \u001b[0;36mf\u001b[1;34m(self, other, axis, level, fill_value)\u001b[0m\n\u001b[0;32m   1497\u001b[0m             \u001b[0mpass_op\u001b[0m \u001b[1;33m=\u001b[0m \u001b[0mop\u001b[0m \u001b[1;32mif\u001b[0m \u001b[0maxis\u001b[0m \u001b[1;32min\u001b[0m \u001b[1;33m[\u001b[0m\u001b[1;36m0\u001b[0m\u001b[1;33m,\u001b[0m \u001b[1;34m\"columns\"\u001b[0m\u001b[1;33m,\u001b[0m \u001b[1;32mNone\u001b[0m\u001b[1;33m]\u001b[0m \u001b[1;32melse\u001b[0m \u001b[0mna_op\u001b[0m\u001b[1;33m\u001b[0m\u001b[1;33m\u001b[0m\u001b[0m\n\u001b[0;32m   1498\u001b[0m             return _combine_series_frame(\n\u001b[1;32m-> 1499\u001b[1;33m                 \u001b[0mself\u001b[0m\u001b[1;33m,\u001b[0m \u001b[0mother\u001b[0m\u001b[1;33m,\u001b[0m \u001b[0mpass_op\u001b[0m\u001b[1;33m,\u001b[0m \u001b[0mfill_value\u001b[0m\u001b[1;33m=\u001b[0m\u001b[0mfill_value\u001b[0m\u001b[1;33m,\u001b[0m \u001b[0maxis\u001b[0m\u001b[1;33m=\u001b[0m\u001b[0maxis\u001b[0m\u001b[1;33m,\u001b[0m \u001b[0mlevel\u001b[0m\u001b[1;33m=\u001b[0m\u001b[0mlevel\u001b[0m\u001b[1;33m\u001b[0m\u001b[1;33m\u001b[0m\u001b[0m\n\u001b[0m\u001b[0;32m   1500\u001b[0m             )\n\u001b[0;32m   1501\u001b[0m         \u001b[1;32melse\u001b[0m\u001b[1;33m:\u001b[0m\u001b[1;33m\u001b[0m\u001b[1;33m\u001b[0m\u001b[0m\n",
      "\u001b[1;32m~\\Anaconda3\\lib\\site-packages\\pandas\\core\\ops\\__init__.py\u001b[0m in \u001b[0;36m_combine_series_frame\u001b[1;34m(self, other, func, fill_value, axis, level)\u001b[0m\n\u001b[0;32m   1398\u001b[0m \u001b[1;33m\u001b[0m\u001b[0m\n\u001b[0;32m   1399\u001b[0m         \u001b[1;31m# default axis is columns\u001b[0m\u001b[1;33m\u001b[0m\u001b[1;33m\u001b[0m\u001b[1;33m\u001b[0m\u001b[0m\n\u001b[1;32m-> 1400\u001b[1;33m         \u001b[1;32mreturn\u001b[0m \u001b[0mself\u001b[0m\u001b[1;33m.\u001b[0m\u001b[0m_combine_match_columns\u001b[0m\u001b[1;33m(\u001b[0m\u001b[0mother\u001b[0m\u001b[1;33m,\u001b[0m \u001b[0mfunc\u001b[0m\u001b[1;33m,\u001b[0m \u001b[0mlevel\u001b[0m\u001b[1;33m=\u001b[0m\u001b[0mlevel\u001b[0m\u001b[1;33m)\u001b[0m\u001b[1;33m\u001b[0m\u001b[1;33m\u001b[0m\u001b[0m\n\u001b[0m\u001b[0;32m   1401\u001b[0m \u001b[1;33m\u001b[0m\u001b[0m\n\u001b[0;32m   1402\u001b[0m \u001b[1;33m\u001b[0m\u001b[0m\n",
      "\u001b[1;32m~\\Anaconda3\\lib\\site-packages\\pandas\\core\\frame.py\u001b[0m in \u001b[0;36m_combine_match_columns\u001b[1;34m(self, other, func, level)\u001b[0m\n\u001b[0;32m   5397\u001b[0m         \u001b[0mleft\u001b[0m\u001b[1;33m,\u001b[0m \u001b[0mright\u001b[0m \u001b[1;33m=\u001b[0m \u001b[0mself\u001b[0m\u001b[1;33m.\u001b[0m\u001b[0malign\u001b[0m\u001b[1;33m(\u001b[0m\u001b[0mother\u001b[0m\u001b[1;33m,\u001b[0m \u001b[0mjoin\u001b[0m\u001b[1;33m=\u001b[0m\u001b[1;34m\"outer\"\u001b[0m\u001b[1;33m,\u001b[0m \u001b[0maxis\u001b[0m\u001b[1;33m=\u001b[0m\u001b[1;36m1\u001b[0m\u001b[1;33m,\u001b[0m \u001b[0mlevel\u001b[0m\u001b[1;33m=\u001b[0m\u001b[0mlevel\u001b[0m\u001b[1;33m,\u001b[0m \u001b[0mcopy\u001b[0m\u001b[1;33m=\u001b[0m\u001b[1;32mFalse\u001b[0m\u001b[1;33m)\u001b[0m\u001b[1;33m\u001b[0m\u001b[1;33m\u001b[0m\u001b[0m\n\u001b[0;32m   5398\u001b[0m         \u001b[1;32massert\u001b[0m \u001b[0mleft\u001b[0m\u001b[1;33m.\u001b[0m\u001b[0mcolumns\u001b[0m\u001b[1;33m.\u001b[0m\u001b[0mequals\u001b[0m\u001b[1;33m(\u001b[0m\u001b[0mright\u001b[0m\u001b[1;33m.\u001b[0m\u001b[0mindex\u001b[0m\u001b[1;33m)\u001b[0m\u001b[1;33m\u001b[0m\u001b[1;33m\u001b[0m\u001b[0m\n\u001b[1;32m-> 5399\u001b[1;33m         \u001b[1;32mreturn\u001b[0m \u001b[0mops\u001b[0m\u001b[1;33m.\u001b[0m\u001b[0mdispatch_to_series\u001b[0m\u001b[1;33m(\u001b[0m\u001b[0mleft\u001b[0m\u001b[1;33m,\u001b[0m \u001b[0mright\u001b[0m\u001b[1;33m,\u001b[0m \u001b[0mfunc\u001b[0m\u001b[1;33m,\u001b[0m \u001b[0maxis\u001b[0m\u001b[1;33m=\u001b[0m\u001b[1;34m\"columns\"\u001b[0m\u001b[1;33m)\u001b[0m\u001b[1;33m\u001b[0m\u001b[1;33m\u001b[0m\u001b[0m\n\u001b[0m\u001b[0;32m   5400\u001b[0m \u001b[1;33m\u001b[0m\u001b[0m\n\u001b[0;32m   5401\u001b[0m     \u001b[1;32mdef\u001b[0m \u001b[0m_combine_const\u001b[0m\u001b[1;33m(\u001b[0m\u001b[0mself\u001b[0m\u001b[1;33m,\u001b[0m \u001b[0mother\u001b[0m\u001b[1;33m,\u001b[0m \u001b[0mfunc\u001b[0m\u001b[1;33m)\u001b[0m\u001b[1;33m:\u001b[0m\u001b[1;33m\u001b[0m\u001b[1;33m\u001b[0m\u001b[0m\n",
      "\u001b[1;32m~\\Anaconda3\\lib\\site-packages\\pandas\\core\\ops\\__init__.py\u001b[0m in \u001b[0;36mdispatch_to_series\u001b[1;34m(left, right, func, str_rep, axis)\u001b[0m\n\u001b[0;32m    594\u001b[0m         \u001b[1;32mraise\u001b[0m \u001b[0mNotImplementedError\u001b[0m\u001b[1;33m(\u001b[0m\u001b[0mright\u001b[0m\u001b[1;33m)\u001b[0m\u001b[1;33m\u001b[0m\u001b[1;33m\u001b[0m\u001b[0m\n\u001b[0;32m    595\u001b[0m \u001b[1;33m\u001b[0m\u001b[0m\n\u001b[1;32m--> 596\u001b[1;33m     \u001b[0mnew_data\u001b[0m \u001b[1;33m=\u001b[0m \u001b[0mexpressions\u001b[0m\u001b[1;33m.\u001b[0m\u001b[0mevaluate\u001b[0m\u001b[1;33m(\u001b[0m\u001b[0mcolumn_op\u001b[0m\u001b[1;33m,\u001b[0m \u001b[0mstr_rep\u001b[0m\u001b[1;33m,\u001b[0m \u001b[0mleft\u001b[0m\u001b[1;33m,\u001b[0m \u001b[0mright\u001b[0m\u001b[1;33m)\u001b[0m\u001b[1;33m\u001b[0m\u001b[1;33m\u001b[0m\u001b[0m\n\u001b[0m\u001b[0;32m    597\u001b[0m \u001b[1;33m\u001b[0m\u001b[0m\n\u001b[0;32m    598\u001b[0m     \u001b[0mresult\u001b[0m \u001b[1;33m=\u001b[0m \u001b[0mleft\u001b[0m\u001b[1;33m.\u001b[0m\u001b[0m_constructor\u001b[0m\u001b[1;33m(\u001b[0m\u001b[0mnew_data\u001b[0m\u001b[1;33m,\u001b[0m \u001b[0mindex\u001b[0m\u001b[1;33m=\u001b[0m\u001b[0mleft\u001b[0m\u001b[1;33m.\u001b[0m\u001b[0mindex\u001b[0m\u001b[1;33m,\u001b[0m \u001b[0mcopy\u001b[0m\u001b[1;33m=\u001b[0m\u001b[1;32mFalse\u001b[0m\u001b[1;33m)\u001b[0m\u001b[1;33m\u001b[0m\u001b[1;33m\u001b[0m\u001b[0m\n",
      "\u001b[1;32m~\\Anaconda3\\lib\\site-packages\\pandas\\core\\computation\\expressions.py\u001b[0m in \u001b[0;36mevaluate\u001b[1;34m(op, op_str, a, b, use_numexpr, **eval_kwargs)\u001b[0m\n\u001b[0;32m    219\u001b[0m     \u001b[0muse_numexpr\u001b[0m \u001b[1;33m=\u001b[0m \u001b[0muse_numexpr\u001b[0m \u001b[1;32mand\u001b[0m \u001b[0m_bool_arith_check\u001b[0m\u001b[1;33m(\u001b[0m\u001b[0mop_str\u001b[0m\u001b[1;33m,\u001b[0m \u001b[0ma\u001b[0m\u001b[1;33m,\u001b[0m \u001b[0mb\u001b[0m\u001b[1;33m)\u001b[0m\u001b[1;33m\u001b[0m\u001b[1;33m\u001b[0m\u001b[0m\n\u001b[0;32m    220\u001b[0m     \u001b[1;32mif\u001b[0m \u001b[0muse_numexpr\u001b[0m\u001b[1;33m:\u001b[0m\u001b[1;33m\u001b[0m\u001b[1;33m\u001b[0m\u001b[0m\n\u001b[1;32m--> 221\u001b[1;33m         \u001b[1;32mreturn\u001b[0m \u001b[0m_evaluate\u001b[0m\u001b[1;33m(\u001b[0m\u001b[0mop\u001b[0m\u001b[1;33m,\u001b[0m \u001b[0mop_str\u001b[0m\u001b[1;33m,\u001b[0m \u001b[0ma\u001b[0m\u001b[1;33m,\u001b[0m \u001b[0mb\u001b[0m\u001b[1;33m,\u001b[0m \u001b[1;33m**\u001b[0m\u001b[0meval_kwargs\u001b[0m\u001b[1;33m)\u001b[0m\u001b[1;33m\u001b[0m\u001b[1;33m\u001b[0m\u001b[0m\n\u001b[0m\u001b[0;32m    222\u001b[0m     \u001b[1;32mreturn\u001b[0m \u001b[0m_evaluate_standard\u001b[0m\u001b[1;33m(\u001b[0m\u001b[0mop\u001b[0m\u001b[1;33m,\u001b[0m \u001b[0mop_str\u001b[0m\u001b[1;33m,\u001b[0m \u001b[0ma\u001b[0m\u001b[1;33m,\u001b[0m \u001b[0mb\u001b[0m\u001b[1;33m)\u001b[0m\u001b[1;33m\u001b[0m\u001b[1;33m\u001b[0m\u001b[0m\n\u001b[0;32m    223\u001b[0m \u001b[1;33m\u001b[0m\u001b[0m\n",
      "\u001b[1;32m~\\Anaconda3\\lib\\site-packages\\pandas\\core\\computation\\expressions.py\u001b[0m in \u001b[0;36m_evaluate_numexpr\u001b[1;34m(op, op_str, a, b, truediv, reversed, **eval_kwargs)\u001b[0m\n\u001b[0;32m    125\u001b[0m \u001b[1;33m\u001b[0m\u001b[0m\n\u001b[0;32m    126\u001b[0m     \u001b[1;32mif\u001b[0m \u001b[0mresult\u001b[0m \u001b[1;32mis\u001b[0m \u001b[1;32mNone\u001b[0m\u001b[1;33m:\u001b[0m\u001b[1;33m\u001b[0m\u001b[1;33m\u001b[0m\u001b[0m\n\u001b[1;32m--> 127\u001b[1;33m         \u001b[0mresult\u001b[0m \u001b[1;33m=\u001b[0m \u001b[0m_evaluate_standard\u001b[0m\u001b[1;33m(\u001b[0m\u001b[0mop\u001b[0m\u001b[1;33m,\u001b[0m \u001b[0mop_str\u001b[0m\u001b[1;33m,\u001b[0m \u001b[0ma\u001b[0m\u001b[1;33m,\u001b[0m \u001b[0mb\u001b[0m\u001b[1;33m)\u001b[0m\u001b[1;33m\u001b[0m\u001b[1;33m\u001b[0m\u001b[0m\n\u001b[0m\u001b[0;32m    128\u001b[0m \u001b[1;33m\u001b[0m\u001b[0m\n\u001b[0;32m    129\u001b[0m     \u001b[1;32mreturn\u001b[0m \u001b[0mresult\u001b[0m\u001b[1;33m\u001b[0m\u001b[1;33m\u001b[0m\u001b[0m\n",
      "\u001b[1;32m~\\Anaconda3\\lib\\site-packages\\pandas\\core\\computation\\expressions.py\u001b[0m in \u001b[0;36m_evaluate_standard\u001b[1;34m(op, op_str, a, b, **eval_kwargs)\u001b[0m\n\u001b[0;32m     68\u001b[0m         \u001b[0m_store_test_result\u001b[0m\u001b[1;33m(\u001b[0m\u001b[1;32mFalse\u001b[0m\u001b[1;33m)\u001b[0m\u001b[1;33m\u001b[0m\u001b[1;33m\u001b[0m\u001b[0m\n\u001b[0;32m     69\u001b[0m     \u001b[1;32mwith\u001b[0m \u001b[0mnp\u001b[0m\u001b[1;33m.\u001b[0m\u001b[0merrstate\u001b[0m\u001b[1;33m(\u001b[0m\u001b[0mall\u001b[0m\u001b[1;33m=\u001b[0m\u001b[1;34m\"ignore\"\u001b[0m\u001b[1;33m)\u001b[0m\u001b[1;33m:\u001b[0m\u001b[1;33m\u001b[0m\u001b[1;33m\u001b[0m\u001b[0m\n\u001b[1;32m---> 70\u001b[1;33m         \u001b[1;32mreturn\u001b[0m \u001b[0mop\u001b[0m\u001b[1;33m(\u001b[0m\u001b[0ma\u001b[0m\u001b[1;33m,\u001b[0m \u001b[0mb\u001b[0m\u001b[1;33m)\u001b[0m\u001b[1;33m\u001b[0m\u001b[1;33m\u001b[0m\u001b[0m\n\u001b[0m\u001b[0;32m     71\u001b[0m \u001b[1;33m\u001b[0m\u001b[0m\n\u001b[0;32m     72\u001b[0m \u001b[1;33m\u001b[0m\u001b[0m\n",
      "\u001b[1;32m~\\Anaconda3\\lib\\site-packages\\pandas\\core\\ops\\__init__.py\u001b[0m in \u001b[0;36mcolumn_op\u001b[1;34m(a, b)\u001b[0m\n\u001b[0;32m    582\u001b[0m \u001b[1;33m\u001b[0m\u001b[0m\n\u001b[0;32m    583\u001b[0m         \u001b[1;32mdef\u001b[0m \u001b[0mcolumn_op\u001b[0m\u001b[1;33m(\u001b[0m\u001b[0ma\u001b[0m\u001b[1;33m,\u001b[0m \u001b[0mb\u001b[0m\u001b[1;33m)\u001b[0m\u001b[1;33m:\u001b[0m\u001b[1;33m\u001b[0m\u001b[1;33m\u001b[0m\u001b[0m\n\u001b[1;32m--> 584\u001b[1;33m             \u001b[1;32mreturn\u001b[0m \u001b[1;33m{\u001b[0m\u001b[0mi\u001b[0m\u001b[1;33m:\u001b[0m \u001b[0mfunc\u001b[0m\u001b[1;33m(\u001b[0m\u001b[0ma\u001b[0m\u001b[1;33m.\u001b[0m\u001b[0miloc\u001b[0m\u001b[1;33m[\u001b[0m\u001b[1;33m:\u001b[0m\u001b[1;33m,\u001b[0m \u001b[0mi\u001b[0m\u001b[1;33m]\u001b[0m\u001b[1;33m,\u001b[0m \u001b[0mb\u001b[0m\u001b[1;33m.\u001b[0m\u001b[0miloc\u001b[0m\u001b[1;33m[\u001b[0m\u001b[0mi\u001b[0m\u001b[1;33m]\u001b[0m\u001b[1;33m)\u001b[0m \u001b[1;32mfor\u001b[0m \u001b[0mi\u001b[0m \u001b[1;32min\u001b[0m \u001b[0mrange\u001b[0m\u001b[1;33m(\u001b[0m\u001b[0mlen\u001b[0m\u001b[1;33m(\u001b[0m\u001b[0ma\u001b[0m\u001b[1;33m.\u001b[0m\u001b[0mcolumns\u001b[0m\u001b[1;33m)\u001b[0m\u001b[1;33m)\u001b[0m\u001b[1;33m}\u001b[0m\u001b[1;33m\u001b[0m\u001b[1;33m\u001b[0m\u001b[0m\n\u001b[0m\u001b[0;32m    585\u001b[0m \u001b[1;33m\u001b[0m\u001b[0m\n\u001b[0;32m    586\u001b[0m     \u001b[1;32melif\u001b[0m \u001b[0misinstance\u001b[0m\u001b[1;33m(\u001b[0m\u001b[0mright\u001b[0m\u001b[1;33m,\u001b[0m \u001b[0mABCSeries\u001b[0m\u001b[1;33m)\u001b[0m\u001b[1;33m:\u001b[0m\u001b[1;33m\u001b[0m\u001b[1;33m\u001b[0m\u001b[0m\n",
      "\u001b[1;32m~\\Anaconda3\\lib\\site-packages\\pandas\\core\\ops\\__init__.py\u001b[0m in \u001b[0;36m<dictcomp>\u001b[1;34m(.0)\u001b[0m\n\u001b[0;32m    582\u001b[0m \u001b[1;33m\u001b[0m\u001b[0m\n\u001b[0;32m    583\u001b[0m         \u001b[1;32mdef\u001b[0m \u001b[0mcolumn_op\u001b[0m\u001b[1;33m(\u001b[0m\u001b[0ma\u001b[0m\u001b[1;33m,\u001b[0m \u001b[0mb\u001b[0m\u001b[1;33m)\u001b[0m\u001b[1;33m:\u001b[0m\u001b[1;33m\u001b[0m\u001b[1;33m\u001b[0m\u001b[0m\n\u001b[1;32m--> 584\u001b[1;33m             \u001b[1;32mreturn\u001b[0m \u001b[1;33m{\u001b[0m\u001b[0mi\u001b[0m\u001b[1;33m:\u001b[0m \u001b[0mfunc\u001b[0m\u001b[1;33m(\u001b[0m\u001b[0ma\u001b[0m\u001b[1;33m.\u001b[0m\u001b[0miloc\u001b[0m\u001b[1;33m[\u001b[0m\u001b[1;33m:\u001b[0m\u001b[1;33m,\u001b[0m \u001b[0mi\u001b[0m\u001b[1;33m]\u001b[0m\u001b[1;33m,\u001b[0m \u001b[0mb\u001b[0m\u001b[1;33m.\u001b[0m\u001b[0miloc\u001b[0m\u001b[1;33m[\u001b[0m\u001b[0mi\u001b[0m\u001b[1;33m]\u001b[0m\u001b[1;33m)\u001b[0m \u001b[1;32mfor\u001b[0m \u001b[0mi\u001b[0m \u001b[1;32min\u001b[0m \u001b[0mrange\u001b[0m\u001b[1;33m(\u001b[0m\u001b[0mlen\u001b[0m\u001b[1;33m(\u001b[0m\u001b[0ma\u001b[0m\u001b[1;33m.\u001b[0m\u001b[0mcolumns\u001b[0m\u001b[1;33m)\u001b[0m\u001b[1;33m)\u001b[0m\u001b[1;33m}\u001b[0m\u001b[1;33m\u001b[0m\u001b[1;33m\u001b[0m\u001b[0m\n\u001b[0m\u001b[0;32m    585\u001b[0m \u001b[1;33m\u001b[0m\u001b[0m\n\u001b[0;32m    586\u001b[0m     \u001b[1;32melif\u001b[0m \u001b[0misinstance\u001b[0m\u001b[1;33m(\u001b[0m\u001b[0mright\u001b[0m\u001b[1;33m,\u001b[0m \u001b[0mABCSeries\u001b[0m\u001b[1;33m)\u001b[0m\u001b[1;33m:\u001b[0m\u001b[1;33m\u001b[0m\u001b[1;33m\u001b[0m\u001b[0m\n",
      "\u001b[1;32m~\\Anaconda3\\lib\\site-packages\\pandas\\core\\ops\\__init__.py\u001b[0m in \u001b[0;36mwrapper\u001b[1;34m(left, right)\u001b[0m\n\u001b[0;32m   1046\u001b[0m \u001b[1;33m\u001b[0m\u001b[0m\n\u001b[0;32m   1047\u001b[0m         \u001b[1;32mwith\u001b[0m \u001b[0mnp\u001b[0m\u001b[1;33m.\u001b[0m\u001b[0merrstate\u001b[0m\u001b[1;33m(\u001b[0m\u001b[0mall\u001b[0m\u001b[1;33m=\u001b[0m\u001b[1;34m\"ignore\"\u001b[0m\u001b[1;33m)\u001b[0m\u001b[1;33m:\u001b[0m\u001b[1;33m\u001b[0m\u001b[1;33m\u001b[0m\u001b[0m\n\u001b[1;32m-> 1048\u001b[1;33m             \u001b[0mresult\u001b[0m \u001b[1;33m=\u001b[0m \u001b[0mna_op\u001b[0m\u001b[1;33m(\u001b[0m\u001b[0mlvalues\u001b[0m\u001b[1;33m,\u001b[0m \u001b[0mrvalues\u001b[0m\u001b[1;33m)\u001b[0m\u001b[1;33m\u001b[0m\u001b[1;33m\u001b[0m\u001b[0m\n\u001b[0m\u001b[0;32m   1049\u001b[0m         return construct_result(\n\u001b[0;32m   1050\u001b[0m             \u001b[0mleft\u001b[0m\u001b[1;33m,\u001b[0m \u001b[0mresult\u001b[0m\u001b[1;33m,\u001b[0m \u001b[0mindex\u001b[0m\u001b[1;33m=\u001b[0m\u001b[0mleft\u001b[0m\u001b[1;33m.\u001b[0m\u001b[0mindex\u001b[0m\u001b[1;33m,\u001b[0m \u001b[0mname\u001b[0m\u001b[1;33m=\u001b[0m\u001b[0mres_name\u001b[0m\u001b[1;33m,\u001b[0m \u001b[0mdtype\u001b[0m\u001b[1;33m=\u001b[0m\u001b[1;32mNone\u001b[0m\u001b[1;33m\u001b[0m\u001b[1;33m\u001b[0m\u001b[0m\n",
      "\u001b[1;32m~\\Anaconda3\\lib\\site-packages\\pandas\\core\\ops\\__init__.py\u001b[0m in \u001b[0;36mna_op\u001b[1;34m(x, y)\u001b[0m\n\u001b[0;32m    968\u001b[0m             \u001b[0mresult\u001b[0m \u001b[1;33m=\u001b[0m \u001b[0mexpressions\u001b[0m\u001b[1;33m.\u001b[0m\u001b[0mevaluate\u001b[0m\u001b[1;33m(\u001b[0m\u001b[0mop\u001b[0m\u001b[1;33m,\u001b[0m \u001b[0mstr_rep\u001b[0m\u001b[1;33m,\u001b[0m \u001b[0mx\u001b[0m\u001b[1;33m,\u001b[0m \u001b[0my\u001b[0m\u001b[1;33m,\u001b[0m \u001b[1;33m**\u001b[0m\u001b[0meval_kwargs\u001b[0m\u001b[1;33m)\u001b[0m\u001b[1;33m\u001b[0m\u001b[1;33m\u001b[0m\u001b[0m\n\u001b[0;32m    969\u001b[0m         \u001b[1;32mexcept\u001b[0m \u001b[0mTypeError\u001b[0m\u001b[1;33m:\u001b[0m\u001b[1;33m\u001b[0m\u001b[1;33m\u001b[0m\u001b[0m\n\u001b[1;32m--> 970\u001b[1;33m             \u001b[0mresult\u001b[0m \u001b[1;33m=\u001b[0m \u001b[0mmasked_arith_op\u001b[0m\u001b[1;33m(\u001b[0m\u001b[0mx\u001b[0m\u001b[1;33m,\u001b[0m \u001b[0my\u001b[0m\u001b[1;33m,\u001b[0m \u001b[0mop\u001b[0m\u001b[1;33m)\u001b[0m\u001b[1;33m\u001b[0m\u001b[1;33m\u001b[0m\u001b[0m\n\u001b[0m\u001b[0;32m    971\u001b[0m \u001b[1;33m\u001b[0m\u001b[0m\n\u001b[0;32m    972\u001b[0m         \u001b[1;32mreturn\u001b[0m \u001b[0mmissing\u001b[0m\u001b[1;33m.\u001b[0m\u001b[0mdispatch_fill_zeros\u001b[0m\u001b[1;33m(\u001b[0m\u001b[0mop\u001b[0m\u001b[1;33m,\u001b[0m \u001b[0mx\u001b[0m\u001b[1;33m,\u001b[0m \u001b[0my\u001b[0m\u001b[1;33m,\u001b[0m \u001b[0mresult\u001b[0m\u001b[1;33m)\u001b[0m\u001b[1;33m\u001b[0m\u001b[1;33m\u001b[0m\u001b[0m\n",
      "\u001b[1;32m~\\Anaconda3\\lib\\site-packages\\pandas\\core\\ops\\__init__.py\u001b[0m in \u001b[0;36mmasked_arith_op\u001b[1;34m(x, y, op)\u001b[0m\n\u001b[0;32m    462\u001b[0m         \u001b[1;32mif\u001b[0m \u001b[0mmask\u001b[0m\u001b[1;33m.\u001b[0m\u001b[0many\u001b[0m\u001b[1;33m(\u001b[0m\u001b[1;33m)\u001b[0m\u001b[1;33m:\u001b[0m\u001b[1;33m\u001b[0m\u001b[1;33m\u001b[0m\u001b[0m\n\u001b[0;32m    463\u001b[0m             \u001b[1;32mwith\u001b[0m \u001b[0mnp\u001b[0m\u001b[1;33m.\u001b[0m\u001b[0merrstate\u001b[0m\u001b[1;33m(\u001b[0m\u001b[0mall\u001b[0m\u001b[1;33m=\u001b[0m\u001b[1;34m\"ignore\"\u001b[0m\u001b[1;33m)\u001b[0m\u001b[1;33m:\u001b[0m\u001b[1;33m\u001b[0m\u001b[1;33m\u001b[0m\u001b[0m\n\u001b[1;32m--> 464\u001b[1;33m                 \u001b[0mresult\u001b[0m\u001b[1;33m[\u001b[0m\u001b[0mmask\u001b[0m\u001b[1;33m]\u001b[0m \u001b[1;33m=\u001b[0m \u001b[0mop\u001b[0m\u001b[1;33m(\u001b[0m\u001b[0mxrav\u001b[0m\u001b[1;33m[\u001b[0m\u001b[0mmask\u001b[0m\u001b[1;33m]\u001b[0m\u001b[1;33m,\u001b[0m \u001b[0my\u001b[0m\u001b[1;33m)\u001b[0m\u001b[1;33m\u001b[0m\u001b[1;33m\u001b[0m\u001b[0m\n\u001b[0m\u001b[0;32m    465\u001b[0m \u001b[1;33m\u001b[0m\u001b[0m\n\u001b[0;32m    466\u001b[0m     \u001b[0mresult\u001b[0m\u001b[1;33m,\u001b[0m \u001b[0mchanged\u001b[0m \u001b[1;33m=\u001b[0m \u001b[0mmaybe_upcast_putmask\u001b[0m\u001b[1;33m(\u001b[0m\u001b[0mresult\u001b[0m\u001b[1;33m,\u001b[0m \u001b[1;33m~\u001b[0m\u001b[0mmask\u001b[0m\u001b[1;33m,\u001b[0m \u001b[0mnp\u001b[0m\u001b[1;33m.\u001b[0m\u001b[0mnan\u001b[0m\u001b[1;33m)\u001b[0m\u001b[1;33m\u001b[0m\u001b[1;33m\u001b[0m\u001b[0m\n",
      "\u001b[1;31mTypeError\u001b[0m: unsupported operand type(s) for /: 'str' and 'float'"
     ]
    }
   ],
   "source": [
    "\n",
    "\n",
    "np.sum((nameamount/np.sum(nameamount)*100).head(53))\n",
    "\n",
    "len(nameamount)\n",
    "\n",
    "53/1604*100\n",
    "\n",
    "\n"
   ]
  },
  {
   "cell_type": "markdown",
   "metadata": {},
   "source": [
    "# 2) Industry Vertical"
   ]
  },
  {
   "cell_type": "code",
   "execution_count": null,
   "metadata": {},
   "outputs": [],
   "source": [
    "#Percentage of null values in dataframe\n",
    "len(df[df['IndustryVertical'].isnull()==True])/len(df['IndustryVertical'])*100"
   ]
  },
  {
   "cell_type": "code",
   "execution_count": null,
   "metadata": {},
   "outputs": [],
   "source": [
    "#Industries that recieved funding more than 3 times\n",
    "df_train['IndustryVertical'].value_counts()[df_train['IndustryVertical'].value_counts()>3]"
   ]
  },
  {
   "cell_type": "code",
   "execution_count": null,
   "metadata": {},
   "outputs": [],
   "source": [
    "#Top 3 industries with most frequent funding recieved\n",
    "(df_train['IndustryVertical'].value_counts()/len(df_train['IndustryVertical'])*100)[0:3]\n",
    "\n",
    "x_barindustry=np.array(['consumer internet','technology','ecommerce','other 2369'])     \n",
    "y_barindustry=np.array([30.229508,12.393443,9.770492,47.6])\n",
    "\n",
    "plt.figure(figsize=(10,8))\n",
    "sns.barplot(x_barindustry,y_barindustry,color='skyblue')\n",
    "plt.xticks(rotation='vertical',fontsize=15)\n",
    "plt.xlabel('Industry', fontsize=20)\n",
    "plt.ylabel('Number of funding', fontsize=18)\n",
    "plt.title(\"Percentage of fundding according to industry\", fontsize=20)\n",
    "\n",
    "plt.show()\n",
    "\n",
    "#Comparing investments of top 3 industries vs the rest\n",
    "x_barindustry_top3=np.array(['top3','other 2369'])     \n",
    "y_barindustry_top3=np.array([53.4,47.6])\n",
    "\n",
    "\n",
    "plt.figure(figsize=(8,6))\n",
    "sns.barplot(x_barindustry_top3,y_barindustry_top3,color='skyblue')\n",
    "plt.xticks(rotation='vertical',fontsize=15)\n",
    "plt.xlabel('Industry', fontsize=20)\n",
    "plt.ylabel('Number of funding', fontsize=18)\n",
    "plt.title(\"Percentage of funding according to industry\", fontsize=20)\n",
    "\n",
    "plt.show()"
   ]
  },
  {
   "cell_type": "code",
   "execution_count": null,
   "metadata": {},
   "outputs": [],
   "source": [
    "#Creating new dataframe with the industry name and amount invested in respective industries\n",
    "indamount=df_train[['IndustryVertical','AmountinUSD']]\n",
    "\n",
    "#Grouping the dataframe according to industries and sorting it according to the amount invested\n",
    "indamount=indamount.groupby('IndustryVertical').sum().sort_values(by='AmountinUSD',ascending=False)\n",
    "\n",
    "#How much investment is done in how many of industries?\n",
    "np.sum((indamount/indamount.sum()*100).head(9))\n",
    "\n",
    "len(indamount)\n",
    "\n",
    "9/508*100"
   ]
  },
  {
   "cell_type": "code",
   "execution_count": null,
   "metadata": {},
   "outputs": [],
   "source": [
    "indamount.sum()"
   ]
  },
  {
   "cell_type": "code",
   "execution_count": null,
   "metadata": {},
   "outputs": [],
   "source": []
  },
  {
   "cell_type": "code",
   "execution_count": null,
   "metadata": {},
   "outputs": [],
   "source": [
    "plot_gross1 = pd.DataFrame(df.groupby(['CityLocation'])['AmountinUSD'].max().sort_values(ascending=False)[:10]).reset_index()\n",
    "plot_gross1 = plot_gross1[plot_gross1['AmountinUSD'] > 0]  \n",
    "plot_gross1.head(10)\n",
    "plt.subplots(figsize=(10,7))\n",
    "sns.barplot(x='CityLocation',y='AmountinUSD',data=plot_gross1,palette='rainbow', )\n",
    "plt.ylabel('Amount In USDl($)', fontsize=20)\n",
    "plt.xticks(rotation=90,fontsize=20)\n",
    "plt.xlabel('CityLocation', fontsize=20)\n",
    "plt.title('CityLocation with highest Amount In USD', fontsize=20)\n",
    "plt.show()"
   ]
  },
  {
   "cell_type": "code",
   "execution_count": 84,
   "metadata": {},
   "outputs": [
    {
     "name": "stdout",
     "output_type": "stream",
     "text": [
      "Collecting cartoframes\n",
      "  Downloading https://files.pythonhosted.org/packages/6b/94/fe9e27fd12434766f29eddc6d225f1fe1729f649c732587ac1bc7ec783e9/cartoframes-1.0.4-py2.py3-none-any.whl (256kB)\n",
      "Requirement already satisfied: tqdm<5.0,>=4.32.1 in c:\\users\\mandar\\anaconda3\\lib\\site-packages (from cartoframes) (4.36.1)\n",
      "Requirement already satisfied: pandas>=0.25.0 in c:\\users\\mandar\\anaconda3\\lib\\site-packages (from cartoframes) (0.25.1)\n",
      "Collecting geopandas<1.0,>=0.6.0 (from cartoframes)\n",
      "  Downloading https://files.pythonhosted.org/packages/f7/a4/e66aafbefcbb717813bf3a355c8c4fc3ed04ea1dd7feb2920f2f4f868921/geopandas-0.8.1-py2.py3-none-any.whl (962kB)\n",
      "Collecting google-cloud-bigquery==1.22.0 (from cartoframes)\n",
      "  Downloading https://files.pythonhosted.org/packages/61/b1/51d389b239ce882866f28f027f7b1b9b0aa91f8b87fc9e168141719a002b/google_cloud_bigquery-1.22.0-py2.py3-none-any.whl (161kB)\n",
      "Collecting appdirs<2.0,>=1.4.3 (from cartoframes)\n",
      "  Downloading https://files.pythonhosted.org/packages/3b/00/2344469e2084fb287c2e0b57b72910309874c3245463acd6cf5e3db69324/appdirs-1.4.4-py2.py3-none-any.whl\n",
      "Collecting carto<2.0,>=1.11.1 (from cartoframes)\n",
      "  Downloading https://files.pythonhosted.org/packages/b9/45/6c946ecc3312fd8eb08b1c4b540e0afbae6bf986984d9bf8d7314e4c78ab/carto-1.11.1.tar.gz\n",
      "Collecting google-cloud-bigquery-storage==0.7.0 (from cartoframes)\n",
      "  Downloading https://files.pythonhosted.org/packages/bf/48/b42fc39a4141a9493a969d81fb2f9f75d089d5eeedabe912c22ec8a31f4d/google_cloud_bigquery_storage-0.7.0-py2.py3-none-any.whl (55kB)\n",
      "Collecting fastavro==0.22.7 (from cartoframes)\n",
      "  Downloading https://files.pythonhosted.org/packages/bb/8d/944f6db3c2af05c7d3d6deaa3d9e0b554a4f59de4d24e99ca1bcdc48d704/fastavro-0.22.7-cp37-cp37m-win_amd64.whl (346kB)\n",
      "Collecting google-cloud-storage==1.23.0 (from cartoframes)\n",
      "  Downloading https://files.pythonhosted.org/packages/87/78/7cf94b3d0961b1a3036ba351c7fdc04170baa73d20fcb41240da214c83fd/google_cloud_storage-1.23.0-py2.py3-none-any.whl (72kB)\n",
      "Collecting unidecode<2.0,>=1.1.0 (from cartoframes)\n",
      "  Downloading https://files.pythonhosted.org/packages/d0/42/d9edfed04228bacea2d824904cae367ee9efd05e6cce7ceaaedd0b0ad964/Unidecode-1.1.1-py2.py3-none-any.whl (238kB)\n",
      "Requirement already satisfied: jinja2<3.0,>=2.10.1 in c:\\users\\mandar\\anaconda3\\lib\\site-packages (from cartoframes) (2.10.3)\n",
      "Collecting semantic-version<3,>=2.8.0 (from cartoframes)\n",
      "  Downloading https://files.pythonhosted.org/packages/a5/15/00ef3b7888a10363b7c402350eda3acf395ff05bebae312d1296e528516a/semantic_version-2.8.5-py2.py3-none-any.whl\n",
      "Requirement already satisfied: pytz>=2017.2 in c:\\users\\mandar\\anaconda3\\lib\\site-packages (from pandas>=0.25.0->cartoframes) (2019.3)\n",
      "Requirement already satisfied: python-dateutil>=2.6.1 in c:\\users\\mandar\\anaconda3\\lib\\site-packages (from pandas>=0.25.0->cartoframes) (2.8.0)\n",
      "Requirement already satisfied: numpy>=1.13.3 in c:\\users\\mandar\\anaconda3\\lib\\site-packages (from pandas>=0.25.0->cartoframes) (1.16.5)\n",
      "Requirement already satisfied: shapely in c:\\users\\mandar\\anaconda3\\lib\\site-packages (from geopandas<1.0,>=0.6.0->cartoframes) (1.7.0)\n",
      "Collecting fiona (from geopandas<1.0,>=0.6.0->cartoframes)\n",
      "  Downloading https://files.pythonhosted.org/packages/88/62/69347ba2c41b526e1953c4cb66d51170b2869808863c03af202ba0121670/Fiona-1.8.17.tar.gz (1.3MB)\n",
      "Note: you may need to restart the kernel to use updated packages.\n"
     ]
    },
    {
     "name": "stderr",
     "output_type": "stream",
     "text": [
      "    ERROR: Command errored out with exit status 1:\n",
      "     command: 'C:\\Users\\Mandar\\Anaconda3\\python.exe' -c 'import sys, setuptools, tokenize; sys.argv[0] = '\"'\"'C:\\\\Users\\\\Mandar\\\\AppData\\\\Local\\\\Temp\\\\pip-install-tehuujc7\\\\fiona\\\\setup.py'\"'\"'; __file__='\"'\"'C:\\\\Users\\\\Mandar\\\\AppData\\\\Local\\\\Temp\\\\pip-install-tehuujc7\\\\fiona\\\\setup.py'\"'\"';f=getattr(tokenize, '\"'\"'open'\"'\"', open)(__file__);code=f.read().replace('\"'\"'\\r\\n'\"'\"', '\"'\"'\\n'\"'\"');f.close();exec(compile(code, __file__, '\"'\"'exec'\"'\"'))' egg_info --egg-base pip-egg-info\n",
      "         cwd: C:\\Users\\Mandar\\AppData\\Local\\Temp\\pip-install-tehuujc7\\fiona\\\n",
      "    Complete output (1 lines):\n",
      "    A GDAL API version must be specified. Provide a path to gdal-config using a GDAL_CONFIG environment variable or use a GDAL_VERSION environment variable.\n",
      "    ----------------------------------------\n",
      "ERROR: Command errored out with exit status 1: python setup.py egg_info Check the logs for full command output.\n"
     ]
    }
   ],
   "source": [
    "pip install cartoframes\n"
   ]
  },
  {
   "cell_type": "code",
   "execution_count": null,
   "metadata": {},
   "outputs": [],
   "source": []
  }
 ],
 "metadata": {
  "kernelspec": {
   "display_name": "Python 3",
   "language": "python",
   "name": "python3"
  },
  "language_info": {
   "codemirror_mode": {
    "name": "ipython",
    "version": 3
   },
   "file_extension": ".py",
   "mimetype": "text/x-python",
   "name": "python",
   "nbconvert_exporter": "python",
   "pygments_lexer": "ipython3",
   "version": "3.8.3"
  }
 },
 "nbformat": 4,
 "nbformat_minor": 2
}
